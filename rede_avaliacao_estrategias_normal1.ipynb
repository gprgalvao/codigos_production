{
 "cells": [
  {
   "cell_type": "markdown",
   "metadata": {},
   "source": [
    "# Código testando as estratégias de divisão dos dados sem fine-tuning"
   ]
  },
  {
   "cell_type": "markdown",
   "metadata": {},
   "source": [
    "100 épocas.\n",
    "Usando Shuffle = False em tudo e sem semente"
   ]
  },
  {
   "cell_type": "markdown",
   "metadata": {},
   "source": [
    "Neste código serão criados 3 modelos usando 3 estratégias diferentes. Os modelos serão treinados, validados e testados usando  o dataset Supermarket Produce (ROCHA et al., 2010).\n",
    "\n",
    "As estratégias serão as seguintes:\n",
    "- 1ª estratégia (2_est): 50% do dataset para treino e 50% para teste;\n",
    "- 2ª estratégia (3_est): 70% do dataset para treino e 30% para teste;\n",
    "- 3ª estratégia (4_est): 80% do dataset para treino e 20% para teste."
   ]
  },
  {
   "cell_type": "code",
   "execution_count": 1,
   "metadata": {},
   "outputs": [
    {
     "name": "stdout",
     "output_type": "stream",
     "text": [
      "Versão do TensorFlow: 2.5.0\n",
      "versão do Keras: 2.5.0\n"
     ]
    }
   ],
   "source": [
    "import tensorflow as tf\n",
    "print(\"Versão do TensorFlow:\", tf.__version__)\n",
    "\n",
    "from tensorflow import keras\n",
    "print(\"versão do Keras:\", keras.__version__)\n",
    "\n",
    "# IMPORTANDO COMANDOS E FUNÇÕES #\n",
    "\n",
    "import numpy             as np\n",
    "import h5py\n",
    "import matplotlib.pyplot as plt #gerar gráfico\n",
    "import os\n",
    "from keras.preprocessing.image import ImageDataGenerator\n",
    "from keras.callbacks           import EarlyStopping\n",
    "\n",
    "from sklearn.metrics import classification_report, confusion_matrix, balanced_accuracy_score, accuracy_score\n",
    "\n",
    "import pickle\n",
    "\n",
    "# IMPORTANDO LAYERS PARA A CNN #\n",
    "\n",
    "from keras.models import Sequential\n",
    "from keras        import layers\n",
    "from keras.layers import Dropout"
   ]
  },
  {
   "cell_type": "code",
   "execution_count": 2,
   "metadata": {},
   "outputs": [
    {
     "name": "stdout",
     "output_type": "stream",
     "text": [
      "versao do h5py: 3.1.0\n"
     ]
    }
   ],
   "source": [
    "print(\"versao do h5py:\", h5py.__version__)"
   ]
  },
  {
   "cell_type": "code",
   "execution_count": 3,
   "metadata": {},
   "outputs": [],
   "source": [
    "# MONTANDO A ESTRUTURA DA CNN #\n",
    "\n",
    "modelo = Sequential()\n",
    "modelo.add(layers.Conv2D(32, (3, 3), activation='relu', input_shape=(100, 100, 3)))\n",
    "modelo.add(layers.MaxPooling2D((2, 2)))\n",
    "modelo.add(Dropout(0.5)) # dropout de 50%\n",
    "modelo.add(layers.Conv2D(64, (3, 3), activation='relu'))\n",
    "modelo.add(layers.MaxPooling2D((2, 2)))\n",
    "modelo.add(Dropout(0.5))\n",
    "modelo.add(layers.Conv2D(64, (3, 3), activation='relu'))\n",
    "modelo.add(layers.MaxPooling2D((2, 2)))\n",
    "modelo.add(Dropout(0.5))\n",
    "\n",
    "modelo.add(layers.Flatten()) # camada de achatamento\n",
    "modelo.add(layers.Dense(64, activation='relu'))\n",
    "modelo.add(Dropout(0.5))\n",
    "modelo.add(layers.Dense(units = 11, activation = 'softmax')) # 11 unidades de saída (11 classes)"
   ]
  },
  {
   "cell_type": "code",
   "execution_count": 4,
   "metadata": {},
   "outputs": [
    {
     "name": "stdout",
     "output_type": "stream",
     "text": [
      "Model: \"sequential\"\n",
      "_________________________________________________________________\n",
      "Layer (type)                 Output Shape              Param #   \n",
      "=================================================================\n",
      "conv2d (Conv2D)              (None, 98, 98, 32)        896       \n",
      "_________________________________________________________________\n",
      "max_pooling2d (MaxPooling2D) (None, 49, 49, 32)        0         \n",
      "_________________________________________________________________\n",
      "dropout (Dropout)            (None, 49, 49, 32)        0         \n",
      "_________________________________________________________________\n",
      "conv2d_1 (Conv2D)            (None, 47, 47, 64)        18496     \n",
      "_________________________________________________________________\n",
      "max_pooling2d_1 (MaxPooling2 (None, 23, 23, 64)        0         \n",
      "_________________________________________________________________\n",
      "dropout_1 (Dropout)          (None, 23, 23, 64)        0         \n",
      "_________________________________________________________________\n",
      "conv2d_2 (Conv2D)            (None, 21, 21, 64)        36928     \n",
      "_________________________________________________________________\n",
      "max_pooling2d_2 (MaxPooling2 (None, 10, 10, 64)        0         \n",
      "_________________________________________________________________\n",
      "dropout_2 (Dropout)          (None, 10, 10, 64)        0         \n",
      "_________________________________________________________________\n",
      "flatten (Flatten)            (None, 6400)              0         \n",
      "_________________________________________________________________\n",
      "dense (Dense)                (None, 64)                409664    \n",
      "_________________________________________________________________\n",
      "dropout_3 (Dropout)          (None, 64)                0         \n",
      "_________________________________________________________________\n",
      "dense_1 (Dense)              (None, 11)                715       \n",
      "=================================================================\n",
      "Total params: 466,699\n",
      "Trainable params: 466,699\n",
      "Non-trainable params: 0\n",
      "_________________________________________________________________\n"
     ]
    }
   ],
   "source": [
    "modelo.summary() # resumo da estrutura, com os parâmetros ajustáveis"
   ]
  },
  {
   "cell_type": "code",
   "execution_count": 5,
   "metadata": {},
   "outputs": [
    {
     "name": "stdout",
     "output_type": "stream",
     "text": [
      "WARNING:tensorflow:Compiled the loaded model, but the compiled metrics have yet to be built. `model.compile_metrics` will be empty until you train or evaluate the model.\n"
     ]
    }
   ],
   "source": [
    "modelo.save('model_base.h5',\n",
    "          overwrite = True) "
   ]
  },
  {
   "cell_type": "code",
   "execution_count": 6,
   "metadata": {},
   "outputs": [
    {
     "name": "stdout",
     "output_type": "stream",
     "text": [
      "Criando particionamento\n",
      "\t 492 \t+ 164 \t= 656 \t -> apple1\n",
      "\t 492 \t+ 164 \t= 656 \t -> granny_smith_apple\n",
      "\t 466 \t+ 156 \t= 622 \t -> kiwi\n",
      "\t 492 \t+ 164 \t= 656 \t -> lime\n",
      "\t 492 \t+ 164 \t= 656 \t -> nectarine\n",
      "\t 438 \t+ 146 \t= 584 \t -> onion\n",
      "\t 492 \t+ 164 \t= 656 \t -> peach\n",
      "\t 492 \t+ 164 \t= 656 \t -> pear\n",
      "\t 421 \t+ 141 \t= 562 \t -> plum\n",
      "\t 450 \t+ 150 \t= 600 \t -> potato\n",
      "\t 474 \t+ 158 \t= 632 \t -> watermelon\n",
      "Particionamento criado com sucesso!\n"
     ]
    }
   ],
   "source": [
    "# Importando a função (criada pelo Gustavo) que faz a separação dos dados em treino e teste\n",
    "\n",
    "from functions_extras_v2 import criar_treino_teste"
   ]
  },
  {
   "cell_type": "markdown",
   "metadata": {},
   "source": [
    "## Primeira estratégia: 50% treino 50% teste"
   ]
  },
  {
   "cell_type": "code",
   "execution_count": 7,
   "metadata": {},
   "outputs": [
    {
     "name": "stdout",
     "output_type": "stream",
     "text": [
      "WARNING:tensorflow:No training configuration found in the save file, so the model was *not* compiled. Compile it manually.\n"
     ]
    }
   ],
   "source": [
    "# Puxando a estrutura base da rede\n",
    "\n",
    "model_n1 = keras.models.load_model('model_base.h5')"
   ]
  },
  {
   "cell_type": "code",
   "execution_count": 8,
   "metadata": {},
   "outputs": [],
   "source": [
    "model_n1.compile(optimizer='adam',\n",
    "              loss=tf.keras.losses.CategoricalCrossentropy(\n",
    "                  from_logits=False,\n",
    "                  label_smoothing=0,                            #configurações da função loss\n",
    "                  reduction=\"auto\",\n",
    "                  name=\"categorical_crossentropy\"),\n",
    "              metrics=['accuracy'])"
   ]
  },
  {
   "cell_type": "code",
   "execution_count": 9,
   "metadata": {},
   "outputs": [
    {
     "name": "stdout",
     "output_type": "stream",
     "text": [
      "Criando particionamento\n",
      "\t 106 \t+ 106 \t= 212 \t -> apple1\n",
      "\t 77 \t+ 78 \t= 155 \t -> granny_smith_apple\n",
      "\t 85 \t+ 86 \t= 171 \t -> kiwi\n",
      "\t 53 \t+ 53 \t= 106 \t -> lime\n",
      "\t 123 \t+ 124 \t= 247 \t -> nectarine\n",
      "\t 37 \t+ 38 \t= 75 \t -> onion\n",
      "\t 105 \t+ 106 \t= 211 \t -> peach\n",
      "\t 79 \t+ 80 \t= 159 \t -> pear\n",
      "\t 132 \t+ 132 \t= 264 \t -> plum\n",
      "\t 100 \t+ 101 \t= 201 \t -> potato\n",
      "\t 96 \t+ 96 \t= 192 \t -> watermelon\n",
      "Particionamento criado com sucesso!\n"
     ]
    }
   ],
   "source": [
    "criar_treino_teste('./dataset_smkt/', 0.5)"
   ]
  },
  {
   "cell_type": "code",
   "execution_count": 10,
   "metadata": {},
   "outputs": [
    {
     "name": "stdout",
     "output_type": "stream",
     "text": [
      "Found 748 images belonging to 11 classes.\n",
      "Found 245 images belonging to 11 classes.\n"
     ]
    }
   ],
   "source": [
    "# DIVIDIR AS IMAGENS EM PARTIÇÃO DE TREINO E VALIDAÇÃO, UTILIZANDO O IMAGEDATAGENERATOR #\n",
    "\n",
    "datagen =  ImageDataGenerator(rescale = 1./255, validation_split=0.25) # comando para reescala + divisão em 20% para validação\n",
    "\n",
    "# imagens de treino (75%) \n",
    "\n",
    "train_data = datagen.flow_from_directory('dataset_smkt/train', \n",
    "                                         subset = 'training',\n",
    "                                         batch_size = 64,\n",
    "                                         shuffle = False,\n",
    "                                         target_size = (100, 100)) # definindo tamanho das imagens\n",
    "\n",
    "# imagens de validação (25%)\n",
    "\n",
    "valid_data = datagen.flow_from_directory('dataset_smkt/train',\n",
    "                                         subset = 'validation',\n",
    "                                         batch_size = 64,\n",
    "                                         shuffle = False,\n",
    "                                         target_size = (100, 100))"
   ]
  },
  {
   "cell_type": "code",
   "execution_count": 11,
   "metadata": {
    "scrolled": false
   },
   "outputs": [
    {
     "name": "stdout",
     "output_type": "stream",
     "text": [
      "Epoch 1/100\n",
      "12/12 [==============================] - 15s 1s/step - loss: 3.5047 - accuracy: 0.0468 - val_loss: 2.3975 - val_accuracy: 0.0694\n",
      "Epoch 2/100\n",
      "12/12 [==============================] - 15s 1s/step - loss: 2.3987 - accuracy: 0.1110 - val_loss: 2.3969 - val_accuracy: 0.1347\n",
      "Epoch 3/100\n",
      "12/12 [==============================] - 16s 1s/step - loss: 2.3968 - accuracy: 0.0963 - val_loss: 2.3966 - val_accuracy: 0.1347\n",
      "Epoch 4/100\n",
      "12/12 [==============================] - 16s 1s/step - loss: 2.3968 - accuracy: 0.1190 - val_loss: 2.3960 - val_accuracy: 0.1347\n",
      "Epoch 5/100\n",
      "12/12 [==============================] - 15s 1s/step - loss: 2.3959 - accuracy: 0.1083 - val_loss: 2.3954 - val_accuracy: 0.1347\n",
      "Epoch 6/100\n",
      "12/12 [==============================] - 17s 1s/step - loss: 2.3948 - accuracy: 0.1297 - val_loss: 2.3950 - val_accuracy: 0.1347\n",
      "Epoch 7/100\n",
      "12/12 [==============================] - 18s 1s/step - loss: 2.3939 - accuracy: 0.1029 - val_loss: 2.3944 - val_accuracy: 0.1347\n",
      "Epoch 8/100\n",
      "12/12 [==============================] - 17s 1s/step - loss: 2.3922 - accuracy: 0.1029 - val_loss: 2.3904 - val_accuracy: 0.1347\n",
      "Epoch 9/100\n",
      "12/12 [==============================] - 17s 1s/step - loss: 2.3929 - accuracy: 0.1283 - val_loss: 2.3934 - val_accuracy: 0.1347\n",
      "Epoch 10/100\n",
      "12/12 [==============================] - 17s 1s/step - loss: 2.3711 - accuracy: 0.1123 - val_loss: 2.3731 - val_accuracy: 0.1347\n",
      "Epoch 11/100\n",
      "12/12 [==============================] - 16s 1s/step - loss: 2.3599 - accuracy: 0.1043 - val_loss: 2.3443 - val_accuracy: 0.1224\n",
      "Epoch 12/100\n",
      "12/12 [==============================] - 15s 1s/step - loss: 2.3458 - accuracy: 0.1377 - val_loss: 2.3925 - val_accuracy: 0.1347\n",
      "Epoch 13/100\n",
      "12/12 [==============================] - 16s 1s/step - loss: 2.3938 - accuracy: 0.1457 - val_loss: 2.3924 - val_accuracy: 0.1347\n",
      "Epoch 14/100\n",
      "12/12 [==============================] - 16s 1s/step - loss: 2.3929 - accuracy: 0.1043 - val_loss: 2.3902 - val_accuracy: 0.1020\n",
      "Epoch 15/100\n",
      "12/12 [==============================] - 16s 1s/step - loss: 2.4023 - accuracy: 0.0963 - val_loss: 2.3901 - val_accuracy: 0.1714\n",
      "Epoch 16/100\n",
      "12/12 [==============================] - 15s 1s/step - loss: 2.3932 - accuracy: 0.0856 - val_loss: 2.3908 - val_accuracy: 0.1347\n",
      "Epoch 17/100\n",
      "12/12 [==============================] - 16s 1s/step - loss: 2.3891 - accuracy: 0.1176 - val_loss: 2.3905 - val_accuracy: 0.1347\n",
      "Epoch 18/100\n",
      "12/12 [==============================] - 16s 1s/step - loss: 2.3880 - accuracy: 0.1230 - val_loss: 2.3900 - val_accuracy: 0.1347\n",
      "Epoch 19/100\n",
      "12/12 [==============================] - 15s 1s/step - loss: 2.3874 - accuracy: 0.1390 - val_loss: 2.3882 - val_accuracy: 0.1347\n",
      "Epoch 20/100\n",
      "12/12 [==============================] - 15s 1s/step - loss: 2.3962 - accuracy: 0.0949 - val_loss: 2.3861 - val_accuracy: 0.1633\n",
      "Epoch 21/100\n",
      "12/12 [==============================] - 16s 1s/step - loss: 2.3895 - accuracy: 0.1136 - val_loss: 2.3881 - val_accuracy: 0.1347\n",
      "Epoch 22/100\n",
      "12/12 [==============================] - 16s 1s/step - loss: 2.3827 - accuracy: 0.1217 - val_loss: 2.3884 - val_accuracy: 0.1347\n",
      "Epoch 23/100\n",
      "12/12 [==============================] - 15s 1s/step - loss: 2.3846 - accuracy: 0.1123 - val_loss: 2.3820 - val_accuracy: 0.1061\n",
      "Epoch 24/100\n",
      "12/12 [==============================] - 15s 1s/step - loss: 2.3773 - accuracy: 0.1150 - val_loss: 2.3814 - val_accuracy: 0.1143\n",
      "Epoch 25/100\n",
      "12/12 [==============================] - 16s 1s/step - loss: 2.3911 - accuracy: 0.0856 - val_loss: 2.3771 - val_accuracy: 0.1061\n",
      "Epoch 26/100\n",
      "12/12 [==============================] - 16s 1s/step - loss: 2.3753 - accuracy: 0.1270 - val_loss: 2.3847 - val_accuracy: 0.1347\n",
      "Epoch 27/100\n",
      "12/12 [==============================] - 15s 1s/step - loss: 2.3776 - accuracy: 0.1083 - val_loss: 2.3865 - val_accuracy: 0.1347\n",
      "Epoch 28/100\n",
      "12/12 [==============================] - 15s 1s/step - loss: 2.3747 - accuracy: 0.1176 - val_loss: 2.3655 - val_accuracy: 0.2082\n",
      "Epoch 29/100\n",
      "12/12 [==============================] - 16s 1s/step - loss: 2.3624 - accuracy: 0.1350 - val_loss: 2.3438 - val_accuracy: 0.2204\n",
      "Epoch 30/100\n",
      "12/12 [==============================] - 16s 1s/step - loss: 2.3461 - accuracy: 0.1029 - val_loss: 2.3373 - val_accuracy: 0.1306\n",
      "Epoch 31/100\n",
      "12/12 [==============================] - 15s 1s/step - loss: 2.4148 - accuracy: 0.1725 - val_loss: 2.3847 - val_accuracy: 0.1347\n",
      "Epoch 32/100\n",
      "12/12 [==============================] - 15s 1s/step - loss: 2.3856 - accuracy: 0.1417 - val_loss: 2.3839 - val_accuracy: 0.1347\n",
      "Epoch 33/100\n",
      "12/12 [==============================] - 16s 1s/step - loss: 2.3859 - accuracy: 0.1230 - val_loss: 2.3835 - val_accuracy: 0.1347\n",
      "Epoch 34/100\n",
      "12/12 [==============================] - 16s 1s/step - loss: 2.3872 - accuracy: 0.1123 - val_loss: 2.3827 - val_accuracy: 0.1347\n",
      "Epoch 35/100\n",
      "12/12 [==============================] - 15s 1s/step - loss: 2.3851 - accuracy: 0.1404 - val_loss: 2.3819 - val_accuracy: 0.1347\n",
      "Epoch 36/100\n",
      "12/12 [==============================] - 15s 1s/step - loss: 2.3839 - accuracy: 0.1364 - val_loss: 2.3814 - val_accuracy: 0.1347\n",
      "Epoch 37/100\n",
      "12/12 [==============================] - 16s 1s/step - loss: 2.3824 - accuracy: 0.1390 - val_loss: 2.3804 - val_accuracy: 0.1347\n",
      "Epoch 38/100\n",
      "12/12 [==============================] - 16s 1s/step - loss: 2.3814 - accuracy: 0.1310 - val_loss: 2.3797 - val_accuracy: 0.1347\n",
      "Epoch 39/100\n",
      "12/12 [==============================] - 15s 1s/step - loss: 2.3814 - accuracy: 0.1404 - val_loss: 2.3784 - val_accuracy: 0.1347\n",
      "Epoch 40/100\n",
      "12/12 [==============================] - 15s 1s/step - loss: 2.3792 - accuracy: 0.1310 - val_loss: 2.3774 - val_accuracy: 0.1347\n",
      "Epoch 41/100\n",
      "12/12 [==============================] - 16s 1s/step - loss: 2.3795 - accuracy: 0.1377 - val_loss: 2.3768 - val_accuracy: 0.1347\n",
      "Epoch 42/100\n",
      "12/12 [==============================] - 15s 1s/step - loss: 2.3785 - accuracy: 0.1283 - val_loss: 2.3756 - val_accuracy: 0.1347\n",
      "Epoch 43/100\n",
      "12/12 [==============================] - 15s 1s/step - loss: 2.3768 - accuracy: 0.1404 - val_loss: 2.3747 - val_accuracy: 0.1347\n",
      "Epoch 44/100\n",
      "12/12 [==============================] - 16s 1s/step - loss: 2.3850 - accuracy: 0.1270 - val_loss: 2.3737 - val_accuracy: 0.1347\n",
      "Epoch 45/100\n",
      "12/12 [==============================] - 16s 1s/step - loss: 2.3827 - accuracy: 0.1217 - val_loss: 2.3733 - val_accuracy: 0.1347\n",
      "Epoch 46/100\n",
      "12/12 [==============================] - 15s 1s/step - loss: 2.3753 - accuracy: 0.1337 - val_loss: 2.3728 - val_accuracy: 0.1347\n",
      "Epoch 47/100\n",
      "12/12 [==============================] - 15s 1s/step - loss: 2.3735 - accuracy: 0.1350 - val_loss: 2.3719 - val_accuracy: 0.1347\n",
      "Epoch 48/100\n",
      "12/12 [==============================] - 16s 1s/step - loss: 2.3741 - accuracy: 0.1364 - val_loss: 2.3712 - val_accuracy: 0.1347\n",
      "Epoch 49/100\n",
      "12/12 [==============================] - 16s 1s/step - loss: 2.3724 - accuracy: 0.1270 - val_loss: 2.3701 - val_accuracy: 0.1347\n",
      "Epoch 50/100\n",
      "12/12 [==============================] - 15s 1s/step - loss: 2.3779 - accuracy: 0.1230 - val_loss: 2.3682 - val_accuracy: 0.1347\n",
      "Epoch 51/100\n",
      "12/12 [==============================] - 15s 1s/step - loss: 2.3678 - accuracy: 0.1591 - val_loss: 2.3687 - val_accuracy: 0.1347\n",
      "Epoch 52/100\n",
      "12/12 [==============================] - 16s 1s/step - loss: 2.3713 - accuracy: 0.1337 - val_loss: 2.3673 - val_accuracy: 0.1347\n",
      "Epoch 53/100\n",
      "12/12 [==============================] - 16s 1s/step - loss: 2.3631 - accuracy: 0.1658 - val_loss: 2.3237 - val_accuracy: 0.1510\n",
      "Epoch 54/100\n",
      "12/12 [==============================] - 15s 1s/step - loss: 2.3585 - accuracy: 0.1471 - val_loss: 2.2861 - val_accuracy: 0.2122\n",
      "Epoch 55/100\n",
      "12/12 [==============================] - 15s 1s/step - loss: 2.2832 - accuracy: 0.1912 - val_loss: 2.2289 - val_accuracy: 0.2082\n",
      "Epoch 56/100\n",
      "12/12 [==============================] - 16s 1s/step - loss: 2.2391 - accuracy: 0.1818 - val_loss: 2.1235 - val_accuracy: 0.2408\n",
      "Epoch 57/100\n",
      "12/12 [==============================] - 16s 1s/step - loss: 2.2263 - accuracy: 0.2072 - val_loss: 2.1846 - val_accuracy: 0.2653\n",
      "Epoch 58/100\n",
      "12/12 [==============================] - 15s 1s/step - loss: 2.3036 - accuracy: 0.1618 - val_loss: 2.3666 - val_accuracy: 0.1347\n"
     ]
    },
    {
     "name": "stdout",
     "output_type": "stream",
     "text": [
      "Epoch 59/100\n",
      "12/12 [==============================] - 15s 1s/step - loss: 2.3492 - accuracy: 0.1444 - val_loss: 2.3246 - val_accuracy: 0.1592\n",
      "Epoch 60/100\n",
      "12/12 [==============================] - 16s 1s/step - loss: 2.4148 - accuracy: 0.1591 - val_loss: 2.3186 - val_accuracy: 0.1714\n",
      "Epoch 61/100\n",
      "12/12 [==============================] - 16s 1s/step - loss: 2.3739 - accuracy: 0.0896 - val_loss: 2.3666 - val_accuracy: 0.1347\n",
      "Epoch 62/100\n",
      "12/12 [==============================] - 15s 1s/step - loss: 2.3565 - accuracy: 0.1618 - val_loss: 2.3563 - val_accuracy: 0.1837\n",
      "Epoch 63/100\n",
      "12/12 [==============================] - 15s 1s/step - loss: 2.3171 - accuracy: 0.2433 - val_loss: 2.3158 - val_accuracy: 0.2612\n",
      "Epoch 64/100\n",
      "12/12 [==============================] - 16s 1s/step - loss: 2.2699 - accuracy: 0.2326 - val_loss: 2.2050 - val_accuracy: 0.2776\n",
      "Epoch 65/100\n",
      "12/12 [==============================] - 16s 1s/step - loss: 2.3149 - accuracy: 0.1618 - val_loss: 2.2342 - val_accuracy: 0.2408\n",
      "Epoch 66/100\n",
      "12/12 [==============================] - 15s 1s/step - loss: 2.1214 - accuracy: 0.2527 - val_loss: 2.2325 - val_accuracy: 0.1837\n",
      "Epoch 67/100\n",
      "12/12 [==============================] - 15s 1s/step - loss: 2.1504 - accuracy: 0.2473 - val_loss: 2.1276 - val_accuracy: 0.2653\n",
      "Epoch 68/100\n",
      "12/12 [==============================] - 16s 1s/step - loss: 2.0473 - accuracy: 0.2687 - val_loss: 2.1577 - val_accuracy: 0.2612\n",
      "Epoch 69/100\n",
      "12/12 [==============================] - 16s 1s/step - loss: 1.9655 - accuracy: 0.2941 - val_loss: 2.0801 - val_accuracy: 0.2980\n",
      "Epoch 70/100\n",
      "12/12 [==============================] - 15s 1s/step - loss: 1.9553 - accuracy: 0.3061 - val_loss: 2.0242 - val_accuracy: 0.2694\n",
      "Epoch 71/100\n",
      "12/12 [==============================] - 15s 1s/step - loss: 1.8170 - accuracy: 0.3275 - val_loss: 1.9897 - val_accuracy: 0.2980\n",
      "Epoch 72/100\n",
      "12/12 [==============================] - 16s 1s/step - loss: 1.7586 - accuracy: 0.3663 - val_loss: 1.9462 - val_accuracy: 0.3020\n",
      "Epoch 73/100\n",
      "12/12 [==============================] - 15s 1s/step - loss: 1.7721 - accuracy: 0.3556 - val_loss: 1.8857 - val_accuracy: 0.3061\n",
      "Epoch 74/100\n",
      "12/12 [==============================] - 15s 1s/step - loss: 1.7209 - accuracy: 0.3529 - val_loss: 1.9582 - val_accuracy: 0.2939\n",
      "Epoch 75/100\n",
      "12/12 [==============================] - 16s 1s/step - loss: 1.6675 - accuracy: 0.4158 - val_loss: 1.8867 - val_accuracy: 0.2816\n",
      "Epoch 76/100\n",
      "12/12 [==============================] - 16s 1s/step - loss: 1.6772 - accuracy: 0.3837 - val_loss: 1.8881 - val_accuracy: 0.2939\n",
      "Epoch 77/100\n",
      "12/12 [==============================] - 15s 1s/step - loss: 1.6630 - accuracy: 0.4171 - val_loss: 1.9171 - val_accuracy: 0.3102\n",
      "Epoch 78/100\n",
      "12/12 [==============================] - 15s 1s/step - loss: 1.6365 - accuracy: 0.4251 - val_loss: 1.9260 - val_accuracy: 0.2735\n",
      "Epoch 79/100\n",
      "12/12 [==============================] - 16s 1s/step - loss: 1.6427 - accuracy: 0.3971 - val_loss: 1.8748 - val_accuracy: 0.3143\n",
      "Epoch 80/100\n",
      "12/12 [==============================] - 16s 1s/step - loss: 1.5186 - accuracy: 0.4425 - val_loss: 1.8168 - val_accuracy: 0.3143\n",
      "Epoch 81/100\n",
      "12/12 [==============================] - 15s 1s/step - loss: 1.5773 - accuracy: 0.4158 - val_loss: 1.8980 - val_accuracy: 0.3061\n",
      "Epoch 82/100\n",
      "12/12 [==============================] - 15s 1s/step - loss: 1.6102 - accuracy: 0.4626 - val_loss: 1.8301 - val_accuracy: 0.3265\n",
      "Epoch 83/100\n",
      "12/12 [==============================] - 16s 1s/step - loss: 1.5095 - accuracy: 0.4639 - val_loss: 1.8057 - val_accuracy: 0.3143\n",
      "Epoch 84/100\n",
      "12/12 [==============================] - 16s 1s/step - loss: 1.5994 - accuracy: 0.4118 - val_loss: 1.8176 - val_accuracy: 0.3224\n",
      "Epoch 85/100\n",
      "12/12 [==============================] - 15s 1s/step - loss: 1.4291 - accuracy: 0.4947 - val_loss: 1.7877 - val_accuracy: 0.3429\n",
      "Epoch 86/100\n",
      "12/12 [==============================] - 15s 1s/step - loss: 1.4469 - accuracy: 0.4492 - val_loss: 1.7807 - val_accuracy: 0.3306\n",
      "Epoch 87/100\n",
      "12/12 [==============================] - 16s 1s/step - loss: 1.5399 - accuracy: 0.4412 - val_loss: 1.7936 - val_accuracy: 0.3265\n",
      "Epoch 88/100\n",
      "12/12 [==============================] - 16s 1s/step - loss: 1.4712 - accuracy: 0.4733 - val_loss: 1.8248 - val_accuracy: 0.3388\n",
      "Epoch 89/100\n",
      "12/12 [==============================] - 15s 1s/step - loss: 1.3747 - accuracy: 0.5174 - val_loss: 1.7741 - val_accuracy: 0.3347\n",
      "Epoch 90/100\n",
      "12/12 [==============================] - 15s 1s/step - loss: 1.3223 - accuracy: 0.5040 - val_loss: 1.6815 - val_accuracy: 0.3551\n",
      "Epoch 91/100\n",
      "12/12 [==============================] - 16s 1s/step - loss: 1.4575 - accuracy: 0.5174 - val_loss: 1.7066 - val_accuracy: 0.3592\n",
      "Epoch 92/100\n",
      "12/12 [==============================] - 16s 1s/step - loss: 1.3772 - accuracy: 0.4786 - val_loss: 2.0048 - val_accuracy: 0.2367\n",
      "Epoch 93/100\n",
      "12/12 [==============================] - 15s 1s/step - loss: 1.5532 - accuracy: 0.4118 - val_loss: 1.7280 - val_accuracy: 0.3469\n",
      "Epoch 94/100\n",
      "12/12 [==============================] - 15s 1s/step - loss: 1.3578 - accuracy: 0.5040 - val_loss: 1.7959 - val_accuracy: 0.3469\n",
      "Epoch 95/100\n",
      "12/12 [==============================] - 16s 1s/step - loss: 1.3211 - accuracy: 0.5027 - val_loss: 1.6240 - val_accuracy: 0.3469\n",
      "Epoch 96/100\n",
      "12/12 [==============================] - 16s 1s/step - loss: 1.2328 - accuracy: 0.5535 - val_loss: 1.7213 - val_accuracy: 0.3265\n",
      "Epoch 97/100\n",
      "12/12 [==============================] - 15s 1s/step - loss: 1.1875 - accuracy: 0.5348 - val_loss: 1.8566 - val_accuracy: 0.3551\n",
      "Epoch 98/100\n",
      "12/12 [==============================] - 15s 1s/step - loss: 1.2155 - accuracy: 0.5655 - val_loss: 1.6536 - val_accuracy: 0.3510\n",
      "Epoch 99/100\n",
      "12/12 [==============================] - 16s 1s/step - loss: 1.1467 - accuracy: 0.5682 - val_loss: 1.5460 - val_accuracy: 0.3837\n",
      "Epoch 100/100\n",
      "12/12 [==============================] - 15s 1s/step - loss: 1.1199 - accuracy: 0.5722 - val_loss: 1.6275 - val_accuracy: 0.3429\n"
     ]
    }
   ],
   "source": [
    "# INÍCIO DO TREINO DO MODELO #\n",
    "\n",
    "history = model_n1.fit(train_data,\n",
    "                    epochs=100,\n",
    "                    validation_data=valid_data,\n",
    "                    verbose=True)\n",
    "\n",
    "# informação: steps_per_epoch = número de imagens / batch_size"
   ]
  },
  {
   "cell_type": "code",
   "execution_count": 12,
   "metadata": {},
   "outputs": [],
   "source": [
    "model_n1.save('model_n1.h5',\n",
    "          overwrite = True) \n",
    "del model_n1\n",
    "\n",
    "with open('trainHistoryDict_model_n1', 'wb') as file_pi:\n",
    "        pickle.dump(history.history, file_pi)"
   ]
  },
  {
   "cell_type": "code",
   "execution_count": 13,
   "metadata": {},
   "outputs": [],
   "source": [
    "model_n1 = keras.models.load_model('model_n1.h5')\n",
    "history = pickle.load(open('trainHistoryDict_model_n1', \"rb\"))"
   ]
  },
  {
   "cell_type": "code",
   "execution_count": 14,
   "metadata": {},
   "outputs": [
    {
     "name": "stdout",
     "output_type": "stream",
     "text": [
      "Model: \"sequential\"\n",
      "_________________________________________________________________\n",
      "Layer (type)                 Output Shape              Param #   \n",
      "=================================================================\n",
      "conv2d (Conv2D)              (None, 98, 98, 32)        896       \n",
      "_________________________________________________________________\n",
      "max_pooling2d (MaxPooling2D) (None, 49, 49, 32)        0         \n",
      "_________________________________________________________________\n",
      "dropout (Dropout)            (None, 49, 49, 32)        0         \n",
      "_________________________________________________________________\n",
      "conv2d_1 (Conv2D)            (None, 47, 47, 64)        18496     \n",
      "_________________________________________________________________\n",
      "max_pooling2d_1 (MaxPooling2 (None, 23, 23, 64)        0         \n",
      "_________________________________________________________________\n",
      "dropout_1 (Dropout)          (None, 23, 23, 64)        0         \n",
      "_________________________________________________________________\n",
      "conv2d_2 (Conv2D)            (None, 21, 21, 64)        36928     \n",
      "_________________________________________________________________\n",
      "max_pooling2d_2 (MaxPooling2 (None, 10, 10, 64)        0         \n",
      "_________________________________________________________________\n",
      "dropout_2 (Dropout)          (None, 10, 10, 64)        0         \n",
      "_________________________________________________________________\n",
      "flatten (Flatten)            (None, 6400)              0         \n",
      "_________________________________________________________________\n",
      "dense (Dense)                (None, 64)                409664    \n",
      "_________________________________________________________________\n",
      "dropout_3 (Dropout)          (None, 64)                0         \n",
      "_________________________________________________________________\n",
      "dense_1 (Dense)              (None, 11)                715       \n",
      "=================================================================\n",
      "Total params: 466,699\n",
      "Trainable params: 466,699\n",
      "Non-trainable params: 0\n",
      "_________________________________________________________________\n"
     ]
    }
   ],
   "source": [
    "model_n1.summary()"
   ]
  },
  {
   "cell_type": "code",
   "execution_count": 15,
   "metadata": {},
   "outputs": [
    {
     "data": {
      "text/plain": [
       "<matplotlib.legend.Legend at 0x21a8023a8e0>"
      ]
     },
     "execution_count": 15,
     "metadata": {},
     "output_type": "execute_result"
    },
    {
     "data": {
      "image/png": "[encoded data removed]",
      "text/plain": [
       "<Figure size 432x288 with 1 Axes>"
      ]
     },
     "metadata": {
      "needs_background": "light"
     },
     "output_type": "display_data"
    }
   ],
   "source": [
    "# GERANDO GRÁFICO COM RESULTADOS DAS ACURÁCIAS DE TREINO E VALIDAÇÃO #\n",
    "\n",
    "plt.plot(history['accuracy'], label='accuracy_train')\n",
    "plt.plot(history['val_accuracy'], label = 'accuracy_valid')\n",
    "plt.xlabel('Epoch')\n",
    "plt.ylabel('Accuracy')\n",
    "plt.ylim([0, 1])\n",
    "plt.legend(loc='lower right')"
   ]
  },
  {
   "cell_type": "code",
   "execution_count": 16,
   "metadata": {},
   "outputs": [
    {
     "data": {
      "text/plain": [
       "<matplotlib.legend.Legend at 0x21a80046640>"
      ]
     },
     "execution_count": 16,
     "metadata": {},
     "output_type": "execute_result"
    },
    {
     "data": {
      "image/png": "[encoded data removed]",
      "text/plain": [
       "<Figure size 432x288 with 1 Axes>"
      ]
     },
     "metadata": {
      "needs_background": "light"
     },
     "output_type": "display_data"
    }
   ],
   "source": [
    "# GERANDO GRÁFICO COM RESULTADOS DO LOSS DE TREINO E VALIDAÇÃO #\n",
    "\n",
    "plt.plot(history['loss'], label='loss train')\n",
    "plt.plot(history['val_loss'], label='loss val')\n",
    "plt.xlabel('Epoch')\n",
    "plt.ylabel('Loss')\n",
    "plt.ylim([0, 3])\n",
    "plt.legend(loc='lower right')"
   ]
  },
  {
   "cell_type": "code",
   "execution_count": 17,
   "metadata": {},
   "outputs": [
    {
     "name": "stdout",
     "output_type": "stream",
     "text": [
      "Found 1000 images belonging to 11 classes.\n"
     ]
    }
   ],
   "source": [
    "datagen_test =  ImageDataGenerator(rescale = 1./255) # comando para reescala das imagens de teste\n",
    "\n",
    "# imagens de teste\n",
    "\n",
    "test_data = datagen_test.flow_from_directory(directory='dataset_smkt/test',\n",
    "                                                      target_size = (100, 100),\n",
    "                                                      batch_size = 64,\n",
    "                                                      shuffle=False)"
   ]
  },
  {
   "cell_type": "code",
   "execution_count": 18,
   "metadata": {},
   "outputs": [
    {
     "name": "stdout",
     "output_type": "stream",
     "text": [
      "16/16 [==============================] - 11s 670ms/step - loss: 1.1578 - accuracy: 0.5450\n",
      "acurácia nos dados de teste: 0.5450000166893005\n",
      "loss dos dados de teste: 1.157800555229187\n"
     ]
    }
   ],
   "source": [
    "# DEFININDO COMANDO PARA AVALIAR O DESEMPENHO DO MODELO NAS IMAGENS DE TESTE #\n",
    "\n",
    "test_loss, test_acc = model_n1.evaluate(test_data) # verificar versão do Keras\n",
    "\n",
    "print(\"acurácia nos dados de teste:\", test_acc)\n",
    "print(\"loss dos dados de teste:\", test_loss)"
   ]
  },
  {
   "cell_type": "code",
   "execution_count": 19,
   "metadata": {},
   "outputs": [
    {
     "name": "stdout",
     "output_type": "stream",
     "text": [
      "(1000,)\n",
      "Accuracy\n",
      "0.545\n",
      "Balanced Accuracy\n",
      "0.5478145323745754\n",
      "Confusion Matrix\n",
      "[[ 50   0   1   0  16   0  17  10  12   0   0]\n",
      " [  0   4   6   0  11   0   0  18  23   9   7]\n",
      " [  1   1  10   0  19   0   0   8  40   7   0]\n",
      " [  0   0   0  51   0   2   0   0   0   0   0]\n",
      " [  2   1   0   0  54   0   2  43  22   0   0]\n",
      " [  0   0   0   0   0  23   0   0   0  15   0]\n",
      " [ 32   0   3   0  25   0  37   4   5   0   0]\n",
      " [  0   0   0   0   5   0   1  69   3   0   2]\n",
      " [  0   0   0   0   0   0   0   0 132   0   0]\n",
      " [  0  10   0   0   0  25   0   4   1  50  11]\n",
      " [  0   0   0   0   0  12   0   8   0  11  65]]\n",
      "Classification Report\n"
     ]
    }
   ],
   "source": [
    "Y_pred = model_n1.predict(test_data)\n",
    "y_pred = np.argmax(Y_pred, axis=1)\n",
    "\n",
    "print(y_pred.shape)\n",
    "\n",
    "print('Accuracy')\n",
    "print(accuracy_score(test_data.classes,y_pred))\n",
    "\n",
    "print('Balanced Accuracy')\n",
    "print(balanced_accuracy_score(test_data.classes,y_pred))\n",
    "\n",
    "print('Confusion Matrix')\n",
    "print(confusion_matrix(test_data.classes, y_pred))\n",
    "print('Classification Report')"
   ]
  },
  {
   "cell_type": "markdown",
   "metadata": {},
   "source": [
    "## Segunda estratégia: 70% treino e 30% teste"
   ]
  },
  {
   "cell_type": "code",
   "execution_count": 20,
   "metadata": {},
   "outputs": [
    {
     "name": "stdout",
     "output_type": "stream",
     "text": [
      "WARNING:tensorflow:No training configuration found in the save file, so the model was *not* compiled. Compile it manually.\n"
     ]
    }
   ],
   "source": [
    "# Puxando estrutura do modelo base\n",
    "\n",
    "model_n2 = keras.models.load_model('model_base.h5')"
   ]
  },
  {
   "cell_type": "code",
   "execution_count": 21,
   "metadata": {},
   "outputs": [],
   "source": [
    "model_n2.compile(optimizer='adam',\n",
    "              loss=tf.keras.losses.CategoricalCrossentropy(\n",
    "                  from_logits=False,\n",
    "                  label_smoothing=0,                            #configurações da função loss\n",
    "                  reduction=\"auto\",\n",
    "                  name=\"categorical_crossentropy\"),\n",
    "              metrics=['accuracy'])"
   ]
  },
  {
   "cell_type": "code",
   "execution_count": 22,
   "metadata": {},
   "outputs": [
    {
     "name": "stdout",
     "output_type": "stream",
     "text": [
      "Criando particionamento\n",
      "\t 148 \t+ 64 \t= 212 \t -> apple1\n",
      "\t 108 \t+ 47 \t= 155 \t -> granny_smith_apple\n",
      "\t 119 \t+ 52 \t= 171 \t -> kiwi\n",
      "\t 74 \t+ 32 \t= 106 \t -> lime\n",
      "\t 172 \t+ 75 \t= 247 \t -> nectarine\n",
      "\t 52 \t+ 23 \t= 75 \t -> onion\n",
      "\t 147 \t+ 64 \t= 211 \t -> peach\n",
      "\t 111 \t+ 48 \t= 159 \t -> pear\n",
      "\t 184 \t+ 80 \t= 264 \t -> plum\n",
      "\t 140 \t+ 61 \t= 201 \t -> potato\n",
      "\t 134 \t+ 58 \t= 192 \t -> watermelon\n",
      "Particionamento criado com sucesso!\n"
     ]
    }
   ],
   "source": [
    "criar_treino_teste('./dataset_smkt/', 0.3)"
   ]
  },
  {
   "cell_type": "code",
   "execution_count": 23,
   "metadata": {},
   "outputs": [
    {
     "name": "stdout",
     "output_type": "stream",
     "text": [
      "Found 1045 images belonging to 11 classes.\n",
      "Found 344 images belonging to 11 classes.\n"
     ]
    }
   ],
   "source": [
    "# DIVIDIR AS IMAGENS EM PARTIÇÃO DE TREINO E VALIDAÇÃO, UTILIZANDO O IMAGEDATAGENERATOR #\n",
    "\n",
    "datagen =  ImageDataGenerator(rescale = 1./255, validation_split=0.25) # comando para reescala + divisão em 20% para validação\n",
    "\n",
    "# imagens de treino (75%) \n",
    "\n",
    "train_data = datagen.flow_from_directory('dataset_smkt/train', \n",
    "                                         subset = 'training',\n",
    "                                         batch_size = 64,\n",
    "                                         shuffle = False,\n",
    "                                         target_size = (100, 100)) # definindo tamanho das imagens\n",
    "\n",
    "# imagens de validação (25%)\n",
    "\n",
    "valid_data = datagen.flow_from_directory('dataset_smkt/train',\n",
    "                                         subset='validation',\n",
    "                                         batch_size = 64,\n",
    "                                         shuffle = False,\n",
    "                                         target_size = (100, 100))"
   ]
  },
  {
   "cell_type": "code",
   "execution_count": 24,
   "metadata": {},
   "outputs": [
    {
     "name": "stdout",
     "output_type": "stream",
     "text": [
      "Epoch 1/100\n",
      "17/17 [==============================] - 25s 1s/step - loss: 3.0081 - accuracy: 0.0794 - val_loss: 2.3974 - val_accuracy: 0.1047\n",
      "Epoch 2/100\n",
      "17/17 [==============================] - 21s 1s/step - loss: 2.3942 - accuracy: 0.1100 - val_loss: 2.3968 - val_accuracy: 0.1250\n",
      "Epoch 3/100\n",
      "17/17 [==============================] - 22s 1s/step - loss: 2.3917 - accuracy: 0.1139 - val_loss: 2.3958 - val_accuracy: 0.1744\n",
      "Epoch 4/100\n",
      "17/17 [==============================] - 22s 1s/step - loss: 2.3936 - accuracy: 0.1062 - val_loss: 2.3936 - val_accuracy: 0.1250\n",
      "Epoch 5/100\n",
      "17/17 [==============================] - 21s 1s/step - loss: 2.3908 - accuracy: 0.1014 - val_loss: 2.3916 - val_accuracy: 0.1047\n",
      "Epoch 6/100\n",
      "17/17 [==============================] - 22s 1s/step - loss: 2.3967 - accuracy: 0.1206 - val_loss: 2.3885 - val_accuracy: 0.1250\n",
      "Epoch 7/100\n",
      "17/17 [==============================] - 22s 1s/step - loss: 2.3779 - accuracy: 0.1301 - val_loss: 2.3903 - val_accuracy: 0.1250\n",
      "Epoch 8/100\n",
      "17/17 [==============================] - 21s 1s/step - loss: 2.3763 - accuracy: 0.1177 - val_loss: 2.3828 - val_accuracy: 0.1076\n",
      "Epoch 9/100\n",
      "17/17 [==============================] - 22s 1s/step - loss: 2.3892 - accuracy: 0.1206 - val_loss: 2.3802 - val_accuracy: 0.1453\n",
      "Epoch 10/100\n",
      "17/17 [==============================] - 22s 1s/step - loss: 2.3654 - accuracy: 0.1014 - val_loss: 2.3826 - val_accuracy: 0.1512\n",
      "Epoch 11/100\n",
      "17/17 [==============================] - 22s 1s/step - loss: 2.3500 - accuracy: 0.1378 - val_loss: 2.3708 - val_accuracy: 0.1047\n",
      "Epoch 12/100\n",
      "17/17 [==============================] - 22s 1s/step - loss: 2.3510 - accuracy: 0.0947 - val_loss: 2.3607 - val_accuracy: 0.1250\n",
      "Epoch 13/100\n",
      "17/17 [==============================] - 21s 1s/step - loss: 2.3451 - accuracy: 0.1282 - val_loss: 2.3558 - val_accuracy: 0.1599\n",
      "Epoch 14/100\n",
      "17/17 [==============================] - 22s 1s/step - loss: 2.3033 - accuracy: 0.1732 - val_loss: 2.3105 - val_accuracy: 0.1773\n",
      "Epoch 15/100\n",
      "17/17 [==============================] - 22s 1s/step - loss: 2.3062 - accuracy: 0.1694 - val_loss: 2.3366 - val_accuracy: 0.1308\n",
      "Epoch 16/100\n",
      "17/17 [==============================] - 21s 1s/step - loss: 2.3170 - accuracy: 0.1148 - val_loss: 2.3488 - val_accuracy: 0.1715\n",
      "Epoch 17/100\n",
      "17/17 [==============================] - 22s 1s/step - loss: 2.3253 - accuracy: 0.1761 - val_loss: 2.3578 - val_accuracy: 0.2035\n",
      "Epoch 18/100\n",
      "17/17 [==============================] - 22s 1s/step - loss: 2.2484 - accuracy: 0.1665 - val_loss: 2.2863 - val_accuracy: 0.1890\n",
      "Epoch 19/100\n",
      "17/17 [==============================] - 21s 1s/step - loss: 2.1769 - accuracy: 0.2182 - val_loss: 2.2768 - val_accuracy: 0.1657\n",
      "Epoch 20/100\n",
      "17/17 [==============================] - 22s 1s/step - loss: 2.2243 - accuracy: 0.1952 - val_loss: 2.2663 - val_accuracy: 0.1773\n",
      "Epoch 21/100\n",
      "17/17 [==============================] - 21s 1s/step - loss: 2.0560 - accuracy: 0.2249 - val_loss: 2.1543 - val_accuracy: 0.2267\n",
      "Epoch 22/100\n",
      "17/17 [==============================] - 21s 1s/step - loss: 2.0673 - accuracy: 0.2383 - val_loss: 2.1377 - val_accuracy: 0.2442\n",
      "Epoch 23/100\n",
      "17/17 [==============================] - 22s 1s/step - loss: 2.1361 - accuracy: 0.2172 - val_loss: 2.2773 - val_accuracy: 0.1163\n",
      "Epoch 24/100\n",
      "17/17 [==============================] - 21s 1s/step - loss: 2.0147 - accuracy: 0.2507 - val_loss: 2.0958 - val_accuracy: 0.1715\n",
      "Epoch 25/100\n",
      "17/17 [==============================] - 22s 1s/step - loss: 1.9905 - accuracy: 0.2507 - val_loss: 2.1239 - val_accuracy: 0.2035\n",
      "Epoch 26/100\n",
      "17/17 [==============================] - 22s 1s/step - loss: 1.9445 - accuracy: 0.2565 - val_loss: 2.1198 - val_accuracy: 0.2122\n",
      "Epoch 27/100\n",
      "17/17 [==============================] - 21s 1s/step - loss: 1.8928 - accuracy: 0.2919 - val_loss: 2.0832 - val_accuracy: 0.2180\n",
      "Epoch 28/100\n",
      "17/17 [==============================] - 22s 1s/step - loss: 1.9263 - accuracy: 0.2947 - val_loss: 2.0323 - val_accuracy: 0.2500\n",
      "Epoch 29/100\n",
      "17/17 [==============================] - 22s 1s/step - loss: 1.9045 - accuracy: 0.2871 - val_loss: 2.0378 - val_accuracy: 0.2326\n",
      "Epoch 30/100\n",
      "17/17 [==============================] - 21s 1s/step - loss: 1.9206 - accuracy: 0.3244 - val_loss: 2.0453 - val_accuracy: 0.2558\n",
      "Epoch 31/100\n",
      "17/17 [==============================] - 22s 1s/step - loss: 1.8069 - accuracy: 0.3416 - val_loss: 1.9726 - val_accuracy: 0.2616\n",
      "Epoch 32/100\n",
      "17/17 [==============================] - 22s 1s/step - loss: 1.8338 - accuracy: 0.3215 - val_loss: 2.0083 - val_accuracy: 0.2529\n",
      "Epoch 33/100\n",
      "17/17 [==============================] - 21s 1s/step - loss: 1.7427 - accuracy: 0.3311 - val_loss: 1.9504 - val_accuracy: 0.2616\n",
      "Epoch 34/100\n",
      "17/17 [==============================] - 22s 1s/step - loss: 1.7338 - accuracy: 0.3531 - val_loss: 1.9565 - val_accuracy: 0.2587\n",
      "Epoch 35/100\n",
      "17/17 [==============================] - 21s 1s/step - loss: 1.6985 - accuracy: 0.3550 - val_loss: 1.9162 - val_accuracy: 0.2558\n",
      "Epoch 36/100\n",
      "17/17 [==============================] - 22s 1s/step - loss: 1.7489 - accuracy: 0.3263 - val_loss: 1.9207 - val_accuracy: 0.2413\n",
      "Epoch 37/100\n",
      "17/17 [==============================] - 22s 1s/step - loss: 1.6332 - accuracy: 0.4010 - val_loss: 1.8631 - val_accuracy: 0.2878\n",
      "Epoch 38/100\n",
      "17/17 [==============================] - 21s 1s/step - loss: 1.6541 - accuracy: 0.3943 - val_loss: 1.8597 - val_accuracy: 0.2994\n",
      "Epoch 39/100\n",
      "17/17 [==============================] - 22s 1s/step - loss: 1.6412 - accuracy: 0.3866 - val_loss: 1.7930 - val_accuracy: 0.3488\n",
      "Epoch 40/100\n",
      "17/17 [==============================] - 22s 1s/step - loss: 1.7347 - accuracy: 0.3895 - val_loss: 1.8163 - val_accuracy: 0.2733\n",
      "Epoch 41/100\n",
      "17/17 [==============================] - 21s 1s/step - loss: 1.6628 - accuracy: 0.3665 - val_loss: 1.8615 - val_accuracy: 0.3052\n",
      "Epoch 42/100\n",
      "17/17 [==============================] - 22s 1s/step - loss: 1.5537 - accuracy: 0.4335 - val_loss: 1.8525 - val_accuracy: 0.3023\n",
      "Epoch 43/100\n",
      "17/17 [==============================] - 22s 1s/step - loss: 1.5926 - accuracy: 0.4067 - val_loss: 1.6992 - val_accuracy: 0.3895\n",
      "Epoch 44/100\n",
      "17/17 [==============================] - 21s 1s/step - loss: 1.7483 - accuracy: 0.3856 - val_loss: 1.8511 - val_accuracy: 0.3692\n",
      "Epoch 45/100\n",
      "17/17 [==============================] - 22s 1s/step - loss: 1.5882 - accuracy: 0.4230 - val_loss: 1.7725 - val_accuracy: 0.3285\n",
      "Epoch 46/100\n",
      "17/17 [==============================] - 21s 1s/step - loss: 1.4929 - accuracy: 0.4201 - val_loss: 1.6529 - val_accuracy: 0.4041\n",
      "Epoch 47/100\n",
      "17/17 [==============================] - 21s 1s/step - loss: 1.4796 - accuracy: 0.4469 - val_loss: 1.6922 - val_accuracy: 0.3866\n",
      "Epoch 48/100\n",
      "17/17 [==============================] - 22s 1s/step - loss: 1.4988 - accuracy: 0.4411 - val_loss: 1.6370 - val_accuracy: 0.3866\n",
      "Epoch 49/100\n",
      "17/17 [==============================] - 21s 1s/step - loss: 1.4539 - accuracy: 0.4268 - val_loss: 1.7355 - val_accuracy: 0.3983\n",
      "Epoch 50/100\n",
      "17/17 [==============================] - 22s 1s/step - loss: 1.3492 - accuracy: 0.4746 - val_loss: 1.5447 - val_accuracy: 0.4128\n",
      "Epoch 51/100\n",
      "17/17 [==============================] - 22s 1s/step - loss: 1.3737 - accuracy: 0.4804 - val_loss: 1.5903 - val_accuracy: 0.4680\n",
      "Epoch 52/100\n",
      "17/17 [==============================] - 21s 1s/step - loss: 1.3798 - accuracy: 0.4689 - val_loss: 1.5694 - val_accuracy: 0.4564\n",
      "Epoch 53/100\n",
      "17/17 [==============================] - 22s 1s/step - loss: 1.4425 - accuracy: 0.5005 - val_loss: 1.8158 - val_accuracy: 0.4448\n",
      "Epoch 54/100\n",
      "17/17 [==============================] - 22s 1s/step - loss: 1.6348 - accuracy: 0.4545 - val_loss: 1.7751 - val_accuracy: 0.3256\n",
      "Epoch 55/100\n",
      "17/17 [==============================] - 21s 1s/step - loss: 1.3331 - accuracy: 0.4890 - val_loss: 1.6735 - val_accuracy: 0.3924\n",
      "Epoch 56/100\n",
      "17/17 [==============================] - 23s 1s/step - loss: 1.3648 - accuracy: 0.4986 - val_loss: 1.5556 - val_accuracy: 0.4419\n",
      "Epoch 57/100\n",
      "17/17 [==============================] - 21s 1s/step - loss: 1.2742 - accuracy: 0.4995 - val_loss: 1.4968 - val_accuracy: 0.4797\n",
      "Epoch 58/100\n",
      "17/17 [==============================] - 21s 1s/step - loss: 1.2082 - accuracy: 0.5388 - val_loss: 1.4338 - val_accuracy: 0.4738\n"
     ]
    },
    {
     "name": "stdout",
     "output_type": "stream",
     "text": [
      "Epoch 59/100\n",
      "17/17 [==============================] - 22s 1s/step - loss: 1.1514 - accuracy: 0.5512 - val_loss: 1.3701 - val_accuracy: 0.4942\n",
      "Epoch 60/100\n",
      "17/17 [==============================] - 21s 1s/step - loss: 1.1198 - accuracy: 0.5579 - val_loss: 1.5724 - val_accuracy: 0.4622\n",
      "Epoch 61/100\n",
      "17/17 [==============================] - 22s 1s/step - loss: 1.3016 - accuracy: 0.4947 - val_loss: 1.4908 - val_accuracy: 0.4651\n",
      "Epoch 62/100\n",
      "17/17 [==============================] - 22s 1s/step - loss: 1.2485 - accuracy: 0.5177 - val_loss: 1.4446 - val_accuracy: 0.4564\n",
      "Epoch 63/100\n",
      "17/17 [==============================] - 21s 1s/step - loss: 1.1555 - accuracy: 0.5646 - val_loss: 1.4465 - val_accuracy: 0.4622\n",
      "Epoch 64/100\n",
      "17/17 [==============================] - 22s 1s/step - loss: 1.0824 - accuracy: 0.5933 - val_loss: 1.4309 - val_accuracy: 0.4767\n",
      "Epoch 65/100\n",
      "17/17 [==============================] - 22s 1s/step - loss: 1.0657 - accuracy: 0.5799 - val_loss: 1.4279 - val_accuracy: 0.5029\n",
      "Epoch 66/100\n",
      "17/17 [==============================] - 21s 1s/step - loss: 1.1042 - accuracy: 0.5818 - val_loss: 1.3801 - val_accuracy: 0.5058\n",
      "Epoch 67/100\n",
      "17/17 [==============================] - 22s 1s/step - loss: 0.9864 - accuracy: 0.6172 - val_loss: 1.3094 - val_accuracy: 0.5058\n",
      "Epoch 68/100\n",
      "17/17 [==============================] - 22s 1s/step - loss: 0.9877 - accuracy: 0.6038 - val_loss: 1.3285 - val_accuracy: 0.4535\n",
      "Epoch 69/100\n",
      "17/17 [==============================] - 21s 1s/step - loss: 0.9417 - accuracy: 0.6316 - val_loss: 1.2378 - val_accuracy: 0.5203\n",
      "Epoch 70/100\n",
      "17/17 [==============================] - 22s 1s/step - loss: 1.0336 - accuracy: 0.6268 - val_loss: 1.5198 - val_accuracy: 0.4971\n",
      "Epoch 71/100\n",
      "17/17 [==============================] - 21s 1s/step - loss: 1.3106 - accuracy: 0.5646 - val_loss: 1.2991 - val_accuracy: 0.5116\n",
      "Epoch 72/100\n",
      "17/17 [==============================] - 22s 1s/step - loss: 1.0545 - accuracy: 0.5923 - val_loss: 1.3202 - val_accuracy: 0.5058\n",
      "Epoch 73/100\n",
      "17/17 [==============================] - 22s 1s/step - loss: 0.9730 - accuracy: 0.6297 - val_loss: 1.2753 - val_accuracy: 0.4971\n",
      "Epoch 74/100\n",
      "17/17 [==============================] - 21s 1s/step - loss: 0.9360 - accuracy: 0.6297 - val_loss: 1.2254 - val_accuracy: 0.5349\n",
      "Epoch 75/100\n",
      "17/17 [==============================] - 22s 1s/step - loss: 0.8815 - accuracy: 0.6478 - val_loss: 1.2545 - val_accuracy: 0.5058\n",
      "Epoch 76/100\n",
      "17/17 [==============================] - 22s 1s/step - loss: 0.7976 - accuracy: 0.6794 - val_loss: 1.2044 - val_accuracy: 0.5349\n",
      "Epoch 77/100\n",
      "17/17 [==============================] - 21s 1s/step - loss: 0.8117 - accuracy: 0.6794 - val_loss: 1.4207 - val_accuracy: 0.4360\n",
      "Epoch 78/100\n",
      "17/17 [==============================] - 22s 1s/step - loss: 1.1445 - accuracy: 0.5809 - val_loss: 1.4166 - val_accuracy: 0.5291\n",
      "Epoch 79/100\n",
      "17/17 [==============================] - 22s 1s/step - loss: 0.9835 - accuracy: 0.6182 - val_loss: 1.3312 - val_accuracy: 0.5145\n",
      "Epoch 80/100\n",
      "17/17 [==============================] - 21s 1s/step - loss: 0.8921 - accuracy: 0.6431 - val_loss: 1.2982 - val_accuracy: 0.4622\n",
      "Epoch 81/100\n",
      "17/17 [==============================] - 22s 1s/step - loss: 0.8588 - accuracy: 0.6660 - val_loss: 1.3179 - val_accuracy: 0.5203\n",
      "Epoch 82/100\n",
      "17/17 [==============================] - 21s 1s/step - loss: 0.9097 - accuracy: 0.6498 - val_loss: 1.2980 - val_accuracy: 0.5233\n",
      "Epoch 83/100\n",
      "17/17 [==============================] - 22s 1s/step - loss: 0.8571 - accuracy: 0.6612 - val_loss: 1.2339 - val_accuracy: 0.5203\n",
      "Epoch 84/100\n",
      "17/17 [==============================] - 23s 1s/step - loss: 0.7779 - accuracy: 0.6852 - val_loss: 1.2487 - val_accuracy: 0.5145\n",
      "Epoch 85/100\n",
      "17/17 [==============================] - 22s 1s/step - loss: 0.7242 - accuracy: 0.7225 - val_loss: 1.2938 - val_accuracy: 0.5203\n",
      "Epoch 86/100\n",
      "17/17 [==============================] - 22s 1s/step - loss: 0.6906 - accuracy: 0.7206 - val_loss: 1.2219 - val_accuracy: 0.5465\n",
      "Epoch 87/100\n",
      "17/17 [==============================] - 23s 1s/step - loss: 0.8472 - accuracy: 0.7033 - val_loss: 1.3554 - val_accuracy: 0.5349\n",
      "Epoch 88/100\n",
      "17/17 [==============================] - 22s 1s/step - loss: 0.7614 - accuracy: 0.6871 - val_loss: 1.1515 - val_accuracy: 0.5465\n",
      "Epoch 89/100\n",
      "17/17 [==============================] - 23s 1s/step - loss: 0.7218 - accuracy: 0.7321 - val_loss: 1.2606 - val_accuracy: 0.5378\n",
      "Epoch 90/100\n",
      "17/17 [==============================] - 22s 1s/step - loss: 0.6762 - accuracy: 0.7225 - val_loss: 1.2463 - val_accuracy: 0.5145\n",
      "Epoch 91/100\n",
      "17/17 [==============================] - 22s 1s/step - loss: 0.7651 - accuracy: 0.6746 - val_loss: 1.4188 - val_accuracy: 0.5116\n",
      "Epoch 92/100\n",
      "17/17 [==============================] - 23s 1s/step - loss: 0.6907 - accuracy: 0.7148 - val_loss: 1.1719 - val_accuracy: 0.5785\n",
      "Epoch 93/100\n",
      "17/17 [==============================] - 21s 1s/step - loss: 0.6941 - accuracy: 0.7091 - val_loss: 1.2505 - val_accuracy: 0.5203\n",
      "Epoch 94/100\n",
      "17/17 [==============================] - 22s 1s/step - loss: 0.6219 - accuracy: 0.7407 - val_loss: 1.2762 - val_accuracy: 0.5058\n",
      "Epoch 95/100\n",
      "17/17 [==============================] - 22s 1s/step - loss: 0.6362 - accuracy: 0.7378 - val_loss: 1.2829 - val_accuracy: 0.5814\n",
      "Epoch 96/100\n",
      "17/17 [==============================] - 21s 1s/step - loss: 0.6122 - accuracy: 0.7464 - val_loss: 1.2391 - val_accuracy: 0.4942\n",
      "Epoch 97/100\n",
      "17/17 [==============================] - 22s 1s/step - loss: 0.6014 - accuracy: 0.7493 - val_loss: 1.4002 - val_accuracy: 0.5523\n",
      "Epoch 98/100\n",
      "17/17 [==============================] - 22s 1s/step - loss: 0.6564 - accuracy: 0.7311 - val_loss: 1.2086 - val_accuracy: 0.5262\n",
      "Epoch 99/100\n",
      "17/17 [==============================] - 21s 1s/step - loss: 0.5899 - accuracy: 0.7589 - val_loss: 1.1934 - val_accuracy: 0.5669\n",
      "Epoch 100/100\n",
      "17/17 [==============================] - 23s 1s/step - loss: 0.6178 - accuracy: 0.7483 - val_loss: 1.1485 - val_accuracy: 0.5669\n"
     ]
    }
   ],
   "source": [
    "# INÍCIO DO TREINO DO MODELO #\n",
    "\n",
    "history = model_n2.fit(train_data,\n",
    "                    epochs=100,\n",
    "                    validation_data=valid_data)\n",
    "\n",
    "# informação: steps_per_epoch = número de imagens / batch_size"
   ]
  },
  {
   "cell_type": "code",
   "execution_count": 25,
   "metadata": {},
   "outputs": [],
   "source": [
    "model_n2.save('model_n2.h5',\n",
    "          overwrite = True) \n",
    "del model_n2\n",
    "\n",
    "with open('trainHistoryDict_model_n2', 'wb') as file_pi:\n",
    "        pickle.dump(history.history, file_pi)"
   ]
  },
  {
   "cell_type": "code",
   "execution_count": 26,
   "metadata": {},
   "outputs": [],
   "source": [
    "model_n2 = keras.models.load_model('model_n2.h5')\n",
    "history = pickle.load(open('trainHistoryDict_model_n2', \"rb\"))"
   ]
  },
  {
   "cell_type": "code",
   "execution_count": 27,
   "metadata": {},
   "outputs": [
    {
     "name": "stdout",
     "output_type": "stream",
     "text": [
      "Model: \"sequential\"\n",
      "_________________________________________________________________\n",
      "Layer (type)                 Output Shape              Param #   \n",
      "=================================================================\n",
      "conv2d (Conv2D)              (None, 98, 98, 32)        896       \n",
      "_________________________________________________________________\n",
      "max_pooling2d (MaxPooling2D) (None, 49, 49, 32)        0         \n",
      "_________________________________________________________________\n",
      "dropout (Dropout)            (None, 49, 49, 32)        0         \n",
      "_________________________________________________________________\n",
      "conv2d_1 (Conv2D)            (None, 47, 47, 64)        18496     \n",
      "_________________________________________________________________\n",
      "max_pooling2d_1 (MaxPooling2 (None, 23, 23, 64)        0         \n",
      "_________________________________________________________________\n",
      "dropout_1 (Dropout)          (None, 23, 23, 64)        0         \n",
      "_________________________________________________________________\n",
      "conv2d_2 (Conv2D)            (None, 21, 21, 64)        36928     \n",
      "_________________________________________________________________\n",
      "max_pooling2d_2 (MaxPooling2 (None, 10, 10, 64)        0         \n",
      "_________________________________________________________________\n",
      "dropout_2 (Dropout)          (None, 10, 10, 64)        0         \n",
      "_________________________________________________________________\n",
      "flatten (Flatten)            (None, 6400)              0         \n",
      "_________________________________________________________________\n",
      "dense (Dense)                (None, 64)                409664    \n",
      "_________________________________________________________________\n",
      "dropout_3 (Dropout)          (None, 64)                0         \n",
      "_________________________________________________________________\n",
      "dense_1 (Dense)              (None, 11)                715       \n",
      "=================================================================\n",
      "Total params: 466,699\n",
      "Trainable params: 466,699\n",
      "Non-trainable params: 0\n",
      "_________________________________________________________________\n"
     ]
    }
   ],
   "source": [
    "model_n2.summary()"
   ]
  },
  {
   "cell_type": "code",
   "execution_count": 28,
   "metadata": {
    "scrolled": true
   },
   "outputs": [
    {
     "data": {
      "text/plain": [
       "<matplotlib.legend.Legend at 0x21a82014df0>"
      ]
     },
     "execution_count": 28,
     "metadata": {},
     "output_type": "execute_result"
    },
    {
     "data": {
      "image/png": "[encoded data removed]",
      "text/plain": [
       "<Figure size 432x288 with 1 Axes>"
      ]
     },
     "metadata": {
      "needs_background": "light"
     },
     "output_type": "display_data"
    }
   ],
   "source": [
    "# GERANDO GRÁFICO COM RESULTADOS DAS ACURÁCIAS DE TREINO E VALIDAÇÃO #\n",
    "\n",
    "plt.plot(history['accuracy'], label='accuracy_train')\n",
    "plt.plot(history['val_accuracy'], label = 'accuracy_valid')\n",
    "plt.xlabel('Epoch')\n",
    "plt.ylabel('Accuracy')\n",
    "plt.ylim([0, 1])\n",
    "plt.legend(loc='lower right')"
   ]
  },
  {
   "cell_type": "code",
   "execution_count": 29,
   "metadata": {},
   "outputs": [
    {
     "data": {
      "text/plain": [
       "<matplotlib.legend.Legend at 0x21a80918fd0>"
      ]
     },
     "execution_count": 29,
     "metadata": {},
     "output_type": "execute_result"
    },
    {
     "data": {
      "image/png": "[encoded data removed]",
      "text/plain": [
       "<Figure size 432x288 with 1 Axes>"
      ]
     },
     "metadata": {
      "needs_background": "light"
     },
     "output_type": "display_data"
    }
   ],
   "source": [
    "# GERANDO GRÁFICO COM RESULTADOS DO LOSS DE TREINO E VALIDAÇÃO #\n",
    "\n",
    "plt.plot(history['loss'], label='loss train')\n",
    "plt.plot(history['val_loss'], label='loss val')\n",
    "plt.xlabel('Epoch')\n",
    "plt.ylabel('Loss')\n",
    "plt.ylim([0, 3])\n",
    "plt.legend(loc='lower right')"
   ]
  },
  {
   "cell_type": "code",
   "execution_count": 30,
   "metadata": {},
   "outputs": [
    {
     "name": "stdout",
     "output_type": "stream",
     "text": [
      "Found 604 images belonging to 11 classes.\n"
     ]
    }
   ],
   "source": [
    "datagen_test =  ImageDataGenerator(rescale = 1./255) # comando para reescala das imagens de teste\n",
    "\n",
    "# imagens de teste\n",
    "\n",
    "test_data          = datagen_test.flow_from_directory(directory='dataset_smkt/test',\n",
    "                                                      target_size = (100, 100),\n",
    "                                                      batch_size = 64,\n",
    "                                                      shuffle=False)"
   ]
  },
  {
   "cell_type": "code",
   "execution_count": 31,
   "metadata": {},
   "outputs": [
    {
     "name": "stdout",
     "output_type": "stream",
     "text": [
      "10/10 [==============================] - 7s 665ms/step - loss: 0.5365 - accuracy: 0.8228\n",
      "acurácia nos dados de teste: 0.8228476643562317\n",
      "loss dos dados de teste: 0.5365355610847473\n"
     ]
    }
   ],
   "source": [
    "# DEFININDO COMANDO PARA AVALIAR O DESEMPENHO DO MODELO NAS IMAGENS DE TESTE #\n",
    "\n",
    "test_loss, test_acc = model_n2.evaluate(test_data) # verificar versão do Keras\n",
    "\n",
    "print(\"acurácia nos dados de teste:\", test_acc)\n",
    "print(\"loss dos dados de teste:\", test_loss)"
   ]
  },
  {
   "cell_type": "code",
   "execution_count": 32,
   "metadata": {},
   "outputs": [
    {
     "name": "stdout",
     "output_type": "stream",
     "text": [
      "(604,)\n",
      "Accuracy\n",
      "0.8228476821192053\n",
      "Balanced Accuracy\n",
      "0.8129509003260924\n",
      "Confusion Matrix\n",
      "[[45  0  4  0  7  0  5  2  1  0  0]\n",
      " [ 0 42  0  0  0  0  0  0  0  0  5]\n",
      " [ 0  0 35  0 10  0  1  6  0  0  0]\n",
      " [ 0  0  0 32  0  0  0  0  0  0  0]\n",
      " [ 4  0  9  0 60  0  1  0  0  1  0]\n",
      " [ 0  0  0  0  0 13  0  0  0 10  0]\n",
      " [10  0  4  0  0  0 49  1  0  0  0]\n",
      " [ 1  0  2  0  3  0  1 40  0  0  1]\n",
      " [ 0  0  1  0  1  0  0  0 78  0  0]\n",
      " [ 0  0  0  0  0  1  0  9  0 50  1]\n",
      " [ 0  4  0  0  0  0  0  0  0  1 53]]\n",
      "Classification Report\n"
     ]
    }
   ],
   "source": [
    "Y_pred = model_n2.predict(test_data)\n",
    "y_pred = np.argmax(Y_pred, axis=1)\n",
    "\n",
    "print(y_pred.shape)\n",
    "\n",
    "print('Accuracy')\n",
    "print(accuracy_score(test_data.classes,y_pred))\n",
    "\n",
    "print('Balanced Accuracy')\n",
    "print(balanced_accuracy_score(test_data.classes,y_pred))\n",
    "\n",
    "print('Confusion Matrix')\n",
    "print(confusion_matrix(test_data.classes, y_pred))\n",
    "print('Classification Report')"
   ]
  },
  {
   "cell_type": "markdown",
   "metadata": {},
   "source": [
    "## Terceira estratégia: 80% treino e 20% teste"
   ]
  },
  {
   "cell_type": "code",
   "execution_count": 33,
   "metadata": {},
   "outputs": [
    {
     "name": "stdout",
     "output_type": "stream",
     "text": [
      "WARNING:tensorflow:No training configuration found in the save file, so the model was *not* compiled. Compile it manually.\n"
     ]
    }
   ],
   "source": [
    "# Criando modelo\n",
    "\n",
    "model_n3 = keras.models.load_model('model_base.h5')"
   ]
  },
  {
   "cell_type": "code",
   "execution_count": 34,
   "metadata": {},
   "outputs": [],
   "source": [
    "model_n3.compile(optimizer='adam',\n",
    "              loss=tf.keras.losses.CategoricalCrossentropy(\n",
    "                  from_logits=False,\n",
    "                  label_smoothing=0,                            #configurações da função loss\n",
    "                  reduction=\"auto\",\n",
    "                  name=\"categorical_crossentropy\"),\n",
    "              metrics=['accuracy'])"
   ]
  },
  {
   "cell_type": "code",
   "execution_count": 35,
   "metadata": {},
   "outputs": [
    {
     "name": "stdout",
     "output_type": "stream",
     "text": [
      "Criando particionamento\n",
      "\t 169 \t+ 43 \t= 212 \t -> apple1\n",
      "\t 124 \t+ 31 \t= 155 \t -> granny_smith_apple\n",
      "\t 136 \t+ 35 \t= 171 \t -> kiwi\n",
      "\t 84 \t+ 22 \t= 106 \t -> lime\n",
      "\t 197 \t+ 50 \t= 247 \t -> nectarine\n",
      "\t 60 \t+ 15 \t= 75 \t -> onion\n",
      "\t 168 \t+ 43 \t= 211 \t -> peach\n",
      "\t 127 \t+ 32 \t= 159 \t -> pear\n",
      "\t 211 \t+ 53 \t= 264 \t -> plum\n",
      "\t 160 \t+ 41 \t= 201 \t -> potato\n",
      "\t 153 \t+ 39 \t= 192 \t -> watermelon\n",
      "Particionamento criado com sucesso!\n"
     ]
    }
   ],
   "source": [
    "criar_treino_teste('./dataset_smkt/', 0.2)"
   ]
  },
  {
   "cell_type": "code",
   "execution_count": 36,
   "metadata": {},
   "outputs": [
    {
     "name": "stdout",
     "output_type": "stream",
     "text": [
      "Found 1194 images belonging to 11 classes.\n",
      "Found 395 images belonging to 11 classes.\n"
     ]
    }
   ],
   "source": [
    "# DIVIDIR AS IMAGENS EM PARTIÇÃO DE TREINO E VALIDAÇÃO, UTILIZANDO O IMAGEDATAGENERATOR #\n",
    "\n",
    "datagen =  ImageDataGenerator(rescale = 1./255, validation_split=0.25) # comando para reescala + divisão em 20% para validação\n",
    "\n",
    "# imagens de treino (75%) \n",
    "\n",
    "train_data = datagen.flow_from_directory('dataset_smkt/train', \n",
    "                                         subset = 'training',\n",
    "                                         batch_size = 64,\n",
    "                                         shuffle = False,\n",
    "                                         target_size = (100, 100)) # definindo tamanho das imagens\n",
    "\n",
    "# imagens de validação (25%)\n",
    "\n",
    "valid_data = datagen.flow_from_directory('dataset_smkt/train',\n",
    "                                         subset='validation',\n",
    "                                         batch_size = 64,\n",
    "                                         shuffle = False,\n",
    "                                         target_size = (100, 100))"
   ]
  },
  {
   "cell_type": "code",
   "execution_count": 37,
   "metadata": {},
   "outputs": [
    {
     "name": "stdout",
     "output_type": "stream",
     "text": [
      "Epoch 1/100\n",
      "19/19 [==============================] - 28s 1s/step - loss: 3.0444 - accuracy: 0.0578 - val_loss: 2.3971 - val_accuracy: 0.1241\n",
      "Epoch 2/100\n",
      "19/19 [==============================] - 26s 1s/step - loss: 2.3967 - accuracy: 0.0871 - val_loss: 2.3965 - val_accuracy: 0.1316\n",
      "Epoch 3/100\n",
      "19/19 [==============================] - 24s 1s/step - loss: 2.3953 - accuracy: 0.1030 - val_loss: 2.3956 - val_accuracy: 0.1316\n",
      "Epoch 4/100\n",
      "19/19 [==============================] - 26s 1s/step - loss: 2.3982 - accuracy: 0.0804 - val_loss: 2.3948 - val_accuracy: 0.1316\n",
      "Epoch 5/100\n",
      "19/19 [==============================] - 25s 1s/step - loss: 2.3932 - accuracy: 0.1281 - val_loss: 2.3939 - val_accuracy: 0.1316\n",
      "Epoch 6/100\n",
      "19/19 [==============================] - 25s 1s/step - loss: 2.3939 - accuracy: 0.0771 - val_loss: 2.3889 - val_accuracy: 0.1316\n",
      "Epoch 7/100\n",
      "19/19 [==============================] - 25s 1s/step - loss: 2.3791 - accuracy: 0.0963 - val_loss: 2.3710 - val_accuracy: 0.1443\n",
      "Epoch 8/100\n",
      "19/19 [==============================] - 25s 1s/step - loss: 2.3627 - accuracy: 0.0997 - val_loss: 2.3903 - val_accuracy: 0.2785\n",
      "Epoch 9/100\n",
      "19/19 [==============================] - 25s 1s/step - loss: 2.3944 - accuracy: 0.1080 - val_loss: 2.3903 - val_accuracy: 0.1418\n",
      "Epoch 10/100\n",
      "19/19 [==============================] - 24s 1s/step - loss: 2.3923 - accuracy: 0.0997 - val_loss: 2.3872 - val_accuracy: 0.1316\n",
      "Epoch 11/100\n",
      "19/19 [==============================] - 25s 1s/step - loss: 2.3788 - accuracy: 0.1097 - val_loss: 2.3200 - val_accuracy: 0.1266\n",
      "Epoch 12/100\n",
      "19/19 [==============================] - 25s 1s/step - loss: 2.3394 - accuracy: 0.1273 - val_loss: 2.3241 - val_accuracy: 0.2709\n",
      "Epoch 13/100\n",
      "19/19 [==============================] - 25s 1s/step - loss: 2.2792 - accuracy: 0.1348 - val_loss: 2.2901 - val_accuracy: 0.3139\n",
      "Epoch 14/100\n",
      "19/19 [==============================] - 25s 1s/step - loss: 2.2082 - accuracy: 0.2069 - val_loss: 2.1913 - val_accuracy: 0.2278\n",
      "Epoch 15/100\n",
      "19/19 [==============================] - 24s 1s/step - loss: 2.1347 - accuracy: 0.2152 - val_loss: 2.1514 - val_accuracy: 0.2329\n",
      "Epoch 16/100\n",
      "19/19 [==============================] - 26s 1s/step - loss: 2.0887 - accuracy: 0.1985 - val_loss: 2.1775 - val_accuracy: 0.2759\n",
      "Epoch 17/100\n",
      "19/19 [==============================] - 24s 1s/step - loss: 2.0238 - accuracy: 0.2580 - val_loss: 2.0636 - val_accuracy: 0.3038\n",
      "Epoch 18/100\n",
      "19/19 [==============================] - 25s 1s/step - loss: 1.9436 - accuracy: 0.2420 - val_loss: 2.0559 - val_accuracy: 0.2684\n",
      "Epoch 19/100\n",
      "19/19 [==============================] - 25s 1s/step - loss: 1.9299 - accuracy: 0.2596 - val_loss: 2.0324 - val_accuracy: 0.2481\n",
      "Epoch 20/100\n",
      "19/19 [==============================] - 24s 1s/step - loss: 1.8939 - accuracy: 0.2697 - val_loss: 2.0439 - val_accuracy: 0.2684\n",
      "Epoch 21/100\n",
      "19/19 [==============================] - 26s 1s/step - loss: 1.9398 - accuracy: 0.3015 - val_loss: 1.9636 - val_accuracy: 0.2456\n",
      "Epoch 22/100\n",
      "19/19 [==============================] - 24s 1s/step - loss: 1.9437 - accuracy: 0.3132 - val_loss: 2.0408 - val_accuracy: 0.3038\n",
      "Epoch 23/100\n",
      "19/19 [==============================] - 25s 1s/step - loss: 1.8577 - accuracy: 0.2806 - val_loss: 2.1021 - val_accuracy: 0.2506\n",
      "Epoch 24/100\n",
      "19/19 [==============================] - 25s 1s/step - loss: 1.8256 - accuracy: 0.2948 - val_loss: 1.8916 - val_accuracy: 0.2987\n",
      "Epoch 25/100\n",
      "19/19 [==============================] - 25s 1s/step - loss: 1.7847 - accuracy: 0.3417 - val_loss: 1.9157 - val_accuracy: 0.2810\n",
      "Epoch 26/100\n",
      "19/19 [==============================] - 25s 1s/step - loss: 1.7402 - accuracy: 0.3342 - val_loss: 1.8618 - val_accuracy: 0.2987\n",
      "Epoch 27/100\n",
      "19/19 [==============================] - 24s 1s/step - loss: 1.7371 - accuracy: 0.3677 - val_loss: 1.9141 - val_accuracy: 0.3190\n",
      "Epoch 28/100\n",
      "19/19 [==============================] - 26s 1s/step - loss: 1.7720 - accuracy: 0.3266 - val_loss: 1.8664 - val_accuracy: 0.3165\n",
      "Epoch 29/100\n",
      "19/19 [==============================] - 24s 1s/step - loss: 1.6863 - accuracy: 0.3710 - val_loss: 1.8068 - val_accuracy: 0.3443\n",
      "Epoch 30/100\n",
      "19/19 [==============================] - 25s 1s/step - loss: 1.6707 - accuracy: 0.3869 - val_loss: 1.8771 - val_accuracy: 0.3494\n",
      "Epoch 31/100\n",
      "19/19 [==============================] - 25s 1s/step - loss: 1.6014 - accuracy: 0.4330 - val_loss: 1.7951 - val_accuracy: 0.3316\n",
      "Epoch 32/100\n",
      "19/19 [==============================] - 24s 1s/step - loss: 1.7849 - accuracy: 0.3400 - val_loss: 1.8120 - val_accuracy: 0.2937\n",
      "Epoch 33/100\n",
      "19/19 [==============================] - 26s 1s/step - loss: 1.5418 - accuracy: 0.4288 - val_loss: 1.7138 - val_accuracy: 0.4152\n",
      "Epoch 34/100\n",
      "19/19 [==============================] - 24s 1s/step - loss: 1.4582 - accuracy: 0.4548 - val_loss: 1.6712 - val_accuracy: 0.4101\n",
      "Epoch 35/100\n",
      "19/19 [==============================] - 25s 1s/step - loss: 1.5266 - accuracy: 0.4430 - val_loss: 1.6276 - val_accuracy: 0.4532\n",
      "Epoch 36/100\n",
      "19/19 [==============================] - 25s 1s/step - loss: 1.4357 - accuracy: 0.4673 - val_loss: 1.5766 - val_accuracy: 0.4304\n",
      "Epoch 37/100\n",
      "19/19 [==============================] - 24s 1s/step - loss: 1.4099 - accuracy: 0.4824 - val_loss: 1.4857 - val_accuracy: 0.4962\n",
      "Epoch 38/100\n",
      "19/19 [==============================] - 26s 1s/step - loss: 1.3421 - accuracy: 0.4765 - val_loss: 1.4932 - val_accuracy: 0.4734\n",
      "Epoch 39/100\n",
      "19/19 [==============================] - 24s 1s/step - loss: 1.3502 - accuracy: 0.4832 - val_loss: 1.4196 - val_accuracy: 0.4962\n",
      "Epoch 40/100\n",
      "19/19 [==============================] - 26s 1s/step - loss: 1.3052 - accuracy: 0.5101 - val_loss: 1.4866 - val_accuracy: 0.4759\n",
      "Epoch 41/100\n",
      "19/19 [==============================] - 25s 1s/step - loss: 1.3526 - accuracy: 0.4916 - val_loss: 1.5084 - val_accuracy: 0.4658\n",
      "Epoch 42/100\n",
      "19/19 [==============================] - 25s 1s/step - loss: 1.3020 - accuracy: 0.5075 - val_loss: 1.4156 - val_accuracy: 0.4937\n",
      "Epoch 43/100\n",
      "19/19 [==============================] - 25s 1s/step - loss: 1.2558 - accuracy: 0.5050 - val_loss: 1.4569 - val_accuracy: 0.4101\n",
      "Epoch 44/100\n",
      "19/19 [==============================] - 24s 1s/step - loss: 1.2984 - accuracy: 0.4992 - val_loss: 1.4657 - val_accuracy: 0.4658\n",
      "Epoch 45/100\n",
      "19/19 [==============================] - 25s 1s/step - loss: 1.2968 - accuracy: 0.4941 - val_loss: 1.3584 - val_accuracy: 0.5215\n",
      "Epoch 46/100\n",
      "19/19 [==============================] - 24s 1s/step - loss: 1.2325 - accuracy: 0.5168 - val_loss: 1.3454 - val_accuracy: 0.4861\n",
      "Epoch 47/100\n",
      "19/19 [==============================] - 25s 1s/step - loss: 1.2498 - accuracy: 0.5034 - val_loss: 1.3637 - val_accuracy: 0.5063\n",
      "Epoch 48/100\n",
      "19/19 [==============================] - 25s 1s/step - loss: 1.2249 - accuracy: 0.5327 - val_loss: 1.3438 - val_accuracy: 0.4810\n",
      "Epoch 49/100\n",
      "19/19 [==============================] - 24s 1s/step - loss: 1.1421 - accuracy: 0.5536 - val_loss: 1.3083 - val_accuracy: 0.5291\n",
      "Epoch 50/100\n",
      "19/19 [==============================] - 25s 1s/step - loss: 1.2081 - accuracy: 0.5302 - val_loss: 1.5276 - val_accuracy: 0.3949\n",
      "Epoch 51/100\n",
      "19/19 [==============================] - 24s 1s/step - loss: 1.2388 - accuracy: 0.5268 - val_loss: 1.4150 - val_accuracy: 0.4456\n",
      "Epoch 52/100\n",
      "19/19 [==============================] - 25s 1s/step - loss: 1.1628 - accuracy: 0.5687 - val_loss: 1.3629 - val_accuracy: 0.5038\n",
      "Epoch 53/100\n",
      "19/19 [==============================] - 25s 1s/step - loss: 1.0847 - accuracy: 0.5544 - val_loss: 1.2364 - val_accuracy: 0.5468\n",
      "Epoch 54/100\n",
      "19/19 [==============================] - 25s 1s/step - loss: 1.1390 - accuracy: 0.5687 - val_loss: 1.2546 - val_accuracy: 0.5468\n",
      "Epoch 55/100\n",
      "19/19 [==============================] - 25s 1s/step - loss: 1.0862 - accuracy: 0.5595 - val_loss: 1.2998 - val_accuracy: 0.4835\n",
      "Epoch 56/100\n",
      "19/19 [==============================] - 24s 1s/step - loss: 1.1181 - accuracy: 0.5879 - val_loss: 1.3024 - val_accuracy: 0.5266\n",
      "Epoch 57/100\n",
      "19/19 [==============================] - 25s 1s/step - loss: 1.0197 - accuracy: 0.6055 - val_loss: 1.1451 - val_accuracy: 0.5671\n",
      "Epoch 58/100\n",
      "19/19 [==============================] - 24s 1s/step - loss: 0.9917 - accuracy: 0.5921 - val_loss: 1.1854 - val_accuracy: 0.5519\n"
     ]
    },
    {
     "name": "stdout",
     "output_type": "stream",
     "text": [
      "Epoch 59/100\n",
      "19/19 [==============================] - 25s 1s/step - loss: 1.0892 - accuracy: 0.5812 - val_loss: 1.3188 - val_accuracy: 0.4861\n",
      "Epoch 60/100\n",
      "19/19 [==============================] - 25s 1s/step - loss: 1.4807 - accuracy: 0.4832 - val_loss: 1.4893 - val_accuracy: 0.4456\n",
      "Epoch 61/100\n",
      "19/19 [==============================] - 24s 1s/step - loss: 1.4406 - accuracy: 0.4623 - val_loss: 1.6494 - val_accuracy: 0.3620\n",
      "Epoch 62/100\n",
      "19/19 [==============================] - 25s 1s/step - loss: 1.3486 - accuracy: 0.4816 - val_loss: 1.5089 - val_accuracy: 0.4481\n",
      "Epoch 63/100\n",
      "19/19 [==============================] - 24s 1s/step - loss: 1.1396 - accuracy: 0.5821 - val_loss: 1.3694 - val_accuracy: 0.4785\n",
      "Epoch 64/100\n",
      "19/19 [==============================] - 25s 1s/step - loss: 1.0457 - accuracy: 0.5812 - val_loss: 1.2244 - val_accuracy: 0.5291\n",
      "Epoch 65/100\n",
      "19/19 [==============================] - 25s 1s/step - loss: 0.9307 - accuracy: 0.6374 - val_loss: 1.2488 - val_accuracy: 0.5063\n",
      "Epoch 66/100\n",
      "19/19 [==============================] - 24s 1s/step - loss: 0.9578 - accuracy: 0.6240 - val_loss: 1.1957 - val_accuracy: 0.5316\n",
      "Epoch 67/100\n",
      "19/19 [==============================] - 25s 1s/step - loss: 0.9483 - accuracy: 0.6122 - val_loss: 1.1020 - val_accuracy: 0.5848\n",
      "Epoch 68/100\n",
      "19/19 [==============================] - 24s 1s/step - loss: 0.9244 - accuracy: 0.6265 - val_loss: 1.2873 - val_accuracy: 0.5089\n",
      "Epoch 69/100\n",
      "19/19 [==============================] - 25s 1s/step - loss: 0.8785 - accuracy: 0.6692 - val_loss: 1.0723 - val_accuracy: 0.5848\n",
      "Epoch 70/100\n",
      "19/19 [==============================] - 25s 1s/step - loss: 0.8303 - accuracy: 0.6817 - val_loss: 1.1781 - val_accuracy: 0.5392\n",
      "Epoch 71/100\n",
      "19/19 [==============================] - 25s 1s/step - loss: 0.9550 - accuracy: 0.6432 - val_loss: 1.2650 - val_accuracy: 0.5620\n",
      "Epoch 72/100\n",
      "19/19 [==============================] - 25s 1s/step - loss: 0.9049 - accuracy: 0.6332 - val_loss: 1.2439 - val_accuracy: 0.4962\n",
      "Epoch 73/100\n",
      "19/19 [==============================] - 24s 1s/step - loss: 0.8428 - accuracy: 0.6667 - val_loss: 1.1383 - val_accuracy: 0.5747\n",
      "Epoch 74/100\n",
      "19/19 [==============================] - 25s 1s/step - loss: 0.8063 - accuracy: 0.6893 - val_loss: 0.9878 - val_accuracy: 0.5975\n",
      "Epoch 75/100\n",
      "19/19 [==============================] - 24s 1s/step - loss: 0.8207 - accuracy: 0.6683 - val_loss: 1.0501 - val_accuracy: 0.5772\n",
      "Epoch 76/100\n",
      "19/19 [==============================] - 25s 1s/step - loss: 0.6844 - accuracy: 0.7496 - val_loss: 1.1947 - val_accuracy: 0.5646\n",
      "Epoch 77/100\n",
      "19/19 [==============================] - 25s 1s/step - loss: 0.6907 - accuracy: 0.7194 - val_loss: 0.9030 - val_accuracy: 0.6076\n",
      "Epoch 78/100\n",
      "19/19 [==============================] - 24s 1s/step - loss: 0.7620 - accuracy: 0.6943 - val_loss: 1.3907 - val_accuracy: 0.4987\n",
      "Epoch 79/100\n",
      "19/19 [==============================] - 25s 1s/step - loss: 0.7322 - accuracy: 0.7144 - val_loss: 1.1737 - val_accuracy: 0.5899\n",
      "Epoch 80/100\n",
      "19/19 [==============================] - 24s 1s/step - loss: 0.8314 - accuracy: 0.6600 - val_loss: 1.4944 - val_accuracy: 0.4608\n",
      "Epoch 81/100\n",
      "19/19 [==============================] - 25s 1s/step - loss: 0.8868 - accuracy: 0.6683 - val_loss: 1.1097 - val_accuracy: 0.5975\n",
      "Epoch 82/100\n",
      "19/19 [==============================] - 25s 1s/step - loss: 0.7693 - accuracy: 0.6843 - val_loss: 1.1442 - val_accuracy: 0.5443\n",
      "Epoch 83/100\n",
      "19/19 [==============================] - 25s 1s/step - loss: 0.6891 - accuracy: 0.7353 - val_loss: 1.0663 - val_accuracy: 0.5696\n",
      "Epoch 84/100\n",
      "19/19 [==============================] - 25s 1s/step - loss: 0.7065 - accuracy: 0.7320 - val_loss: 1.1058 - val_accuracy: 0.6051\n",
      "Epoch 85/100\n",
      "19/19 [==============================] - 24s 1s/step - loss: 0.7042 - accuracy: 0.7069 - val_loss: 1.1350 - val_accuracy: 0.5443\n",
      "Epoch 86/100\n",
      "19/19 [==============================] - 25s 1s/step - loss: 0.7318 - accuracy: 0.7060 - val_loss: 1.3763 - val_accuracy: 0.4861\n",
      "Epoch 87/100\n",
      "19/19 [==============================] - 24s 1s/step - loss: 0.8968 - accuracy: 0.6776 - val_loss: 1.3831 - val_accuracy: 0.5165\n",
      "Epoch 88/100\n",
      "19/19 [==============================] - 25s 1s/step - loss: 0.8060 - accuracy: 0.7002 - val_loss: 0.9732 - val_accuracy: 0.6177\n",
      "Epoch 89/100\n",
      "19/19 [==============================] - 25s 1s/step - loss: 0.8420 - accuracy: 0.6943 - val_loss: 1.0986 - val_accuracy: 0.5519\n",
      "Epoch 90/100\n",
      "19/19 [==============================] - 24s 1s/step - loss: 0.6362 - accuracy: 0.7596 - val_loss: 1.1511 - val_accuracy: 0.5924\n",
      "Epoch 91/100\n",
      "19/19 [==============================] - 26s 1s/step - loss: 0.6421 - accuracy: 0.7412 - val_loss: 0.9585 - val_accuracy: 0.6430\n",
      "Epoch 92/100\n",
      "19/19 [==============================] - 24s 1s/step - loss: 0.6306 - accuracy: 0.7479 - val_loss: 1.4378 - val_accuracy: 0.5139\n",
      "Epoch 93/100\n",
      "19/19 [==============================] - 25s 1s/step - loss: 0.6054 - accuracy: 0.7630 - val_loss: 0.9795 - val_accuracy: 0.6329\n",
      "Epoch 94/100\n",
      "19/19 [==============================] - 25s 1s/step - loss: 0.6203 - accuracy: 0.7663 - val_loss: 1.0637 - val_accuracy: 0.6506\n",
      "Epoch 95/100\n",
      "19/19 [==============================] - 25s 1s/step - loss: 0.5824 - accuracy: 0.7755 - val_loss: 1.1476 - val_accuracy: 0.6253\n",
      "Epoch 96/100\n",
      "19/19 [==============================] - 26s 1s/step - loss: 0.5709 - accuracy: 0.7688 - val_loss: 1.2463 - val_accuracy: 0.5848\n",
      "Epoch 97/100\n",
      "19/19 [==============================] - 24s 1s/step - loss: 0.5051 - accuracy: 0.7990 - val_loss: 0.9762 - val_accuracy: 0.6557\n",
      "Epoch 98/100\n",
      "19/19 [==============================] - 25s 1s/step - loss: 0.5989 - accuracy: 0.7546 - val_loss: 1.4649 - val_accuracy: 0.5823\n",
      "Epoch 99/100\n",
      "19/19 [==============================] - 25s 1s/step - loss: 0.6444 - accuracy: 0.7404 - val_loss: 1.4384 - val_accuracy: 0.5797\n",
      "Epoch 100/100\n",
      "19/19 [==============================] - 25s 1s/step - loss: 0.7446 - accuracy: 0.7111 - val_loss: 1.0466 - val_accuracy: 0.6177\n"
     ]
    }
   ],
   "source": [
    "# INÍCIO DO TREINO DO MODELO #\n",
    "\n",
    "history = model_n3.fit(train_data,\n",
    "                    epochs=100,\n",
    "                    validation_data=valid_data)\n",
    "\n",
    "# informação: steps_per_epoch = número de imagens / batch_size"
   ]
  },
  {
   "cell_type": "code",
   "execution_count": 38,
   "metadata": {},
   "outputs": [],
   "source": [
    "model_n3.save('model_n3.h5',\n",
    "          overwrite = True) \n",
    "del model_n3\n",
    "\n",
    "with open('trainHistoryDict_model_n3', 'wb') as file_pi:\n",
    "        pickle.dump(history.history, file_pi)"
   ]
  },
  {
   "cell_type": "code",
   "execution_count": 39,
   "metadata": {},
   "outputs": [],
   "source": [
    "model_n3 = keras.models.load_model('model_n3.h5')\n",
    "history = pickle.load(open('trainHistoryDict_model_n3', \"rb\"))"
   ]
  },
  {
   "cell_type": "code",
   "execution_count": 40,
   "metadata": {},
   "outputs": [
    {
     "name": "stdout",
     "output_type": "stream",
     "text": [
      "Model: \"sequential\"\n",
      "_________________________________________________________________\n",
      "Layer (type)                 Output Shape              Param #   \n",
      "=================================================================\n",
      "conv2d (Conv2D)              (None, 98, 98, 32)        896       \n",
      "_________________________________________________________________\n",
      "max_pooling2d (MaxPooling2D) (None, 49, 49, 32)        0         \n",
      "_________________________________________________________________\n",
      "dropout (Dropout)            (None, 49, 49, 32)        0         \n",
      "_________________________________________________________________\n",
      "conv2d_1 (Conv2D)            (None, 47, 47, 64)        18496     \n",
      "_________________________________________________________________\n",
      "max_pooling2d_1 (MaxPooling2 (None, 23, 23, 64)        0         \n",
      "_________________________________________________________________\n",
      "dropout_1 (Dropout)          (None, 23, 23, 64)        0         \n",
      "_________________________________________________________________\n",
      "conv2d_2 (Conv2D)            (None, 21, 21, 64)        36928     \n",
      "_________________________________________________________________\n",
      "max_pooling2d_2 (MaxPooling2 (None, 10, 10, 64)        0         \n",
      "_________________________________________________________________\n",
      "dropout_2 (Dropout)          (None, 10, 10, 64)        0         \n",
      "_________________________________________________________________\n",
      "flatten (Flatten)            (None, 6400)              0         \n",
      "_________________________________________________________________\n",
      "dense (Dense)                (None, 64)                409664    \n",
      "_________________________________________________________________\n",
      "dropout_3 (Dropout)          (None, 64)                0         \n",
      "_________________________________________________________________\n",
      "dense_1 (Dense)              (None, 11)                715       \n",
      "=================================================================\n",
      "Total params: 466,699\n",
      "Trainable params: 466,699\n",
      "Non-trainable params: 0\n",
      "_________________________________________________________________\n"
     ]
    }
   ],
   "source": [
    "model_n3.summary()"
   ]
  },
  {
   "cell_type": "code",
   "execution_count": 41,
   "metadata": {},
   "outputs": [
    {
     "data": {
      "text/plain": [
       "<matplotlib.legend.Legend at 0x21a826086a0>"
      ]
     },
     "execution_count": 41,
     "metadata": {},
     "output_type": "execute_result"
    },
    {
     "data": {
      "image/png": "[encoded data removed]",
      "text/plain": [
       "<Figure size 432x288 with 1 Axes>"
      ]
     },
     "metadata": {
      "needs_background": "light"
     },
     "output_type": "display_data"
    }
   ],
   "source": [
    "# GERANDO GRÁFICO COM RESULTADOS DAS ACURÁCIAS DE TREINO E VALIDAÇÃO #\n",
    "\n",
    "plt.plot(history['accuracy'], label='accuracy_train')\n",
    "plt.plot(history['val_accuracy'], label = 'accuracy_valid')\n",
    "plt.xlabel('Epoch')\n",
    "plt.ylabel('Accuracy')\n",
    "plt.ylim([0, 1])\n",
    "plt.legend(loc='lower right')"
   ]
  },
  {
   "cell_type": "code",
   "execution_count": 42,
   "metadata": {},
   "outputs": [
    {
     "data": {
      "text/plain": [
       "<matplotlib.legend.Legend at 0x21a824c4280>"
      ]
     },
     "execution_count": 42,
     "metadata": {},
     "output_type": "execute_result"
    },
    {
     "data": {
      "image/png": "[encoded data removed]",
      "text/plain": [
       "<Figure size 432x288 with 1 Axes>"
      ]
     },
     "metadata": {
      "needs_background": "light"
     },
     "output_type": "display_data"
    }
   ],
   "source": [
    "# GERANDO GRÁFICO COM RESULTADOS DO LOSS DE TREINO E VALIDAÇÃO #\n",
    "\n",
    "plt.plot(history['loss'], label='loss train')\n",
    "plt.plot(history['val_loss'], label='loss val')\n",
    "plt.xlabel('Epoch')\n",
    "plt.ylabel('Loss')\n",
    "plt.ylim([0, 3])\n",
    "plt.legend(loc='lower right')"
   ]
  },
  {
   "cell_type": "code",
   "execution_count": 43,
   "metadata": {},
   "outputs": [
    {
     "name": "stdout",
     "output_type": "stream",
     "text": [
      "Found 404 images belonging to 11 classes.\n"
     ]
    }
   ],
   "source": [
    "datagen_test =  ImageDataGenerator(rescale = 1./255) # comando para reescala das imagens de teste\n",
    "\n",
    "# imagens de teste\n",
    "\n",
    "test_data = datagen_test.flow_from_directory(directory='dataset_smkt/test',\n",
    "                                                      target_size = (100, 100),\n",
    "                                                      batch_size = 64,\n",
    "                                                      shuffle=False)"
   ]
  },
  {
   "cell_type": "code",
   "execution_count": 44,
   "metadata": {},
   "outputs": [
    {
     "name": "stdout",
     "output_type": "stream",
     "text": [
      "7/7 [==============================] - 5s 646ms/step - loss: 0.4917 - accuracy: 0.8416\n",
      "acurácia nos dados de teste: 0.8415841460227966\n",
      "loss dos dados de teste: 0.49171677231788635\n"
     ]
    }
   ],
   "source": [
    "# DEFININDO COMANDO PARA AVALIAR O DESEMPENHO DO MODELO NAS IMAGENS DE TESTE #\n",
    "\n",
    "test_loss, test_acc = model_n3.evaluate(test_data) # verificar versão do Keras\n",
    "\n",
    "print(\"acurácia nos dados de teste:\", test_acc)\n",
    "print(\"loss dos dados de teste:\", test_loss)"
   ]
  },
  {
   "cell_type": "code",
   "execution_count": 45,
   "metadata": {},
   "outputs": [
    {
     "name": "stdout",
     "output_type": "stream",
     "text": [
      "(404,)\n",
      "Accuracy\n",
      "0.8415841584158416\n",
      "Balanced Accuracy\n",
      "0.8364997064521582\n",
      "Confusion Matrix\n",
      "[[35  0  1  0  2  0  4  0  1  0  0]\n",
      " [ 0 27  0  0  0  0  0  0  0  0  4]\n",
      " [ 0  0 23  0  2  0  1  0  9  0  0]\n",
      " [ 0  0  0 21  0  0  1  0  0  0  0]\n",
      " [ 3  0  3  0 43  0  0  0  1  0  0]\n",
      " [ 0  0  0  0  0 11  0  0  0  4  0]\n",
      " [ 4  0  1  0  1  0 36  0  1  0  0]\n",
      " [ 0  0  2  0  0  0  2 27  1  0  0]\n",
      " [ 2  0  0  0  1  0  0  1 49  0  0]\n",
      " [ 0  0  7  0  0  4  0  0  0 30  0]\n",
      " [ 0  1  0  0  0  0  0  0  0  0 38]]\n",
      "Classification Report\n"
     ]
    }
   ],
   "source": [
    "Y_pred = model_n3.predict(test_data)\n",
    "y_pred = np.argmax(Y_pred, axis=1)\n",
    "\n",
    "print(y_pred.shape)\n",
    "\n",
    "print('Accuracy')\n",
    "print(accuracy_score(test_data.classes,y_pred))\n",
    "\n",
    "print('Balanced Accuracy')\n",
    "print(balanced_accuracy_score(test_data.classes,y_pred))\n",
    "\n",
    "print('Confusion Matrix')\n",
    "print(confusion_matrix(test_data.classes, y_pred))\n",
    "print('Classification Report')"
   ]
  },
  {
   "cell_type": "markdown",
   "metadata": {},
   "source": [
    "#### Referência:\n",
    "\n",
    "ROCHA, A. et al. Automatic fruit and vegetable classification from images. Computers and Electronics in Agriculture, v. 70, n. 1, p. 96-104, 2010."
   ]
  },
  {
   "cell_type": "code",
   "execution_count": null,
   "metadata": {},
   "outputs": [],
   "source": []
  },
  {
   "cell_type": "code",
   "execution_count": null,
   "metadata": {},
   "outputs": [],
   "source": []
  },
  {
   "cell_type": "code",
   "execution_count": null,
   "metadata": {},
   "outputs": [],
   "source": []
  }
 ],
 "metadata": {
  "kernelspec": {
   "display_name": "Python 3",
   "language": "python",
   "name": "python3"
  },
  "language_info": {
   "codemirror_mode": {
    "name": "ipython",
    "version": 3
   },
   "file_extension": ".py",
   "mimetype": "text/x-python",
   "name": "python",
   "nbconvert_exporter": "python",
   "pygments_lexer": "ipython3",
   "version": "3.8.8"
  }
 },
 "nbformat": 4,
 "nbformat_minor": 4
}
