{
 "cells": [
  {
   "cell_type": "markdown",
   "metadata": {},
   "source": [
    "# Código testando as estratégias de divisão dos dados sem fine-tuning"
   ]
  },
  {
   "cell_type": "markdown",
   "metadata": {},
   "source": [
    "100 épocas.\n",
    "Usando Shuffle = True em tudo e sem semente"
   ]
  },
  {
   "cell_type": "markdown",
   "metadata": {},
   "source": [
    "Neste código serão criados 3 modelos usando 3 estratégias diferentes. Os modelos serão treinados, validados e testados usando  o dataset Supermarket Produce (ROCHA et al., 2010).\n",
    "\n",
    "As estratégias serão as seguintes:\n",
    "- 1ª estratégia (2_est): 50% do dataset para treino e 50% para teste;\n",
    "- 2ª estratégia (3_est): 70% do dataset para treino e 30% para teste;\n",
    "- 3ª estratégia (4_est): 80% do dataset para treino e 20% para teste."
   ]
  },
  {
   "cell_type": "code",
   "execution_count": 1,
   "metadata": {},
   "outputs": [
    {
     "name": "stdout",
     "output_type": "stream",
     "text": [
      "Versão do TensorFlow: 2.5.0\n",
      "versão do Keras: 2.5.0\n"
     ]
    }
   ],
   "source": [
    "import tensorflow as tf\n",
    "print(\"Versão do TensorFlow:\", tf.__version__)\n",
    "\n",
    "from tensorflow import keras\n",
    "print(\"versão do Keras:\", keras.__version__)\n",
    "\n",
    "# IMPORTANDO COMANDOS E FUNÇÕES #\n",
    "\n",
    "import numpy             as np\n",
    "import h5py\n",
    "import matplotlib.pyplot as plt #gerar gráfico\n",
    "import os\n",
    "from keras.preprocessing.image import ImageDataGenerator\n",
    "from keras.callbacks           import EarlyStopping\n",
    "\n",
    "from sklearn.metrics import classification_report, confusion_matrix, balanced_accuracy_score, accuracy_score\n",
    "\n",
    "import pickle\n",
    "\n",
    "# IMPORTANDO LAYERS PARA A CNN #\n",
    "\n",
    "from keras.models import Sequential\n",
    "from keras        import layers\n",
    "from keras.layers import Dropout"
   ]
  },
  {
   "cell_type": "code",
   "execution_count": 2,
   "metadata": {},
   "outputs": [
    {
     "name": "stdout",
     "output_type": "stream",
     "text": [
      "versao do h5py: 3.1.0\n"
     ]
    }
   ],
   "source": [
    "print(\"versao do h5py:\", h5py.__version__)"
   ]
  },
  {
   "cell_type": "code",
   "execution_count": 3,
   "metadata": {},
   "outputs": [],
   "source": [
    "# MONTANDO A ESTRUTURA DA CNN #\n",
    "\n",
    "modelo = Sequential()\n",
    "modelo.add(layers.Conv2D(32, (3, 3), activation='relu', input_shape=(100, 100, 3)))\n",
    "modelo.add(layers.MaxPooling2D((2, 2)))\n",
    "modelo.add(Dropout(0.5)) # dropout de 50%\n",
    "modelo.add(layers.Conv2D(64, (3, 3), activation='relu'))\n",
    "modelo.add(layers.MaxPooling2D((2, 2)))\n",
    "modelo.add(Dropout(0.5))\n",
    "modelo.add(layers.Conv2D(64, (3, 3), activation='relu'))\n",
    "modelo.add(layers.MaxPooling2D((2, 2)))\n",
    "modelo.add(Dropout(0.5))\n",
    "\n",
    "modelo.add(layers.Flatten()) # camada de achatamento\n",
    "modelo.add(layers.Dense(64, activation='relu'))\n",
    "modelo.add(Dropout(0.5))\n",
    "modelo.add(layers.Dense(units = 11, activation = 'softmax')) # 11 unidades de saída (11 classes)"
   ]
  },
  {
   "cell_type": "code",
   "execution_count": 4,
   "metadata": {},
   "outputs": [
    {
     "name": "stdout",
     "output_type": "stream",
     "text": [
      "Model: \"sequential\"\n",
      "_________________________________________________________________\n",
      "Layer (type)                 Output Shape              Param #   \n",
      "=================================================================\n",
      "conv2d (Conv2D)              (None, 98, 98, 32)        896       \n",
      "_________________________________________________________________\n",
      "max_pooling2d (MaxPooling2D) (None, 49, 49, 32)        0         \n",
      "_________________________________________________________________\n",
      "dropout (Dropout)            (None, 49, 49, 32)        0         \n",
      "_________________________________________________________________\n",
      "conv2d_1 (Conv2D)            (None, 47, 47, 64)        18496     \n",
      "_________________________________________________________________\n",
      "max_pooling2d_1 (MaxPooling2 (None, 23, 23, 64)        0         \n",
      "_________________________________________________________________\n",
      "dropout_1 (Dropout)          (None, 23, 23, 64)        0         \n",
      "_________________________________________________________________\n",
      "conv2d_2 (Conv2D)            (None, 21, 21, 64)        36928     \n",
      "_________________________________________________________________\n",
      "max_pooling2d_2 (MaxPooling2 (None, 10, 10, 64)        0         \n",
      "_________________________________________________________________\n",
      "dropout_2 (Dropout)          (None, 10, 10, 64)        0         \n",
      "_________________________________________________________________\n",
      "flatten (Flatten)            (None, 6400)              0         \n",
      "_________________________________________________________________\n",
      "dense (Dense)                (None, 64)                409664    \n",
      "_________________________________________________________________\n",
      "dropout_3 (Dropout)          (None, 64)                0         \n",
      "_________________________________________________________________\n",
      "dense_1 (Dense)              (None, 11)                715       \n",
      "=================================================================\n",
      "Total params: 466,699\n",
      "Trainable params: 466,699\n",
      "Non-trainable params: 0\n",
      "_________________________________________________________________\n"
     ]
    }
   ],
   "source": [
    "modelo.summary() # resumo da estrutura, com os parâmetros ajustáveis"
   ]
  },
  {
   "cell_type": "code",
   "execution_count": 5,
   "metadata": {},
   "outputs": [],
   "source": [
    "modelo.compile(optimizer='adam',\n",
    "              loss=tf.keras.losses.CategoricalCrossentropy(\n",
    "                  from_logits=False,\n",
    "                  label_smoothing=0,                            #configurações da função loss\n",
    "                  reduction=\"auto\",\n",
    "                  name=\"categorical_crossentropy\"),\n",
    "              metrics=['accuracy'])"
   ]
  },
  {
   "cell_type": "code",
   "execution_count": 6,
   "metadata": {},
   "outputs": [],
   "source": [
    "modelo.save('model_base.h5',\n",
    "          overwrite = True) "
   ]
  },
  {
   "cell_type": "code",
   "execution_count": 7,
   "metadata": {},
   "outputs": [
    {
     "name": "stdout",
     "output_type": "stream",
     "text": [
      "Criando particionamento\n",
      "\t 492 \t+ 164 \t= 656 \t -> apple1\n",
      "\t 492 \t+ 164 \t= 656 \t -> granny_smith_apple\n",
      "\t 466 \t+ 156 \t= 622 \t -> kiwi\n",
      "\t 492 \t+ 164 \t= 656 \t -> lime\n",
      "\t 492 \t+ 164 \t= 656 \t -> nectarine\n",
      "\t 438 \t+ 146 \t= 584 \t -> onion\n",
      "\t 492 \t+ 164 \t= 656 \t -> peach\n",
      "\t 492 \t+ 164 \t= 656 \t -> pear\n",
      "\t 421 \t+ 141 \t= 562 \t -> plum\n",
      "\t 450 \t+ 150 \t= 600 \t -> potato\n",
      "\t 474 \t+ 158 \t= 632 \t -> watermelon\n",
      "Particionamento criado com sucesso!\n"
     ]
    }
   ],
   "source": [
    "# Importando a função (criada pelo Gustavo) que faz a separação dos dados em treino e teste\n",
    "\n",
    "from functions_extras_v2 import criar_treino_teste"
   ]
  },
  {
   "cell_type": "markdown",
   "metadata": {},
   "source": [
    "## Primeira estratégia: 50% treino 50% teste"
   ]
  },
  {
   "cell_type": "code",
   "execution_count": 8,
   "metadata": {},
   "outputs": [],
   "source": [
    "# Puxando a estrutura base da rede\n",
    "\n",
    "model_n1 = keras.models.load_model('model_base.h5')"
   ]
  },
  {
   "cell_type": "code",
   "execution_count": 9,
   "metadata": {},
   "outputs": [],
   "source": [
    "model_n1.compile(optimizer='adam',\n",
    "              loss=tf.keras.losses.CategoricalCrossentropy(\n",
    "                  from_logits=False,\n",
    "                  label_smoothing=0,                            #configurações da função loss\n",
    "                  reduction=\"auto\",\n",
    "                  name=\"categorical_crossentropy\"),\n",
    "              metrics=['accuracy'])"
   ]
  },
  {
   "cell_type": "code",
   "execution_count": 10,
   "metadata": {},
   "outputs": [
    {
     "name": "stdout",
     "output_type": "stream",
     "text": [
      "Criando particionamento\n",
      "\t 106 \t+ 106 \t= 212 \t -> apple1\n",
      "\t 77 \t+ 78 \t= 155 \t -> granny_smith_apple\n",
      "\t 85 \t+ 86 \t= 171 \t -> kiwi\n",
      "\t 53 \t+ 53 \t= 106 \t -> lime\n",
      "\t 123 \t+ 124 \t= 247 \t -> nectarine\n",
      "\t 37 \t+ 38 \t= 75 \t -> onion\n",
      "\t 105 \t+ 106 \t= 211 \t -> peach\n",
      "\t 79 \t+ 80 \t= 159 \t -> pear\n",
      "\t 132 \t+ 132 \t= 264 \t -> plum\n",
      "\t 100 \t+ 101 \t= 201 \t -> potato\n",
      "\t 96 \t+ 96 \t= 192 \t -> watermelon\n",
      "Particionamento criado com sucesso!\n"
     ]
    }
   ],
   "source": [
    "criar_treino_teste('./dataset_smkt/', 0.5)"
   ]
  },
  {
   "cell_type": "code",
   "execution_count": 11,
   "metadata": {},
   "outputs": [
    {
     "name": "stdout",
     "output_type": "stream",
     "text": [
      "Found 748 images belonging to 11 classes.\n",
      "Found 245 images belonging to 11 classes.\n"
     ]
    }
   ],
   "source": [
    "# DIVIDIR AS IMAGENS EM PARTIÇÃO DE TREINO E VALIDAÇÃO, UTILIZANDO O IMAGEDATAGENERATOR #\n",
    "\n",
    "datagen =  ImageDataGenerator(rescale = 1./255, validation_split=0.25) # comando para reescala + divisão em 20% para validação\n",
    "\n",
    "# imagens de treino (75%) \n",
    "\n",
    "train_data = datagen.flow_from_directory('dataset_smkt/train', \n",
    "                                         subset = 'training',\n",
    "                                         batch_size = 64,\n",
    "                                         shuffle = True,\n",
    "                                         target_size = (100, 100)) # definindo tamanho das imagens\n",
    "\n",
    "# imagens de validação (25%)\n",
    "\n",
    "valid_data = datagen.flow_from_directory('dataset_smkt/train',\n",
    "                                         subset = 'validation',\n",
    "                                         batch_size = 64,\n",
    "                                         shuffle = True,\n",
    "                                         target_size = (100, 100))"
   ]
  },
  {
   "cell_type": "code",
   "execution_count": 12,
   "metadata": {
    "scrolled": false
   },
   "outputs": [
    {
     "name": "stdout",
     "output_type": "stream",
     "text": [
      "Epoch 1/100\n",
      "12/12 [==============================] - 15s 1s/step - loss: 2.5216 - accuracy: 0.1230 - val_loss: 2.3946 - val_accuracy: 0.1347\n",
      "Epoch 2/100\n",
      "12/12 [==============================] - 15s 1s/step - loss: 2.3719 - accuracy: 0.1243 - val_loss: 2.3884 - val_accuracy: 0.1347\n",
      "Epoch 3/100\n",
      "12/12 [==============================] - 15s 1s/step - loss: 2.3490 - accuracy: 0.1243 - val_loss: 2.3818 - val_accuracy: 0.1551\n",
      "Epoch 4/100\n",
      "12/12 [==============================] - 15s 1s/step - loss: 2.3232 - accuracy: 0.1324 - val_loss: 2.3789 - val_accuracy: 0.2653\n",
      "Epoch 5/100\n",
      "12/12 [==============================] - 16s 1s/step - loss: 2.2516 - accuracy: 0.1872 - val_loss: 2.2971 - val_accuracy: 0.2408\n",
      "Epoch 6/100\n",
      "12/12 [==============================] - 17s 1s/step - loss: 2.1755 - accuracy: 0.2005 - val_loss: 2.2557 - val_accuracy: 0.3102\n",
      "Epoch 7/100\n",
      "12/12 [==============================] - 16s 1s/step - loss: 2.0991 - accuracy: 0.2500 - val_loss: 2.1554 - val_accuracy: 0.2531\n",
      "Epoch 8/100\n",
      "12/12 [==============================] - 16s 1s/step - loss: 1.9929 - accuracy: 0.2941 - val_loss: 2.1212 - val_accuracy: 0.3510\n",
      "Epoch 9/100\n",
      "12/12 [==============================] - 17s 1s/step - loss: 1.9083 - accuracy: 0.3316 - val_loss: 1.9659 - val_accuracy: 0.3061\n",
      "Epoch 10/100\n",
      "12/12 [==============================] - 16s 1s/step - loss: 1.7792 - accuracy: 0.3583 - val_loss: 1.9391 - val_accuracy: 0.3224\n",
      "Epoch 11/100\n",
      "12/12 [==============================] - 15s 1s/step - loss: 1.7628 - accuracy: 0.3329 - val_loss: 1.9182 - val_accuracy: 0.3143\n",
      "Epoch 12/100\n",
      "12/12 [==============================] - 15s 1s/step - loss: 1.6765 - accuracy: 0.3650 - val_loss: 1.8780 - val_accuracy: 0.3184\n",
      "Epoch 13/100\n",
      "12/12 [==============================] - 16s 1s/step - loss: 1.6561 - accuracy: 0.3783 - val_loss: 1.8858 - val_accuracy: 0.3143\n",
      "Epoch 14/100\n",
      "12/12 [==============================] - 15s 1s/step - loss: 1.5747 - accuracy: 0.4118 - val_loss: 1.7883 - val_accuracy: 0.3102\n",
      "Epoch 15/100\n",
      "12/12 [==============================] - 15s 1s/step - loss: 1.5282 - accuracy: 0.4198 - val_loss: 1.7963 - val_accuracy: 0.3061\n",
      "Epoch 16/100\n",
      "12/12 [==============================] - 15s 1s/step - loss: 1.4786 - accuracy: 0.4412 - val_loss: 1.7946 - val_accuracy: 0.3265\n",
      "Epoch 17/100\n",
      "12/12 [==============================] - 16s 1s/step - loss: 1.4315 - accuracy: 0.4599 - val_loss: 1.7708 - val_accuracy: 0.3755\n",
      "Epoch 18/100\n",
      "12/12 [==============================] - 15s 1s/step - loss: 1.3802 - accuracy: 0.4759 - val_loss: 1.6720 - val_accuracy: 0.3469\n",
      "Epoch 19/100\n",
      "12/12 [==============================] - 15s 1s/step - loss: 1.2729 - accuracy: 0.5214 - val_loss: 1.6136 - val_accuracy: 0.3714\n",
      "Epoch 20/100\n",
      "12/12 [==============================] - 15s 1s/step - loss: 1.2237 - accuracy: 0.5160 - val_loss: 1.5905 - val_accuracy: 0.3918\n",
      "Epoch 21/100\n",
      "12/12 [==============================] - 16s 1s/step - loss: 1.2113 - accuracy: 0.5067 - val_loss: 1.4722 - val_accuracy: 0.4041\n",
      "Epoch 22/100\n",
      "12/12 [==============================] - 15s 1s/step - loss: 1.1534 - accuracy: 0.5388 - val_loss: 1.4242 - val_accuracy: 0.4694\n",
      "Epoch 23/100\n",
      "12/12 [==============================] - 15s 1s/step - loss: 1.1534 - accuracy: 0.5548 - val_loss: 1.4655 - val_accuracy: 0.4367\n",
      "Epoch 24/100\n",
      "12/12 [==============================] - 16s 1s/step - loss: 1.1967 - accuracy: 0.5067 - val_loss: 1.4319 - val_accuracy: 0.4408\n",
      "Epoch 25/100\n",
      "12/12 [==============================] - 16s 1s/step - loss: 1.1119 - accuracy: 0.5709 - val_loss: 1.3462 - val_accuracy: 0.5510\n",
      "Epoch 26/100\n",
      "12/12 [==============================] - 15s 1s/step - loss: 1.0627 - accuracy: 0.5789 - val_loss: 1.3063 - val_accuracy: 0.5551\n",
      "Epoch 27/100\n",
      "12/12 [==============================] - 15s 1s/step - loss: 0.9714 - accuracy: 0.6176 - val_loss: 1.3182 - val_accuracy: 0.5388\n",
      "Epoch 28/100\n",
      "12/12 [==============================] - 16s 1s/step - loss: 0.8578 - accuracy: 0.6524 - val_loss: 1.2946 - val_accuracy: 0.5265\n",
      "Epoch 29/100\n",
      "12/12 [==============================] - 16s 1s/step - loss: 0.9865 - accuracy: 0.6176 - val_loss: 1.3097 - val_accuracy: 0.5306\n",
      "Epoch 30/100\n",
      "12/12 [==============================] - 15s 1s/step - loss: 0.9355 - accuracy: 0.6404 - val_loss: 1.2833 - val_accuracy: 0.5714\n",
      "Epoch 31/100\n",
      "12/12 [==============================] - 15s 1s/step - loss: 0.9064 - accuracy: 0.6377 - val_loss: 1.1341 - val_accuracy: 0.5755\n",
      "Epoch 32/100\n",
      "12/12 [==============================] - 16s 1s/step - loss: 0.8194 - accuracy: 0.6564 - val_loss: 1.0651 - val_accuracy: 0.6327\n",
      "Epoch 33/100\n",
      "12/12 [==============================] - 15s 1s/step - loss: 0.8709 - accuracy: 0.6364 - val_loss: 1.0456 - val_accuracy: 0.6122\n",
      "Epoch 34/100\n",
      "12/12 [==============================] - 15s 1s/step - loss: 0.8027 - accuracy: 0.6618 - val_loss: 1.2653 - val_accuracy: 0.5020\n",
      "Epoch 35/100\n",
      "12/12 [==============================] - 15s 1s/step - loss: 0.7958 - accuracy: 0.6791 - val_loss: 1.0381 - val_accuracy: 0.6000\n",
      "Epoch 36/100\n",
      "12/12 [==============================] - 16s 1s/step - loss: 0.7613 - accuracy: 0.6725 - val_loss: 1.2889 - val_accuracy: 0.5388\n",
      "Epoch 37/100\n",
      "12/12 [==============================] - 16s 1s/step - loss: 0.7595 - accuracy: 0.7072 - val_loss: 0.9755 - val_accuracy: 0.6816\n",
      "Epoch 38/100\n",
      "12/12 [==============================] - 15s 1s/step - loss: 0.8014 - accuracy: 0.6791 - val_loss: 1.1827 - val_accuracy: 0.6041\n",
      "Epoch 39/100\n",
      "12/12 [==============================] - 15s 1s/step - loss: 0.8554 - accuracy: 0.6631 - val_loss: 1.1700 - val_accuracy: 0.5918\n",
      "Epoch 40/100\n",
      "12/12 [==============================] - 16s 1s/step - loss: 0.7355 - accuracy: 0.6925 - val_loss: 0.9934 - val_accuracy: 0.6531\n",
      "Epoch 41/100\n",
      "12/12 [==============================] - 15s 1s/step - loss: 0.6523 - accuracy: 0.7353 - val_loss: 1.0932 - val_accuracy: 0.6163\n",
      "Epoch 42/100\n",
      "12/12 [==============================] - 15s 1s/step - loss: 0.7338 - accuracy: 0.6898 - val_loss: 0.9456 - val_accuracy: 0.6939\n",
      "Epoch 43/100\n",
      "12/12 [==============================] - 15s 1s/step - loss: 0.6636 - accuracy: 0.7246 - val_loss: 0.9980 - val_accuracy: 0.6571\n",
      "Epoch 44/100\n",
      "12/12 [==============================] - 16s 1s/step - loss: 0.6557 - accuracy: 0.7072 - val_loss: 1.0087 - val_accuracy: 0.6490\n",
      "Epoch 45/100\n",
      "12/12 [==============================] - 15s 1s/step - loss: 0.6907 - accuracy: 0.7099 - val_loss: 1.0290 - val_accuracy: 0.6694\n",
      "Epoch 46/100\n",
      "12/12 [==============================] - 15s 1s/step - loss: 0.6679 - accuracy: 0.7166 - val_loss: 0.9784 - val_accuracy: 0.6816\n",
      "Epoch 47/100\n",
      "12/12 [==============================] - 15s 1s/step - loss: 0.6689 - accuracy: 0.7193 - val_loss: 1.0548 - val_accuracy: 0.6245\n",
      "Epoch 48/100\n",
      "12/12 [==============================] - 16s 1s/step - loss: 0.6853 - accuracy: 0.7166 - val_loss: 1.0777 - val_accuracy: 0.6122\n",
      "Epoch 49/100\n",
      "12/12 [==============================] - 15s 1s/step - loss: 0.6292 - accuracy: 0.7206 - val_loss: 1.1607 - val_accuracy: 0.6204\n",
      "Epoch 50/100\n",
      "12/12 [==============================] - 15s 1s/step - loss: 0.5738 - accuracy: 0.7647 - val_loss: 1.1282 - val_accuracy: 0.6449\n",
      "Epoch 51/100\n",
      "12/12 [==============================] - 15s 1s/step - loss: 0.6031 - accuracy: 0.7473 - val_loss: 1.1103 - val_accuracy: 0.6612\n",
      "Epoch 52/100\n",
      "12/12 [==============================] - 16s 1s/step - loss: 0.5883 - accuracy: 0.7527 - val_loss: 1.2717 - val_accuracy: 0.6204\n",
      "Epoch 53/100\n",
      "12/12 [==============================] - 15s 1s/step - loss: 0.5688 - accuracy: 0.7634 - val_loss: 1.4944 - val_accuracy: 0.5592\n",
      "Epoch 54/100\n",
      "12/12 [==============================] - 15s 1s/step - loss: 0.6058 - accuracy: 0.7527 - val_loss: 1.2396 - val_accuracy: 0.6408\n",
      "Epoch 55/100\n",
      "12/12 [==============================] - 15s 1s/step - loss: 0.6019 - accuracy: 0.7660 - val_loss: 1.5669 - val_accuracy: 0.5878\n",
      "Epoch 56/100\n",
      "12/12 [==============================] - 16s 1s/step - loss: 0.6228 - accuracy: 0.7433 - val_loss: 1.2127 - val_accuracy: 0.6612\n",
      "Epoch 57/100\n",
      "12/12 [==============================] - 15s 1s/step - loss: 0.5923 - accuracy: 0.7447 - val_loss: 1.1667 - val_accuracy: 0.6408\n",
      "Epoch 58/100\n",
      "12/12 [==============================] - 15s 1s/step - loss: 0.5385 - accuracy: 0.7660 - val_loss: 1.4074 - val_accuracy: 0.6082\n"
     ]
    },
    {
     "name": "stdout",
     "output_type": "stream",
     "text": [
      "Epoch 59/100\n",
      "12/12 [==============================] - 15s 1s/step - loss: 0.5206 - accuracy: 0.7741 - val_loss: 1.4416 - val_accuracy: 0.5714\n",
      "Epoch 60/100\n",
      "12/12 [==============================] - 16s 1s/step - loss: 0.5381 - accuracy: 0.7607 - val_loss: 1.1820 - val_accuracy: 0.6041\n",
      "Epoch 61/100\n",
      "12/12 [==============================] - 15s 1s/step - loss: 0.4932 - accuracy: 0.8008 - val_loss: 1.1360 - val_accuracy: 0.6449\n",
      "Epoch 62/100\n",
      "12/12 [==============================] - 15s 1s/step - loss: 0.6042 - accuracy: 0.7473 - val_loss: 1.0853 - val_accuracy: 0.6327\n",
      "Epoch 63/100\n",
      "12/12 [==============================] - 15s 1s/step - loss: 0.4621 - accuracy: 0.8021 - val_loss: 1.4533 - val_accuracy: 0.5878\n",
      "Epoch 64/100\n",
      "12/12 [==============================] - 16s 1s/step - loss: 0.5260 - accuracy: 0.7660 - val_loss: 1.3287 - val_accuracy: 0.5714\n",
      "Epoch 65/100\n",
      "12/12 [==============================] - 15s 1s/step - loss: 0.4490 - accuracy: 0.8182 - val_loss: 1.2657 - val_accuracy: 0.6327\n",
      "Epoch 66/100\n",
      "12/12 [==============================] - 15s 1s/step - loss: 0.4894 - accuracy: 0.7727 - val_loss: 1.4468 - val_accuracy: 0.6245\n",
      "Epoch 67/100\n",
      "12/12 [==============================] - 15s 1s/step - loss: 0.4869 - accuracy: 0.7781 - val_loss: 1.2369 - val_accuracy: 0.6612\n",
      "Epoch 68/100\n",
      "12/12 [==============================] - 16s 1s/step - loss: 0.4550 - accuracy: 0.7914 - val_loss: 1.3510 - val_accuracy: 0.6204\n",
      "Epoch 69/100\n",
      "12/12 [==============================] - 15s 1s/step - loss: 0.5066 - accuracy: 0.7781 - val_loss: 1.2565 - val_accuracy: 0.6204\n",
      "Epoch 70/100\n",
      "12/12 [==============================] - 15s 1s/step - loss: 0.4297 - accuracy: 0.8061 - val_loss: 1.0934 - val_accuracy: 0.6694\n",
      "Epoch 71/100\n",
      "12/12 [==============================] - 15s 1s/step - loss: 0.4558 - accuracy: 0.8088 - val_loss: 1.2204 - val_accuracy: 0.6490\n",
      "Epoch 72/100\n",
      "12/12 [==============================] - 16s 1s/step - loss: 0.4410 - accuracy: 0.8195 - val_loss: 1.4740 - val_accuracy: 0.5837\n",
      "Epoch 73/100\n",
      "12/12 [==============================] - 15s 1s/step - loss: 0.4942 - accuracy: 0.7928 - val_loss: 1.2087 - val_accuracy: 0.6694\n",
      "Epoch 74/100\n",
      "12/12 [==============================] - 15s 1s/step - loss: 0.4225 - accuracy: 0.8209 - val_loss: 1.1529 - val_accuracy: 0.7143\n",
      "Epoch 75/100\n",
      "12/12 [==============================] - 15s 1s/step - loss: 0.4042 - accuracy: 0.8262 - val_loss: 1.3720 - val_accuracy: 0.6939\n",
      "Epoch 76/100\n",
      "12/12 [==============================] - 16s 1s/step - loss: 0.4053 - accuracy: 0.8409 - val_loss: 1.3415 - val_accuracy: 0.6612\n",
      "Epoch 77/100\n",
      "12/12 [==============================] - 15s 1s/step - loss: 0.4506 - accuracy: 0.8008 - val_loss: 1.1327 - val_accuracy: 0.6694\n",
      "Epoch 78/100\n",
      "12/12 [==============================] - 15s 1s/step - loss: 0.4161 - accuracy: 0.8222 - val_loss: 1.3645 - val_accuracy: 0.6408\n",
      "Epoch 79/100\n",
      "12/12 [==============================] - 15s 1s/step - loss: 0.4407 - accuracy: 0.8048 - val_loss: 1.3479 - val_accuracy: 0.6612\n",
      "Epoch 80/100\n",
      "12/12 [==============================] - 16s 1s/step - loss: 0.4330 - accuracy: 0.8115 - val_loss: 1.6341 - val_accuracy: 0.5918\n",
      "Epoch 81/100\n",
      "12/12 [==============================] - 15s 1s/step - loss: 0.4489 - accuracy: 0.8182 - val_loss: 1.5961 - val_accuracy: 0.6653\n",
      "Epoch 82/100\n",
      "12/12 [==============================] - 15s 1s/step - loss: 0.5602 - accuracy: 0.7794 - val_loss: 1.4948 - val_accuracy: 0.6245\n",
      "Epoch 83/100\n",
      "12/12 [==============================] - 15s 1s/step - loss: 0.4467 - accuracy: 0.8155 - val_loss: 1.2137 - val_accuracy: 0.6653\n",
      "Epoch 84/100\n",
      "12/12 [==============================] - 16s 1s/step - loss: 0.4499 - accuracy: 0.7968 - val_loss: 1.4601 - val_accuracy: 0.6082\n",
      "Epoch 85/100\n",
      "12/12 [==============================] - 15s 1s/step - loss: 0.4149 - accuracy: 0.8316 - val_loss: 1.2560 - val_accuracy: 0.6367\n",
      "Epoch 86/100\n",
      "12/12 [==============================] - 15s 1s/step - loss: 0.4172 - accuracy: 0.8168 - val_loss: 1.2391 - val_accuracy: 0.6735\n",
      "Epoch 87/100\n",
      "12/12 [==============================] - 15s 1s/step - loss: 0.4185 - accuracy: 0.8262 - val_loss: 1.2880 - val_accuracy: 0.6490\n",
      "Epoch 88/100\n",
      "12/12 [==============================] - 16s 1s/step - loss: 0.3969 - accuracy: 0.8155 - val_loss: 1.2908 - val_accuracy: 0.6490\n",
      "Epoch 89/100\n",
      "12/12 [==============================] - 15s 1s/step - loss: 0.3866 - accuracy: 0.8342 - val_loss: 1.2916 - val_accuracy: 0.6449\n",
      "Epoch 90/100\n",
      "12/12 [==============================] - 15s 1s/step - loss: 0.3552 - accuracy: 0.8449 - val_loss: 1.3205 - val_accuracy: 0.6735\n",
      "Epoch 91/100\n",
      "12/12 [==============================] - 16s 1s/step - loss: 0.4192 - accuracy: 0.8209 - val_loss: 1.4054 - val_accuracy: 0.6490\n",
      "Epoch 92/100\n",
      "12/12 [==============================] - 16s 1s/step - loss: 0.3766 - accuracy: 0.8222 - val_loss: 1.2620 - val_accuracy: 0.6286\n",
      "Epoch 93/100\n",
      "12/12 [==============================] - 15s 1s/step - loss: 0.3802 - accuracy: 0.8476 - val_loss: 1.4218 - val_accuracy: 0.6776\n",
      "Epoch 94/100\n",
      "12/12 [==============================] - 15s 1s/step - loss: 0.4094 - accuracy: 0.8396 - val_loss: 1.4674 - val_accuracy: 0.6816\n",
      "Epoch 95/100\n",
      "12/12 [==============================] - 16s 1s/step - loss: 0.3676 - accuracy: 0.8489 - val_loss: 1.3837 - val_accuracy: 0.6776\n",
      "Epoch 96/100\n",
      "12/12 [==============================] - 16s 1s/step - loss: 0.3717 - accuracy: 0.8249 - val_loss: 1.1798 - val_accuracy: 0.6612\n",
      "Epoch 97/100\n",
      "12/12 [==============================] - 15s 1s/step - loss: 0.4073 - accuracy: 0.8155 - val_loss: 1.6492 - val_accuracy: 0.6204\n",
      "Epoch 98/100\n",
      "12/12 [==============================] - 15s 1s/step - loss: 0.3965 - accuracy: 0.8316 - val_loss: 1.6038 - val_accuracy: 0.6939\n",
      "Epoch 99/100\n",
      "12/12 [==============================] - 16s 1s/step - loss: 0.3779 - accuracy: 0.8409 - val_loss: 1.6187 - val_accuracy: 0.6694\n",
      "Epoch 100/100\n",
      "12/12 [==============================] - 16s 1s/step - loss: 0.4388 - accuracy: 0.8195 - val_loss: 1.1067 - val_accuracy: 0.7102\n"
     ]
    }
   ],
   "source": [
    "# INÍCIO DO TREINO DO MODELO #\n",
    "\n",
    "history = model_n1.fit(train_data,\n",
    "                    epochs=100,\n",
    "                    validation_data=valid_data,\n",
    "                    verbose=True)\n",
    "\n",
    "# informação: steps_per_epoch = número de imagens / batch_size"
   ]
  },
  {
   "cell_type": "code",
   "execution_count": 13,
   "metadata": {},
   "outputs": [],
   "source": [
    "model_n1.save('model_n1.h5',\n",
    "          overwrite = True) \n",
    "del model_n1\n",
    "\n",
    "with open('trainHistoryDict_model_n1', 'wb') as file_pi:\n",
    "        pickle.dump(history.history, file_pi)"
   ]
  },
  {
   "cell_type": "code",
   "execution_count": 14,
   "metadata": {},
   "outputs": [],
   "source": [
    "model_n1 = keras.models.load_model('model_n1.h5')\n",
    "history = pickle.load(open('trainHistoryDict_model_n1', \"rb\"))"
   ]
  },
  {
   "cell_type": "code",
   "execution_count": 15,
   "metadata": {},
   "outputs": [
    {
     "name": "stdout",
     "output_type": "stream",
     "text": [
      "Model: \"sequential\"\n",
      "_________________________________________________________________\n",
      "Layer (type)                 Output Shape              Param #   \n",
      "=================================================================\n",
      "conv2d (Conv2D)              (None, 98, 98, 32)        896       \n",
      "_________________________________________________________________\n",
      "max_pooling2d (MaxPooling2D) (None, 49, 49, 32)        0         \n",
      "_________________________________________________________________\n",
      "dropout (Dropout)            (None, 49, 49, 32)        0         \n",
      "_________________________________________________________________\n",
      "conv2d_1 (Conv2D)            (None, 47, 47, 64)        18496     \n",
      "_________________________________________________________________\n",
      "max_pooling2d_1 (MaxPooling2 (None, 23, 23, 64)        0         \n",
      "_________________________________________________________________\n",
      "dropout_1 (Dropout)          (None, 23, 23, 64)        0         \n",
      "_________________________________________________________________\n",
      "conv2d_2 (Conv2D)            (None, 21, 21, 64)        36928     \n",
      "_________________________________________________________________\n",
      "max_pooling2d_2 (MaxPooling2 (None, 10, 10, 64)        0         \n",
      "_________________________________________________________________\n",
      "dropout_2 (Dropout)          (None, 10, 10, 64)        0         \n",
      "_________________________________________________________________\n",
      "flatten (Flatten)            (None, 6400)              0         \n",
      "_________________________________________________________________\n",
      "dense (Dense)                (None, 64)                409664    \n",
      "_________________________________________________________________\n",
      "dropout_3 (Dropout)          (None, 64)                0         \n",
      "_________________________________________________________________\n",
      "dense_1 (Dense)              (None, 11)                715       \n",
      "=================================================================\n",
      "Total params: 466,699\n",
      "Trainable params: 466,699\n",
      "Non-trainable params: 0\n",
      "_________________________________________________________________\n"
     ]
    }
   ],
   "source": [
    "model_n1.summary()"
   ]
  },
  {
   "cell_type": "code",
   "execution_count": 16,
   "metadata": {},
   "outputs": [
    {
     "data": {
      "text/plain": [
       "<matplotlib.legend.Legend at 0x1f0800bd550>"
      ]
     },
     "execution_count": 16,
     "metadata": {},
     "output_type": "execute_result"
    },
    {
     "data": {
      "image/png": "[encoded data removed]",
      "text/plain": [
       "<Figure size 432x288 with 1 Axes>"
      ]
     },
     "metadata": {
      "needs_background": "light"
     },
     "output_type": "display_data"
    }
   ],
   "source": [
    "# GERANDO GRÁFICO COM RESULTADOS DAS ACURÁCIAS DE TREINO E VALIDAÇÃO #\n",
    "\n",
    "plt.plot(history['accuracy'], label='accuracy_train')\n",
    "plt.plot(history['val_accuracy'], label = 'accuracy_valid')\n",
    "plt.xlabel('Epoch')\n",
    "plt.ylabel('Accuracy')\n",
    "plt.ylim([0, 1])\n",
    "plt.legend(loc='lower right')"
   ]
  },
  {
   "cell_type": "code",
   "execution_count": 17,
   "metadata": {},
   "outputs": [
    {
     "data": {
      "text/plain": [
       "<matplotlib.legend.Legend at 0x1f08043f1f0>"
      ]
     },
     "execution_count": 17,
     "metadata": {},
     "output_type": "execute_result"
    },
    {
     "data": {
      "image/png": "[encoded data removed]",
      "text/plain": [
       "<Figure size 432x288 with 1 Axes>"
      ]
     },
     "metadata": {
      "needs_background": "light"
     },
     "output_type": "display_data"
    }
   ],
   "source": [
    "# GERANDO GRÁFICO COM RESULTADOS DO LOSS DE TREINO E VALIDAÇÃO #\n",
    "\n",
    "plt.plot(history['loss'], label='loss train')\n",
    "plt.plot(history['val_loss'], label='loss val')\n",
    "plt.xlabel('Epoch')\n",
    "plt.ylabel('Loss')\n",
    "plt.ylim([0, 3])\n",
    "plt.legend(loc='lower right')"
   ]
  },
  {
   "cell_type": "code",
   "execution_count": 18,
   "metadata": {},
   "outputs": [
    {
     "name": "stdout",
     "output_type": "stream",
     "text": [
      "Found 1000 images belonging to 11 classes.\n"
     ]
    }
   ],
   "source": [
    "datagen_test =  ImageDataGenerator(rescale = 1./255) # comando para reescala das imagens de teste\n",
    "\n",
    "# imagens de teste\n",
    "\n",
    "test_data = datagen_test.flow_from_directory(directory='dataset_smkt/test',\n",
    "                                                      target_size = (100, 100),\n",
    "                                                      batch_size = 64,\n",
    "                                                      shuffle=False)"
   ]
  },
  {
   "cell_type": "code",
   "execution_count": 19,
   "metadata": {},
   "outputs": [
    {
     "name": "stdout",
     "output_type": "stream",
     "text": [
      "16/16 [==============================] - 11s 655ms/step - loss: 0.4363 - accuracy: 0.8680\n",
      "acurácia nos dados de teste: 0.8679999709129333\n",
      "loss dos dados de teste: 0.43632906675338745\n"
     ]
    }
   ],
   "source": [
    "# DEFININDO COMANDO PARA AVALIAR O DESEMPENHO DO MODELO NAS IMAGENS DE TESTE #\n",
    "\n",
    "test_loss, test_acc = model_n1.evaluate(test_data) # verificar versão do Keras\n",
    "\n",
    "print(\"acurácia nos dados de teste:\", test_acc)\n",
    "print(\"loss dos dados de teste:\", test_loss)"
   ]
  },
  {
   "cell_type": "code",
   "execution_count": 20,
   "metadata": {},
   "outputs": [
    {
     "name": "stdout",
     "output_type": "stream",
     "text": [
      "(1000,)\n",
      "Accuracy\n",
      "0.868\n",
      "Balanced Accuracy\n",
      "0.8602128164904258\n",
      "Confusion Matrix\n",
      "[[ 89   0   4   0   4   0   8   0   1   0   0]\n",
      " [  0  66   1   0   0   0   0   0   0   0  11]\n",
      " [  0   0  53   0  30   0   2   0   0   1   0]\n",
      " [  0   0   0  53   0   0   0   0   0   0   0]\n",
      " [  2   0   0   0 121   0   1   0   0   0   0]\n",
      " [  0   0   0   0   0  31   0   0   0   7   0]\n",
      " [ 13   0   0   0   0   0  93   0   0   0   0]\n",
      " [  0   0   6   0   2   0   4  67   1   0   0]\n",
      " [  0   0   1   0   0   0   0   0 131   0   0]\n",
      " [  0   0   2   0   0   0   0   8   0  91   0]\n",
      " [  0  19   0   0   0   0   0   4   0   0  73]]\n",
      "Classification Report\n"
     ]
    }
   ],
   "source": [
    "Y_pred = model_n1.predict(test_data)\n",
    "y_pred = np.argmax(Y_pred, axis=1)\n",
    "\n",
    "print(y_pred.shape)\n",
    "\n",
    "print('Accuracy')\n",
    "print(accuracy_score(test_data.classes,y_pred))\n",
    "\n",
    "print('Balanced Accuracy')\n",
    "print(balanced_accuracy_score(test_data.classes,y_pred))\n",
    "\n",
    "print('Confusion Matrix')\n",
    "print(confusion_matrix(test_data.classes, y_pred))\n",
    "print('Classification Report')"
   ]
  },
  {
   "cell_type": "markdown",
   "metadata": {},
   "source": [
    "## Segunda estratégia: 70% treino e 30% teste"
   ]
  },
  {
   "cell_type": "code",
   "execution_count": 21,
   "metadata": {},
   "outputs": [],
   "source": [
    "# Puxando estrutura do modelo base\n",
    "\n",
    "model_n2 = keras.models.load_model('model_base.h5')"
   ]
  },
  {
   "cell_type": "code",
   "execution_count": 22,
   "metadata": {},
   "outputs": [],
   "source": [
    "model_n2.compile(optimizer='adam',\n",
    "              loss=tf.keras.losses.CategoricalCrossentropy(\n",
    "                  from_logits=False,\n",
    "                  label_smoothing=0,                            #configurações da função loss\n",
    "                  reduction=\"auto\",\n",
    "                  name=\"categorical_crossentropy\"),\n",
    "              metrics=['accuracy'])"
   ]
  },
  {
   "cell_type": "code",
   "execution_count": 23,
   "metadata": {},
   "outputs": [
    {
     "name": "stdout",
     "output_type": "stream",
     "text": [
      "Criando particionamento\n",
      "\t 148 \t+ 64 \t= 212 \t -> apple1\n",
      "\t 108 \t+ 47 \t= 155 \t -> granny_smith_apple\n",
      "\t 119 \t+ 52 \t= 171 \t -> kiwi\n",
      "\t 74 \t+ 32 \t= 106 \t -> lime\n",
      "\t 172 \t+ 75 \t= 247 \t -> nectarine\n",
      "\t 52 \t+ 23 \t= 75 \t -> onion\n",
      "\t 147 \t+ 64 \t= 211 \t -> peach\n",
      "\t 111 \t+ 48 \t= 159 \t -> pear\n",
      "\t 184 \t+ 80 \t= 264 \t -> plum\n",
      "\t 140 \t+ 61 \t= 201 \t -> potato\n",
      "\t 134 \t+ 58 \t= 192 \t -> watermelon\n",
      "Particionamento criado com sucesso!\n"
     ]
    }
   ],
   "source": [
    "criar_treino_teste('./dataset_smkt/', 0.3)"
   ]
  },
  {
   "cell_type": "code",
   "execution_count": 24,
   "metadata": {},
   "outputs": [
    {
     "name": "stdout",
     "output_type": "stream",
     "text": [
      "Found 1045 images belonging to 11 classes.\n",
      "Found 344 images belonging to 11 classes.\n"
     ]
    }
   ],
   "source": [
    "# DIVIDIR AS IMAGENS EM PARTIÇÃO DE TREINO E VALIDAÇÃO, UTILIZANDO O IMAGEDATAGENERATOR #\n",
    "\n",
    "datagen =  ImageDataGenerator(rescale = 1./255, validation_split=0.25) # comando para reescala + divisão em 20% para validação\n",
    "\n",
    "# imagens de treino (75%) \n",
    "\n",
    "train_data = datagen.flow_from_directory('dataset_smkt/train', \n",
    "                                         subset = 'training',\n",
    "                                         batch_size = 64,\n",
    "                                         shuffle = True,\n",
    "                                         target_size = (100, 100)) # definindo tamanho das imagens\n",
    "\n",
    "# imagens de validação (25%)\n",
    "\n",
    "valid_data = datagen.flow_from_directory('dataset_smkt/train',\n",
    "                                         subset='validation',\n",
    "                                         batch_size = 64,\n",
    "                                         shuffle = True,\n",
    "                                         target_size = (100, 100))"
   ]
  },
  {
   "cell_type": "code",
   "execution_count": 25,
   "metadata": {},
   "outputs": [
    {
     "name": "stdout",
     "output_type": "stream",
     "text": [
      "Epoch 1/100\n",
      "17/17 [==============================] - 24s 1s/step - loss: 2.5166 - accuracy: 0.1234 - val_loss: 2.3937 - val_accuracy: 0.1337\n",
      "Epoch 2/100\n",
      "17/17 [==============================] - 21s 1s/step - loss: 2.3678 - accuracy: 0.1072 - val_loss: 2.3876 - val_accuracy: 0.1395\n",
      "Epoch 3/100\n",
      "17/17 [==============================] - 21s 1s/step - loss: 2.3283 - accuracy: 0.1416 - val_loss: 2.3626 - val_accuracy: 0.1977\n",
      "Epoch 4/100\n",
      "17/17 [==============================] - 22s 1s/step - loss: 2.2307 - accuracy: 0.1761 - val_loss: 2.2330 - val_accuracy: 0.2006\n",
      "Epoch 5/100\n",
      "17/17 [==============================] - 21s 1s/step - loss: 2.1006 - accuracy: 0.2211 - val_loss: 2.1773 - val_accuracy: 0.3198\n",
      "Epoch 6/100\n",
      "17/17 [==============================] - 21s 1s/step - loss: 2.0148 - accuracy: 0.2938 - val_loss: 2.0943 - val_accuracy: 0.3052\n",
      "Epoch 7/100\n",
      "17/17 [==============================] - 22s 1s/step - loss: 1.9049 - accuracy: 0.3464 - val_loss: 1.9962 - val_accuracy: 0.3023\n",
      "Epoch 8/100\n",
      "17/17 [==============================] - 21s 1s/step - loss: 1.7233 - accuracy: 0.3837 - val_loss: 1.9565 - val_accuracy: 0.2471\n",
      "Epoch 9/100\n",
      "17/17 [==============================] - 21s 1s/step - loss: 1.6730 - accuracy: 0.3952 - val_loss: 1.9301 - val_accuracy: 0.3517\n",
      "Epoch 10/100\n",
      "17/17 [==============================] - 22s 1s/step - loss: 1.5311 - accuracy: 0.4354 - val_loss: 1.7833 - val_accuracy: 0.3953\n",
      "Epoch 11/100\n",
      "17/17 [==============================] - 21s 1s/step - loss: 1.4701 - accuracy: 0.4641 - val_loss: 1.7117 - val_accuracy: 0.3924\n",
      "Epoch 12/100\n",
      "17/17 [==============================] - 22s 1s/step - loss: 1.3943 - accuracy: 0.4938 - val_loss: 1.6379 - val_accuracy: 0.4157\n",
      "Epoch 13/100\n",
      "17/17 [==============================] - 21s 1s/step - loss: 1.2717 - accuracy: 0.5301 - val_loss: 1.6162 - val_accuracy: 0.4564\n",
      "Epoch 14/100\n",
      "17/17 [==============================] - 21s 1s/step - loss: 1.2001 - accuracy: 0.5244 - val_loss: 1.6344 - val_accuracy: 0.4070\n",
      "Epoch 15/100\n",
      "17/17 [==============================] - 22s 1s/step - loss: 1.1777 - accuracy: 0.5617 - val_loss: 1.4803 - val_accuracy: 0.4855\n",
      "Epoch 16/100\n",
      "17/17 [==============================] - 21s 1s/step - loss: 1.1258 - accuracy: 0.5770 - val_loss: 1.2934 - val_accuracy: 0.6221\n",
      "Epoch 17/100\n",
      "17/17 [==============================] - 21s 1s/step - loss: 1.0348 - accuracy: 0.5962 - val_loss: 1.2002 - val_accuracy: 0.5814\n",
      "Epoch 18/100\n",
      "17/17 [==============================] - 22s 1s/step - loss: 1.0168 - accuracy: 0.6105 - val_loss: 1.3418 - val_accuracy: 0.5523\n",
      "Epoch 19/100\n",
      "17/17 [==============================] - 21s 1s/step - loss: 1.0143 - accuracy: 0.5895 - val_loss: 1.1504 - val_accuracy: 0.6366\n",
      "Epoch 20/100\n",
      "17/17 [==============================] - 21s 1s/step - loss: 0.9032 - accuracy: 0.6536 - val_loss: 1.0777 - val_accuracy: 0.6279\n",
      "Epoch 21/100\n",
      "17/17 [==============================] - 22s 1s/step - loss: 0.9260 - accuracy: 0.6373 - val_loss: 1.1232 - val_accuracy: 0.6134\n",
      "Epoch 22/100\n",
      "17/17 [==============================] - 21s 1s/step - loss: 0.8868 - accuracy: 0.6555 - val_loss: 1.0525 - val_accuracy: 0.6744\n",
      "Epoch 23/100\n",
      "17/17 [==============================] - 21s 1s/step - loss: 0.8522 - accuracy: 0.6670 - val_loss: 0.9958 - val_accuracy: 0.6744\n",
      "Epoch 24/100\n",
      "17/17 [==============================] - 22s 1s/step - loss: 0.8493 - accuracy: 0.6632 - val_loss: 0.9988 - val_accuracy: 0.6860\n",
      "Epoch 25/100\n",
      "17/17 [==============================] - 21s 1s/step - loss: 0.8626 - accuracy: 0.6565 - val_loss: 1.1248 - val_accuracy: 0.6366\n",
      "Epoch 26/100\n",
      "17/17 [==============================] - 21s 1s/step - loss: 0.8125 - accuracy: 0.6842 - val_loss: 1.2886 - val_accuracy: 0.6308\n",
      "Epoch 27/100\n",
      "17/17 [==============================] - 22s 1s/step - loss: 0.8564 - accuracy: 0.6794 - val_loss: 0.9148 - val_accuracy: 0.7064\n",
      "Epoch 28/100\n",
      "17/17 [==============================] - 21s 1s/step - loss: 0.7549 - accuracy: 0.7129 - val_loss: 0.9506 - val_accuracy: 0.7151\n",
      "Epoch 29/100\n",
      "17/17 [==============================] - 22s 1s/step - loss: 0.7495 - accuracy: 0.6967 - val_loss: 0.9120 - val_accuracy: 0.6860\n",
      "Epoch 30/100\n",
      "17/17 [==============================] - 21s 1s/step - loss: 0.6920 - accuracy: 0.7321 - val_loss: 0.8945 - val_accuracy: 0.6919\n",
      "Epoch 31/100\n",
      "17/17 [==============================] - 21s 1s/step - loss: 0.7063 - accuracy: 0.7139 - val_loss: 1.1060 - val_accuracy: 0.6512\n",
      "Epoch 32/100\n",
      "17/17 [==============================] - 22s 1s/step - loss: 0.6555 - accuracy: 0.7416 - val_loss: 0.9536 - val_accuracy: 0.7122\n",
      "Epoch 33/100\n",
      "17/17 [==============================] - 21s 1s/step - loss: 0.5922 - accuracy: 0.7445 - val_loss: 0.9467 - val_accuracy: 0.7093\n",
      "Epoch 34/100\n",
      "17/17 [==============================] - 21s 1s/step - loss: 0.6302 - accuracy: 0.7349 - val_loss: 0.8062 - val_accuracy: 0.7558\n",
      "Epoch 35/100\n",
      "17/17 [==============================] - 22s 1s/step - loss: 0.5861 - accuracy: 0.7512 - val_loss: 0.8997 - val_accuracy: 0.7267\n",
      "Epoch 36/100\n",
      "17/17 [==============================] - 21s 1s/step - loss: 0.6249 - accuracy: 0.7483 - val_loss: 0.7493 - val_accuracy: 0.7238\n",
      "Epoch 37/100\n",
      "17/17 [==============================] - 21s 1s/step - loss: 0.5803 - accuracy: 0.7531 - val_loss: 0.8758 - val_accuracy: 0.7413\n",
      "Epoch 38/100\n",
      "17/17 [==============================] - 22s 1s/step - loss: 0.5852 - accuracy: 0.7560 - val_loss: 1.1029 - val_accuracy: 0.7297\n",
      "Epoch 39/100\n",
      "17/17 [==============================] - 21s 1s/step - loss: 0.5749 - accuracy: 0.7665 - val_loss: 0.6707 - val_accuracy: 0.7936\n",
      "Epoch 40/100\n",
      "17/17 [==============================] - 22s 1s/step - loss: 0.5645 - accuracy: 0.7780 - val_loss: 1.0254 - val_accuracy: 0.6715\n",
      "Epoch 41/100\n",
      "17/17 [==============================] - 22s 1s/step - loss: 0.7109 - accuracy: 0.7234 - val_loss: 1.1249 - val_accuracy: 0.6250\n",
      "Epoch 42/100\n",
      "17/17 [==============================] - 21s 1s/step - loss: 0.6215 - accuracy: 0.7589 - val_loss: 0.8714 - val_accuracy: 0.6424\n",
      "Epoch 43/100\n",
      "17/17 [==============================] - 22s 1s/step - loss: 0.5683 - accuracy: 0.7665 - val_loss: 1.0031 - val_accuracy: 0.6890\n",
      "Epoch 44/100\n",
      "17/17 [==============================] - 21s 1s/step - loss: 0.5563 - accuracy: 0.7675 - val_loss: 0.8073 - val_accuracy: 0.7529\n",
      "Epoch 45/100\n",
      "17/17 [==============================] - 21s 1s/step - loss: 0.4811 - accuracy: 0.8201 - val_loss: 1.0541 - val_accuracy: 0.6541\n",
      "Epoch 46/100\n",
      "17/17 [==============================] - 22s 1s/step - loss: 0.5246 - accuracy: 0.7789 - val_loss: 0.8217 - val_accuracy: 0.6628\n",
      "Epoch 47/100\n",
      "17/17 [==============================] - 21s 1s/step - loss: 0.5324 - accuracy: 0.7770 - val_loss: 0.8944 - val_accuracy: 0.6977\n",
      "Epoch 48/100\n",
      "17/17 [==============================] - 21s 1s/step - loss: 0.4725 - accuracy: 0.8096 - val_loss: 0.8269 - val_accuracy: 0.7326\n",
      "Epoch 49/100\n",
      "17/17 [==============================] - 22s 1s/step - loss: 0.4250 - accuracy: 0.8278 - val_loss: 0.7937 - val_accuracy: 0.7500\n",
      "Epoch 50/100\n",
      "17/17 [==============================] - 21s 1s/step - loss: 0.4298 - accuracy: 0.8268 - val_loss: 0.8534 - val_accuracy: 0.7645\n",
      "Epoch 51/100\n",
      "17/17 [==============================] - 21s 1s/step - loss: 0.4239 - accuracy: 0.8306 - val_loss: 0.6666 - val_accuracy: 0.7820\n",
      "Epoch 52/100\n",
      "17/17 [==============================] - 23s 1s/step - loss: 0.4064 - accuracy: 0.8191 - val_loss: 0.7778 - val_accuracy: 0.7703\n",
      "Epoch 53/100\n",
      "17/17 [==============================] - 22s 1s/step - loss: 0.4023 - accuracy: 0.8402 - val_loss: 0.6970 - val_accuracy: 0.7180\n",
      "Epoch 54/100\n",
      "17/17 [==============================] - 23s 1s/step - loss: 0.4140 - accuracy: 0.8297 - val_loss: 1.5689 - val_accuracy: 0.6744\n",
      "Epoch 55/100\n",
      "17/17 [==============================] - 22s 1s/step - loss: 0.4864 - accuracy: 0.8220 - val_loss: 0.6894 - val_accuracy: 0.7035\n",
      "Epoch 56/100\n",
      "17/17 [==============================] - 21s 1s/step - loss: 0.4916 - accuracy: 0.8000 - val_loss: 0.9461 - val_accuracy: 0.7238\n",
      "Epoch 57/100\n",
      "17/17 [==============================] - 22s 1s/step - loss: 0.4018 - accuracy: 0.8344 - val_loss: 0.8446 - val_accuracy: 0.7529\n",
      "Epoch 58/100\n",
      "17/17 [==============================] - 21s 1s/step - loss: 0.3835 - accuracy: 0.8392 - val_loss: 0.8071 - val_accuracy: 0.7413\n"
     ]
    },
    {
     "name": "stdout",
     "output_type": "stream",
     "text": [
      "Epoch 59/100\n",
      "17/17 [==============================] - 21s 1s/step - loss: 0.3543 - accuracy: 0.8526 - val_loss: 0.6150 - val_accuracy: 0.7762\n",
      "Epoch 60/100\n",
      "17/17 [==============================] - 22s 1s/step - loss: 0.3462 - accuracy: 0.8574 - val_loss: 0.6483 - val_accuracy: 0.7907\n",
      "Epoch 61/100\n",
      "17/17 [==============================] - 21s 1s/step - loss: 0.3979 - accuracy: 0.8373 - val_loss: 0.5912 - val_accuracy: 0.8081\n",
      "Epoch 62/100\n",
      "17/17 [==============================] - 21s 1s/step - loss: 0.4120 - accuracy: 0.8431 - val_loss: 0.6862 - val_accuracy: 0.7791\n",
      "Epoch 63/100\n",
      "17/17 [==============================] - 22s 1s/step - loss: 0.3430 - accuracy: 0.8670 - val_loss: 0.7813 - val_accuracy: 0.7587\n",
      "Epoch 64/100\n",
      "17/17 [==============================] - 21s 1s/step - loss: 0.3811 - accuracy: 0.8383 - val_loss: 1.1185 - val_accuracy: 0.7384\n",
      "Epoch 65/100\n",
      "17/17 [==============================] - 22s 1s/step - loss: 0.4040 - accuracy: 0.8411 - val_loss: 0.8799 - val_accuracy: 0.7006\n",
      "Epoch 66/100\n",
      "17/17 [==============================] - 22s 1s/step - loss: 0.4166 - accuracy: 0.8364 - val_loss: 0.7022 - val_accuracy: 0.7645\n",
      "Epoch 67/100\n",
      "17/17 [==============================] - 21s 1s/step - loss: 0.3637 - accuracy: 0.8450 - val_loss: 0.6843 - val_accuracy: 0.7500\n",
      "Epoch 68/100\n",
      "17/17 [==============================] - 22s 1s/step - loss: 0.3632 - accuracy: 0.8402 - val_loss: 0.6220 - val_accuracy: 0.7558\n",
      "Epoch 69/100\n",
      "17/17 [==============================] - 21s 1s/step - loss: 0.3316 - accuracy: 0.8699 - val_loss: 1.0372 - val_accuracy: 0.7238\n",
      "Epoch 70/100\n",
      "17/17 [==============================] - 21s 1s/step - loss: 0.3719 - accuracy: 0.8469 - val_loss: 0.6863 - val_accuracy: 0.7907\n",
      "Epoch 71/100\n",
      "17/17 [==============================] - 22s 1s/step - loss: 0.2942 - accuracy: 0.8746 - val_loss: 0.5884 - val_accuracy: 0.7355\n",
      "Epoch 72/100\n",
      "17/17 [==============================] - 21s 1s/step - loss: 0.2958 - accuracy: 0.8775 - val_loss: 0.6618 - val_accuracy: 0.7936\n",
      "Epoch 73/100\n",
      "17/17 [==============================] - 21s 1s/step - loss: 0.2999 - accuracy: 0.8813 - val_loss: 0.7556 - val_accuracy: 0.7762\n",
      "Epoch 74/100\n",
      "17/17 [==============================] - 22s 1s/step - loss: 0.2944 - accuracy: 0.8708 - val_loss: 0.8227 - val_accuracy: 0.7151\n",
      "Epoch 75/100\n",
      "17/17 [==============================] - 21s 1s/step - loss: 0.4528 - accuracy: 0.8364 - val_loss: 0.7997 - val_accuracy: 0.7355\n",
      "Epoch 76/100\n",
      "17/17 [==============================] - 22s 1s/step - loss: 0.3758 - accuracy: 0.8545 - val_loss: 0.7653 - val_accuracy: 0.7762\n",
      "Epoch 77/100\n",
      "17/17 [==============================] - 22s 1s/step - loss: 0.3273 - accuracy: 0.8737 - val_loss: 0.8285 - val_accuracy: 0.7674\n",
      "Epoch 78/100\n",
      "17/17 [==============================] - 21s 1s/step - loss: 0.3077 - accuracy: 0.8833 - val_loss: 0.8007 - val_accuracy: 0.7733\n",
      "Epoch 79/100\n",
      "17/17 [==============================] - 21s 1s/step - loss: 0.3035 - accuracy: 0.8679 - val_loss: 0.6104 - val_accuracy: 0.7674\n",
      "Epoch 80/100\n",
      "17/17 [==============================] - 22s 1s/step - loss: 0.2804 - accuracy: 0.8871 - val_loss: 0.7586 - val_accuracy: 0.7820\n",
      "Epoch 81/100\n",
      "17/17 [==============================] - 21s 1s/step - loss: 0.3128 - accuracy: 0.8775 - val_loss: 0.8118 - val_accuracy: 0.7762\n",
      "Epoch 82/100\n",
      "17/17 [==============================] - 22s 1s/step - loss: 0.2914 - accuracy: 0.8775 - val_loss: 0.8635 - val_accuracy: 0.7645\n",
      "Epoch 83/100\n",
      "17/17 [==============================] - 21s 1s/step - loss: 0.2799 - accuracy: 0.8900 - val_loss: 0.5828 - val_accuracy: 0.7674\n",
      "Epoch 84/100\n",
      "17/17 [==============================] - 21s 1s/step - loss: 0.2881 - accuracy: 0.8804 - val_loss: 0.9093 - val_accuracy: 0.7413\n",
      "Epoch 85/100\n",
      "17/17 [==============================] - 22s 1s/step - loss: 0.3188 - accuracy: 0.8641 - val_loss: 0.6590 - val_accuracy: 0.7849\n",
      "Epoch 86/100\n",
      "17/17 [==============================] - 21s 1s/step - loss: 0.3277 - accuracy: 0.8689 - val_loss: 0.6459 - val_accuracy: 0.7703\n",
      "Epoch 87/100\n",
      "17/17 [==============================] - 21s 1s/step - loss: 0.3096 - accuracy: 0.8785 - val_loss: 0.7915 - val_accuracy: 0.7762\n",
      "Epoch 88/100\n",
      "17/17 [==============================] - 22s 1s/step - loss: 0.3086 - accuracy: 0.8775 - val_loss: 0.7722 - val_accuracy: 0.7703\n",
      "Epoch 89/100\n",
      "17/17 [==============================] - 21s 1s/step - loss: 0.2540 - accuracy: 0.8957 - val_loss: 0.5703 - val_accuracy: 0.8140\n",
      "Epoch 90/100\n",
      "17/17 [==============================] - 21s 1s/step - loss: 0.2613 - accuracy: 0.9005 - val_loss: 0.7501 - val_accuracy: 0.7442\n",
      "Epoch 91/100\n",
      "17/17 [==============================] - 22s 1s/step - loss: 0.2775 - accuracy: 0.8919 - val_loss: 1.2510 - val_accuracy: 0.7267\n",
      "Epoch 92/100\n",
      "17/17 [==============================] - 21s 1s/step - loss: 0.2589 - accuracy: 0.8880 - val_loss: 0.8260 - val_accuracy: 0.7384\n",
      "Epoch 93/100\n",
      "17/17 [==============================] - 21s 1s/step - loss: 0.2641 - accuracy: 0.8909 - val_loss: 0.6105 - val_accuracy: 0.7791\n",
      "Epoch 94/100\n",
      "17/17 [==============================] - 22s 1s/step - loss: 0.2633 - accuracy: 0.8890 - val_loss: 0.6272 - val_accuracy: 0.7907\n",
      "Epoch 95/100\n",
      "17/17 [==============================] - 21s 1s/step - loss: 0.2460 - accuracy: 0.8976 - val_loss: 0.8854 - val_accuracy: 0.7413\n",
      "Epoch 96/100\n",
      "17/17 [==============================] - 22s 1s/step - loss: 0.2822 - accuracy: 0.8833 - val_loss: 0.7127 - val_accuracy: 0.8110\n",
      "Epoch 97/100\n",
      "17/17 [==============================] - 21s 1s/step - loss: 0.3002 - accuracy: 0.8756 - val_loss: 0.8954 - val_accuracy: 0.7616\n",
      "Epoch 98/100\n",
      "17/17 [==============================] - 21s 1s/step - loss: 0.3235 - accuracy: 0.8880 - val_loss: 0.6105 - val_accuracy: 0.7878\n",
      "Epoch 99/100\n",
      "17/17 [==============================] - 22s 1s/step - loss: 0.2906 - accuracy: 0.8938 - val_loss: 0.5576 - val_accuracy: 0.7878\n",
      "Epoch 100/100\n",
      "17/17 [==============================] - 21s 1s/step - loss: 0.2512 - accuracy: 0.8900 - val_loss: 0.8070 - val_accuracy: 0.7878\n"
     ]
    }
   ],
   "source": [
    "# INÍCIO DO TREINO DO MODELO #\n",
    "\n",
    "history = model_n2.fit(train_data,\n",
    "                    epochs=100,\n",
    "                    validation_data=valid_data)\n",
    "\n",
    "# informação: steps_per_epoch = número de imagens / batch_size"
   ]
  },
  {
   "cell_type": "code",
   "execution_count": 26,
   "metadata": {},
   "outputs": [],
   "source": [
    "model_n2.save('model_n2.h5',\n",
    "          overwrite = True) \n",
    "del model_n2\n",
    "\n",
    "with open('trainHistoryDict_model_n2', 'wb') as file_pi:\n",
    "        pickle.dump(history.history, file_pi)"
   ]
  },
  {
   "cell_type": "code",
   "execution_count": 27,
   "metadata": {},
   "outputs": [],
   "source": [
    "model_n2 = keras.models.load_model('model_n2.h5')\n",
    "history = pickle.load(open('trainHistoryDict_model_n2', \"rb\"))"
   ]
  },
  {
   "cell_type": "code",
   "execution_count": 28,
   "metadata": {},
   "outputs": [
    {
     "name": "stdout",
     "output_type": "stream",
     "text": [
      "Model: \"sequential\"\n",
      "_________________________________________________________________\n",
      "Layer (type)                 Output Shape              Param #   \n",
      "=================================================================\n",
      "conv2d (Conv2D)              (None, 98, 98, 32)        896       \n",
      "_________________________________________________________________\n",
      "max_pooling2d (MaxPooling2D) (None, 49, 49, 32)        0         \n",
      "_________________________________________________________________\n",
      "dropout (Dropout)            (None, 49, 49, 32)        0         \n",
      "_________________________________________________________________\n",
      "conv2d_1 (Conv2D)            (None, 47, 47, 64)        18496     \n",
      "_________________________________________________________________\n",
      "max_pooling2d_1 (MaxPooling2 (None, 23, 23, 64)        0         \n",
      "_________________________________________________________________\n",
      "dropout_1 (Dropout)          (None, 23, 23, 64)        0         \n",
      "_________________________________________________________________\n",
      "conv2d_2 (Conv2D)            (None, 21, 21, 64)        36928     \n",
      "_________________________________________________________________\n",
      "max_pooling2d_2 (MaxPooling2 (None, 10, 10, 64)        0         \n",
      "_________________________________________________________________\n",
      "dropout_2 (Dropout)          (None, 10, 10, 64)        0         \n",
      "_________________________________________________________________\n",
      "flatten (Flatten)            (None, 6400)              0         \n",
      "_________________________________________________________________\n",
      "dense (Dense)                (None, 64)                409664    \n",
      "_________________________________________________________________\n",
      "dropout_3 (Dropout)          (None, 64)                0         \n",
      "_________________________________________________________________\n",
      "dense_1 (Dense)              (None, 11)                715       \n",
      "=================================================================\n",
      "Total params: 466,699\n",
      "Trainable params: 466,699\n",
      "Non-trainable params: 0\n",
      "_________________________________________________________________\n"
     ]
    }
   ],
   "source": [
    "model_n2.summary()"
   ]
  },
  {
   "cell_type": "code",
   "execution_count": 29,
   "metadata": {
    "scrolled": true
   },
   "outputs": [
    {
     "data": {
      "text/plain": [
       "<matplotlib.legend.Legend at 0x1f080663b50>"
      ]
     },
     "execution_count": 29,
     "metadata": {},
     "output_type": "execute_result"
    },
    {
     "data": {
      "image/png": "[encoded data removed]",
      "text/plain": [
       "<Figure size 432x288 with 1 Axes>"
      ]
     },
     "metadata": {
      "needs_background": "light"
     },
     "output_type": "display_data"
    }
   ],
   "source": [
    "# GERANDO GRÁFICO COM RESULTADOS DAS ACURÁCIAS DE TREINO E VALIDAÇÃO #\n",
    "\n",
    "plt.plot(history['accuracy'], label='accuracy_train')\n",
    "plt.plot(history['val_accuracy'], label = 'accuracy_valid')\n",
    "plt.xlabel('Epoch')\n",
    "plt.ylabel('Accuracy')\n",
    "plt.ylim([0, 1])\n",
    "plt.legend(loc='lower right')"
   ]
  },
  {
   "cell_type": "markdown",
   "metadata": {},
   "source": [
    "Trocar dados de teste e validação durante treino.\n",
    "\n",
    "Esperado que a curva de acc_valid com essa troca esteja mais próxima da curva de acc_train."
   ]
  },
  {
   "cell_type": "code",
   "execution_count": 30,
   "metadata": {},
   "outputs": [
    {
     "data": {
      "text/plain": [
       "<matplotlib.legend.Legend at 0x1f080632fa0>"
      ]
     },
     "execution_count": 30,
     "metadata": {},
     "output_type": "execute_result"
    },
    {
     "data": {
      "image/png": "[encoded data removed]",
      "text/plain": [
       "<Figure size 432x288 with 1 Axes>"
      ]
     },
     "metadata": {
      "needs_background": "light"
     },
     "output_type": "display_data"
    }
   ],
   "source": [
    "# GERANDO GRÁFICO COM RESULTADOS DO LOSS DE TREINO E VALIDAÇÃO #\n",
    "\n",
    "plt.plot(history['loss'], label='loss train')\n",
    "plt.plot(history['val_loss'], label='loss val')\n",
    "plt.xlabel('Epoch')\n",
    "plt.ylabel('Loss')\n",
    "plt.ylim([0, 3])\n",
    "plt.legend(loc='lower right')"
   ]
  },
  {
   "cell_type": "code",
   "execution_count": 31,
   "metadata": {},
   "outputs": [
    {
     "name": "stdout",
     "output_type": "stream",
     "text": [
      "Found 604 images belonging to 11 classes.\n"
     ]
    }
   ],
   "source": [
    "datagen_test =  ImageDataGenerator(rescale = 1./255) # comando para reescala das imagens de teste\n",
    "\n",
    "# imagens de teste\n",
    "\n",
    "test_data          = datagen_test.flow_from_directory(directory='dataset_smkt/test',\n",
    "                                                      target_size = (100, 100),\n",
    "                                                      batch_size = 64,\n",
    "                                                      shuffle=False)"
   ]
  },
  {
   "cell_type": "code",
   "execution_count": 32,
   "metadata": {},
   "outputs": [
    {
     "name": "stdout",
     "output_type": "stream",
     "text": [
      "10/10 [==============================] - 7s 642ms/step - loss: 0.4143 - accuracy: 0.8907\n",
      "acurácia nos dados de teste: 0.8907284736633301\n",
      "loss dos dados de teste: 0.41432124376296997\n"
     ]
    }
   ],
   "source": [
    "# DEFININDO COMANDO PARA AVALIAR O DESEMPENHO DO MODELO NAS IMAGENS DE TESTE #\n",
    "\n",
    "test_loss, test_acc = model_n2.evaluate(test_data) # verificar versão do Keras\n",
    "\n",
    "print(\"acurácia nos dados de teste:\", test_acc)\n",
    "print(\"loss dos dados de teste:\", test_loss)"
   ]
  },
  {
   "cell_type": "code",
   "execution_count": 33,
   "metadata": {},
   "outputs": [
    {
     "name": "stdout",
     "output_type": "stream",
     "text": [
      "(604,)\n",
      "Accuracy\n",
      "0.890728476821192\n",
      "Balanced Accuracy\n",
      "0.8970339923518182\n",
      "Confusion Matrix\n",
      "[[54  0  0  0  0  0  6  3  1  0  0]\n",
      " [ 0 37  0  0  0  0  0  0  0  0 10]\n",
      " [ 0  0 51  0  1  0  0  0  0  0  0]\n",
      " [ 0  0  0 32  0  0  0  0  0  0  0]\n",
      " [ 8  0  1  0 66  0  0  0  0  0  0]\n",
      " [ 0  0  0  0  0 23  0  0  0  0  0]\n",
      " [10  0  0  0  0  0 54  0  0  0  0]\n",
      " [ 3  0  0  0  0  0  8 37  0  0  0]\n",
      " [ 2  0  0  0  0  0  0  0 78  0  0]\n",
      " [ 0  0 11  0  0  0  0  1  0 49  0]\n",
      " [ 0  0  0  0  0  0  0  1  0  0 57]]\n",
      "Classification Report\n"
     ]
    }
   ],
   "source": [
    "Y_pred = model_n2.predict(test_data)\n",
    "y_pred = np.argmax(Y_pred, axis=1)\n",
    "\n",
    "print(y_pred.shape)\n",
    "\n",
    "print('Accuracy')\n",
    "print(accuracy_score(test_data.classes,y_pred))\n",
    "\n",
    "print('Balanced Accuracy')\n",
    "print(balanced_accuracy_score(test_data.classes,y_pred))\n",
    "\n",
    "print('Confusion Matrix')\n",
    "print(confusion_matrix(test_data.classes, y_pred))\n",
    "print('Classification Report')"
   ]
  },
  {
   "cell_type": "markdown",
   "metadata": {},
   "source": [
    "## Terceira estratégia: 80% treino e 20% teste"
   ]
  },
  {
   "cell_type": "code",
   "execution_count": 34,
   "metadata": {},
   "outputs": [],
   "source": [
    "# Criando modelo\n",
    "\n",
    "model_n3 = keras.models.load_model('model_base.h5')"
   ]
  },
  {
   "cell_type": "code",
   "execution_count": 35,
   "metadata": {},
   "outputs": [],
   "source": [
    "model_n3.compile(optimizer='adam',\n",
    "              loss=tf.keras.losses.CategoricalCrossentropy(\n",
    "                  from_logits=False,\n",
    "                  label_smoothing=0,                            #configurações da função loss\n",
    "                  reduction=\"auto\",\n",
    "                  name=\"categorical_crossentropy\"),\n",
    "              metrics=['accuracy'])"
   ]
  },
  {
   "cell_type": "code",
   "execution_count": 36,
   "metadata": {},
   "outputs": [
    {
     "name": "stdout",
     "output_type": "stream",
     "text": [
      "Criando particionamento\n",
      "\t 169 \t+ 43 \t= 212 \t -> apple1\n",
      "\t 124 \t+ 31 \t= 155 \t -> granny_smith_apple\n",
      "\t 136 \t+ 35 \t= 171 \t -> kiwi\n",
      "\t 84 \t+ 22 \t= 106 \t -> lime\n",
      "\t 197 \t+ 50 \t= 247 \t -> nectarine\n",
      "\t 60 \t+ 15 \t= 75 \t -> onion\n",
      "\t 168 \t+ 43 \t= 211 \t -> peach\n",
      "\t 127 \t+ 32 \t= 159 \t -> pear\n",
      "\t 211 \t+ 53 \t= 264 \t -> plum\n",
      "\t 160 \t+ 41 \t= 201 \t -> potato\n",
      "\t 153 \t+ 39 \t= 192 \t -> watermelon\n",
      "Particionamento criado com sucesso!\n"
     ]
    }
   ],
   "source": [
    "criar_treino_teste('./dataset_smkt/', 0.2)"
   ]
  },
  {
   "cell_type": "code",
   "execution_count": 37,
   "metadata": {},
   "outputs": [
    {
     "name": "stdout",
     "output_type": "stream",
     "text": [
      "Found 1194 images belonging to 11 classes.\n",
      "Found 395 images belonging to 11 classes.\n"
     ]
    }
   ],
   "source": [
    "# DIVIDIR AS IMAGENS EM PARTIÇÃO DE TREINO E VALIDAÇÃO, UTILIZANDO O IMAGEDATAGENERATOR #\n",
    "\n",
    "datagen =  ImageDataGenerator(rescale = 1./255, validation_split=0.25) # comando para reescala + divisão em 20% para validação\n",
    "\n",
    "# imagens de treino (75%) \n",
    "\n",
    "train_data = datagen.flow_from_directory('dataset_smkt/train', \n",
    "                                         subset = 'training',\n",
    "                                         batch_size = 64,\n",
    "                                         shuffle = True,\n",
    "                                         target_size = (100, 100)) # definindo tamanho das imagens\n",
    "\n",
    "# imagens de validação (25%)\n",
    "\n",
    "valid_data = datagen.flow_from_directory('dataset_smkt/train',\n",
    "                                         subset='validation',\n",
    "                                         batch_size = 64,\n",
    "                                         shuffle = True,\n",
    "                                         target_size = (100, 100))"
   ]
  },
  {
   "cell_type": "code",
   "execution_count": 38,
   "metadata": {},
   "outputs": [
    {
     "name": "stdout",
     "output_type": "stream",
     "text": [
      "Epoch 1/100\n",
      "19/19 [==============================] - 28s 1s/step - loss: 2.5039 - accuracy: 0.1131 - val_loss: 2.3948 - val_accuracy: 0.1316\n",
      "Epoch 2/100\n",
      "19/19 [==============================] - 24s 1s/step - loss: 2.3878 - accuracy: 0.1290 - val_loss: 2.3854 - val_accuracy: 0.1316\n",
      "Epoch 3/100\n",
      "19/19 [==============================] - 25s 1s/step - loss: 2.3616 - accuracy: 0.1189 - val_loss: 2.3716 - val_accuracy: 0.1316\n",
      "Epoch 4/100\n",
      "19/19 [==============================] - 25s 1s/step - loss: 2.3116 - accuracy: 0.1541 - val_loss: 2.3109 - val_accuracy: 0.1671\n",
      "Epoch 5/100\n",
      "19/19 [==============================] - 24s 1s/step - loss: 2.2251 - accuracy: 0.2044 - val_loss: 2.2775 - val_accuracy: 0.2557\n",
      "Epoch 6/100\n",
      "19/19 [==============================] - 25s 1s/step - loss: 2.1588 - accuracy: 0.2312 - val_loss: 2.2038 - val_accuracy: 0.2886\n",
      "Epoch 7/100\n",
      "19/19 [==============================] - 24s 1s/step - loss: 2.1052 - accuracy: 0.2454 - val_loss: 2.1717 - val_accuracy: 0.3139\n",
      "Epoch 8/100\n",
      "19/19 [==============================] - 25s 1s/step - loss: 2.0947 - accuracy: 0.2395 - val_loss: 2.1957 - val_accuracy: 0.2684\n",
      "Epoch 9/100\n",
      "19/19 [==============================] - 24s 1s/step - loss: 1.9637 - accuracy: 0.2596 - val_loss: 2.0019 - val_accuracy: 0.2734\n",
      "Epoch 10/100\n",
      "19/19 [==============================] - 24s 1s/step - loss: 1.8886 - accuracy: 0.2956 - val_loss: 1.9181 - val_accuracy: 0.2557\n",
      "Epoch 11/100\n",
      "19/19 [==============================] - 25s 1s/step - loss: 1.8406 - accuracy: 0.2973 - val_loss: 1.8985 - val_accuracy: 0.2380\n",
      "Epoch 12/100\n",
      "19/19 [==============================] - 24s 1s/step - loss: 1.7447 - accuracy: 0.3183 - val_loss: 1.7577 - val_accuracy: 0.4430\n",
      "Epoch 13/100\n",
      "19/19 [==============================] - 25s 1s/step - loss: 1.7191 - accuracy: 0.3291 - val_loss: 1.7005 - val_accuracy: 0.4430\n",
      "Epoch 14/100\n",
      "19/19 [==============================] - 24s 1s/step - loss: 1.6574 - accuracy: 0.3409 - val_loss: 1.6221 - val_accuracy: 0.4380\n",
      "Epoch 15/100\n",
      "19/19 [==============================] - 24s 1s/step - loss: 1.5885 - accuracy: 0.3794 - val_loss: 1.5938 - val_accuracy: 0.4608\n",
      "Epoch 16/100\n",
      "19/19 [==============================] - 25s 1s/step - loss: 1.6196 - accuracy: 0.3677 - val_loss: 1.5133 - val_accuracy: 0.5747\n",
      "Epoch 17/100\n",
      "19/19 [==============================] - 24s 1s/step - loss: 1.5727 - accuracy: 0.3827 - val_loss: 1.5412 - val_accuracy: 0.4937\n",
      "Epoch 18/100\n",
      "19/19 [==============================] - 25s 1s/step - loss: 1.5194 - accuracy: 0.4104 - val_loss: 1.5196 - val_accuracy: 0.5570\n",
      "Epoch 19/100\n",
      "19/19 [==============================] - 24s 1s/step - loss: 1.4818 - accuracy: 0.4305 - val_loss: 1.5264 - val_accuracy: 0.5139\n",
      "Epoch 20/100\n",
      "19/19 [==============================] - 24s 1s/step - loss: 1.4051 - accuracy: 0.4397 - val_loss: 1.5463 - val_accuracy: 0.4532\n",
      "Epoch 21/100\n",
      "19/19 [==============================] - 25s 1s/step - loss: 1.4686 - accuracy: 0.4179 - val_loss: 1.6051 - val_accuracy: 0.4101\n",
      "Epoch 22/100\n",
      "19/19 [==============================] - 24s 1s/step - loss: 1.4171 - accuracy: 0.4447 - val_loss: 1.3572 - val_accuracy: 0.6101\n",
      "Epoch 23/100\n",
      "19/19 [==============================] - 25s 1s/step - loss: 1.3854 - accuracy: 0.4690 - val_loss: 1.3281 - val_accuracy: 0.5797\n",
      "Epoch 24/100\n",
      "19/19 [==============================] - 24s 1s/step - loss: 1.3681 - accuracy: 0.4841 - val_loss: 1.3300 - val_accuracy: 0.5544\n",
      "Epoch 25/100\n",
      "19/19 [==============================] - 24s 1s/step - loss: 1.3112 - accuracy: 0.5042 - val_loss: 1.3654 - val_accuracy: 0.5392\n",
      "Epoch 26/100\n",
      "19/19 [==============================] - 25s 1s/step - loss: 1.3179 - accuracy: 0.4933 - val_loss: 1.3348 - val_accuracy: 0.5570\n",
      "Epoch 27/100\n",
      "19/19 [==============================] - 24s 1s/step - loss: 1.2950 - accuracy: 0.4992 - val_loss: 1.2368 - val_accuracy: 0.6101\n",
      "Epoch 28/100\n",
      "19/19 [==============================] - 25s 1s/step - loss: 1.2503 - accuracy: 0.5176 - val_loss: 1.3642 - val_accuracy: 0.5848\n",
      "Epoch 29/100\n",
      "19/19 [==============================] - 24s 1s/step - loss: 1.1599 - accuracy: 0.5553 - val_loss: 1.2742 - val_accuracy: 0.6228\n",
      "Epoch 30/100\n",
      "19/19 [==============================] - 24s 1s/step - loss: 1.1801 - accuracy: 0.5285 - val_loss: 1.4773 - val_accuracy: 0.4506\n",
      "Epoch 31/100\n",
      "19/19 [==============================] - 25s 1s/step - loss: 1.1864 - accuracy: 0.5318 - val_loss: 1.4351 - val_accuracy: 0.5975\n",
      "Epoch 32/100\n",
      "19/19 [==============================] - 24s 1s/step - loss: 1.1434 - accuracy: 0.5469 - val_loss: 1.4899 - val_accuracy: 0.6101\n",
      "Epoch 33/100\n",
      "19/19 [==============================] - 25s 1s/step - loss: 1.1278 - accuracy: 0.5461 - val_loss: 1.2646 - val_accuracy: 0.5949\n",
      "Epoch 34/100\n",
      "19/19 [==============================] - 24s 1s/step - loss: 1.1464 - accuracy: 0.5544 - val_loss: 1.6135 - val_accuracy: 0.6582\n",
      "Epoch 35/100\n",
      "19/19 [==============================] - 24s 1s/step - loss: 1.1103 - accuracy: 0.5603 - val_loss: 1.5247 - val_accuracy: 0.6405\n",
      "Epoch 36/100\n",
      "19/19 [==============================] - 24s 1s/step - loss: 1.1401 - accuracy: 0.5603 - val_loss: 1.3441 - val_accuracy: 0.6278\n",
      "Epoch 37/100\n",
      "19/19 [==============================] - 24s 1s/step - loss: 1.1109 - accuracy: 0.5586 - val_loss: 1.2119 - val_accuracy: 0.6228\n",
      "Epoch 38/100\n",
      "19/19 [==============================] - 25s 1s/step - loss: 1.1426 - accuracy: 0.5436 - val_loss: 1.2346 - val_accuracy: 0.6000\n",
      "Epoch 39/100\n",
      "19/19 [==============================] - 24s 1s/step - loss: 1.0824 - accuracy: 0.5695 - val_loss: 1.4800 - val_accuracy: 0.6456\n",
      "Epoch 40/100\n",
      "19/19 [==============================] - 25s 1s/step - loss: 1.1537 - accuracy: 0.5486 - val_loss: 1.4809 - val_accuracy: 0.5519\n",
      "Epoch 41/100\n",
      "19/19 [==============================] - 24s 1s/step - loss: 1.1826 - accuracy: 0.5528 - val_loss: 1.2879 - val_accuracy: 0.5975\n",
      "Epoch 42/100\n",
      "19/19 [==============================] - 24s 1s/step - loss: 1.0680 - accuracy: 0.5879 - val_loss: 1.3630 - val_accuracy: 0.6278\n",
      "Epoch 43/100\n",
      "19/19 [==============================] - 25s 1s/step - loss: 1.0002 - accuracy: 0.6039 - val_loss: 1.3958 - val_accuracy: 0.6329\n",
      "Epoch 44/100\n",
      "19/19 [==============================] - 24s 1s/step - loss: 1.0288 - accuracy: 0.5888 - val_loss: 1.7196 - val_accuracy: 0.6278\n",
      "Epoch 45/100\n",
      "19/19 [==============================] - 25s 1s/step - loss: 1.0385 - accuracy: 0.5921 - val_loss: 1.6692 - val_accuracy: 0.6127\n",
      "Epoch 46/100\n",
      "19/19 [==============================] - 24s 1s/step - loss: 1.0076 - accuracy: 0.5980 - val_loss: 1.3049 - val_accuracy: 0.6532\n",
      "Epoch 47/100\n",
      "19/19 [==============================] - 24s 1s/step - loss: 0.9775 - accuracy: 0.6122 - val_loss: 1.4191 - val_accuracy: 0.6633\n",
      "Epoch 48/100\n",
      "19/19 [==============================] - 25s 1s/step - loss: 1.0228 - accuracy: 0.5921 - val_loss: 1.5232 - val_accuracy: 0.6304\n",
      "Epoch 49/100\n",
      "19/19 [==============================] - 24s 1s/step - loss: 0.9511 - accuracy: 0.6214 - val_loss: 1.6004 - val_accuracy: 0.5873\n",
      "Epoch 50/100\n",
      "19/19 [==============================] - 25s 1s/step - loss: 0.9562 - accuracy: 0.6089 - val_loss: 1.3360 - val_accuracy: 0.6101\n",
      "Epoch 51/100\n",
      "19/19 [==============================] - 24s 1s/step - loss: 0.9144 - accuracy: 0.6256 - val_loss: 1.5242 - val_accuracy: 0.6000\n",
      "Epoch 52/100\n",
      "19/19 [==============================] - 25s 1s/step - loss: 0.9378 - accuracy: 0.6080 - val_loss: 1.4798 - val_accuracy: 0.6304\n",
      "Epoch 53/100\n",
      "19/19 [==============================] - 25s 1s/step - loss: 0.9177 - accuracy: 0.6189 - val_loss: 1.7976 - val_accuracy: 0.6304\n",
      "Epoch 54/100\n",
      "19/19 [==============================] - 24s 1s/step - loss: 0.9420 - accuracy: 0.6189 - val_loss: 1.4036 - val_accuracy: 0.6608\n",
      "Epoch 55/100\n",
      "19/19 [==============================] - 25s 1s/step - loss: 0.9932 - accuracy: 0.5955 - val_loss: 1.2518 - val_accuracy: 0.6481\n",
      "Epoch 56/100\n",
      "19/19 [==============================] - 24s 1s/step - loss: 0.9334 - accuracy: 0.6340 - val_loss: 1.2997 - val_accuracy: 0.6203\n",
      "Epoch 57/100\n",
      "19/19 [==============================] - 25s 1s/step - loss: 0.9157 - accuracy: 0.6340 - val_loss: 1.8575 - val_accuracy: 0.6785\n",
      "Epoch 58/100\n",
      "19/19 [==============================] - 25s 1s/step - loss: 0.9257 - accuracy: 0.6365 - val_loss: 1.4290 - val_accuracy: 0.6456\n"
     ]
    },
    {
     "name": "stdout",
     "output_type": "stream",
     "text": [
      "Epoch 59/100\n",
      "19/19 [==============================] - 24s 1s/step - loss: 0.8893 - accuracy: 0.6558 - val_loss: 1.5584 - val_accuracy: 0.6354\n",
      "Epoch 60/100\n",
      "19/19 [==============================] - 26s 1s/step - loss: 0.9669 - accuracy: 0.6415 - val_loss: 1.9306 - val_accuracy: 0.6076\n",
      "Epoch 61/100\n",
      "19/19 [==============================] - 24s 1s/step - loss: 0.8792 - accuracy: 0.6491 - val_loss: 1.5171 - val_accuracy: 0.5873\n",
      "Epoch 62/100\n",
      "19/19 [==============================] - 25s 1s/step - loss: 0.8808 - accuracy: 0.6357 - val_loss: 1.4341 - val_accuracy: 0.6076\n",
      "Epoch 63/100\n",
      "19/19 [==============================] - 25s 1s/step - loss: 0.8219 - accuracy: 0.6667 - val_loss: 1.4901 - val_accuracy: 0.6354\n",
      "Epoch 64/100\n",
      "19/19 [==============================] - 24s 1s/step - loss: 0.8709 - accuracy: 0.6767 - val_loss: 1.4588 - val_accuracy: 0.6051\n",
      "Epoch 65/100\n",
      "19/19 [==============================] - 25s 1s/step - loss: 0.8305 - accuracy: 0.6767 - val_loss: 1.6254 - val_accuracy: 0.5494\n",
      "Epoch 66/100\n",
      "19/19 [==============================] - 24s 1s/step - loss: 0.7838 - accuracy: 0.7002 - val_loss: 1.6921 - val_accuracy: 0.7114\n",
      "Epoch 67/100\n",
      "19/19 [==============================] - 25s 1s/step - loss: 0.7734 - accuracy: 0.7035 - val_loss: 1.3711 - val_accuracy: 0.6582\n",
      "Epoch 68/100\n",
      "19/19 [==============================] - 24s 1s/step - loss: 0.7194 - accuracy: 0.7077 - val_loss: 1.5772 - val_accuracy: 0.6253\n",
      "Epoch 69/100\n",
      "19/19 [==============================] - 24s 1s/step - loss: 0.6923 - accuracy: 0.7203 - val_loss: 1.5642 - val_accuracy: 0.6101\n",
      "Epoch 70/100\n",
      "19/19 [==============================] - 25s 1s/step - loss: 0.6484 - accuracy: 0.7353 - val_loss: 1.7078 - val_accuracy: 0.5924\n",
      "Epoch 71/100\n",
      "19/19 [==============================] - 24s 1s/step - loss: 0.6262 - accuracy: 0.7554 - val_loss: 1.6242 - val_accuracy: 0.5696\n",
      "Epoch 72/100\n",
      "19/19 [==============================] - 26s 1s/step - loss: 0.6633 - accuracy: 0.7387 - val_loss: 1.2849 - val_accuracy: 0.6430\n",
      "Epoch 73/100\n",
      "19/19 [==============================] - 24s 1s/step - loss: 0.6621 - accuracy: 0.7395 - val_loss: 1.3775 - val_accuracy: 0.6734\n",
      "Epoch 74/100\n",
      "19/19 [==============================] - 25s 1s/step - loss: 0.6510 - accuracy: 0.7446 - val_loss: 1.3161 - val_accuracy: 0.6278\n",
      "Epoch 75/100\n",
      "19/19 [==============================] - 25s 1s/step - loss: 0.6354 - accuracy: 0.7513 - val_loss: 1.4720 - val_accuracy: 0.6127\n",
      "Epoch 76/100\n",
      "19/19 [==============================] - 24s 1s/step - loss: 0.6524 - accuracy: 0.7420 - val_loss: 1.5532 - val_accuracy: 0.6532\n",
      "Epoch 77/100\n",
      "19/19 [==============================] - 25s 1s/step - loss: 0.6047 - accuracy: 0.7554 - val_loss: 1.3740 - val_accuracy: 0.6810\n",
      "Epoch 78/100\n",
      "19/19 [==============================] - 24s 1s/step - loss: 0.5753 - accuracy: 0.7638 - val_loss: 1.4051 - val_accuracy: 0.6380\n",
      "Epoch 79/100\n",
      "19/19 [==============================] - 25s 1s/step - loss: 0.5951 - accuracy: 0.7479 - val_loss: 1.5557 - val_accuracy: 0.6405\n",
      "Epoch 80/100\n",
      "19/19 [==============================] - 25s 1s/step - loss: 0.6027 - accuracy: 0.7680 - val_loss: 1.4800 - val_accuracy: 0.6481\n",
      "Epoch 81/100\n",
      "19/19 [==============================] - 24s 1s/step - loss: 0.6185 - accuracy: 0.7487 - val_loss: 1.5613 - val_accuracy: 0.6456\n",
      "Epoch 82/100\n",
      "19/19 [==============================] - 25s 1s/step - loss: 0.5863 - accuracy: 0.7705 - val_loss: 1.4482 - val_accuracy: 0.6354\n",
      "Epoch 83/100\n",
      "19/19 [==============================] - 24s 1s/step - loss: 0.5621 - accuracy: 0.7680 - val_loss: 1.4330 - val_accuracy: 0.6101\n",
      "Epoch 84/100\n",
      "19/19 [==============================] - 25s 1s/step - loss: 0.5699 - accuracy: 0.7730 - val_loss: 1.4627 - val_accuracy: 0.7241\n",
      "Epoch 85/100\n",
      "19/19 [==============================] - 25s 1s/step - loss: 0.5536 - accuracy: 0.7739 - val_loss: 1.8746 - val_accuracy: 0.5797\n",
      "Epoch 86/100\n",
      "19/19 [==============================] - 24s 1s/step - loss: 0.5497 - accuracy: 0.7856 - val_loss: 1.2442 - val_accuracy: 0.6354\n",
      "Epoch 87/100\n",
      "19/19 [==============================] - 25s 1s/step - loss: 0.5310 - accuracy: 0.7889 - val_loss: 1.8815 - val_accuracy: 0.5949\n",
      "Epoch 88/100\n",
      "19/19 [==============================] - 24s 1s/step - loss: 0.6483 - accuracy: 0.7462 - val_loss: 1.4545 - val_accuracy: 0.6987\n",
      "Epoch 89/100\n",
      "19/19 [==============================] - 25s 1s/step - loss: 0.5261 - accuracy: 0.7998 - val_loss: 1.2888 - val_accuracy: 0.6684\n",
      "Epoch 90/100\n",
      "19/19 [==============================] - 24s 1s/step - loss: 0.5131 - accuracy: 0.7931 - val_loss: 1.6552 - val_accuracy: 0.6051\n",
      "Epoch 91/100\n",
      "19/19 [==============================] - 25s 1s/step - loss: 0.5583 - accuracy: 0.7697 - val_loss: 1.2897 - val_accuracy: 0.7063\n",
      "Epoch 92/100\n",
      "19/19 [==============================] - 25s 1s/step - loss: 0.5678 - accuracy: 0.7814 - val_loss: 1.5801 - val_accuracy: 0.6835\n",
      "Epoch 93/100\n",
      "19/19 [==============================] - 24s 1s/step - loss: 0.5430 - accuracy: 0.7680 - val_loss: 1.2324 - val_accuracy: 0.6557\n",
      "Epoch 94/100\n",
      "19/19 [==============================] - 25s 1s/step - loss: 0.5241 - accuracy: 0.7948 - val_loss: 1.6923 - val_accuracy: 0.6000\n",
      "Epoch 95/100\n",
      "19/19 [==============================] - 24s 1s/step - loss: 0.5476 - accuracy: 0.7663 - val_loss: 1.4388 - val_accuracy: 0.6987\n",
      "Epoch 96/100\n",
      "19/19 [==============================] - 25s 1s/step - loss: 0.5078 - accuracy: 0.8057 - val_loss: 1.3352 - val_accuracy: 0.6278\n",
      "Epoch 97/100\n",
      "19/19 [==============================] - 25s 1s/step - loss: 0.4993 - accuracy: 0.7923 - val_loss: 1.4087 - val_accuracy: 0.6810\n",
      "Epoch 98/100\n",
      "19/19 [==============================] - 24s 1s/step - loss: 0.5109 - accuracy: 0.7915 - val_loss: 1.8148 - val_accuracy: 0.6759\n",
      "Epoch 99/100\n",
      "19/19 [==============================] - 25s 1s/step - loss: 0.4974 - accuracy: 0.7898 - val_loss: 1.5623 - val_accuracy: 0.6658\n",
      "Epoch 100/100\n",
      "19/19 [==============================] - 24s 1s/step - loss: 0.4918 - accuracy: 0.7923 - val_loss: 1.6479 - val_accuracy: 0.6101\n"
     ]
    }
   ],
   "source": [
    "# INÍCIO DO TREINO DO MODELO #\n",
    "\n",
    "history = model_n3.fit(train_data,\n",
    "                    epochs=100,\n",
    "                    validation_data=valid_data)\n",
    "\n",
    "# informação: steps_per_epoch = número de imagens / batch_size"
   ]
  },
  {
   "cell_type": "code",
   "execution_count": 39,
   "metadata": {},
   "outputs": [],
   "source": [
    "model_n3.save('model_n3.h5',\n",
    "          overwrite = True) \n",
    "del model_n3\n",
    "\n",
    "with open('trainHistoryDict_model_n3', 'wb') as file_pi:\n",
    "        pickle.dump(history.history, file_pi)"
   ]
  },
  {
   "cell_type": "code",
   "execution_count": 40,
   "metadata": {},
   "outputs": [],
   "source": [
    "model_n3 = keras.models.load_model('model_n3.h5')\n",
    "history = pickle.load(open('trainHistoryDict_model_n3', \"rb\"))"
   ]
  },
  {
   "cell_type": "code",
   "execution_count": 41,
   "metadata": {},
   "outputs": [
    {
     "name": "stdout",
     "output_type": "stream",
     "text": [
      "Model: \"sequential\"\n",
      "_________________________________________________________________\n",
      "Layer (type)                 Output Shape              Param #   \n",
      "=================================================================\n",
      "conv2d (Conv2D)              (None, 98, 98, 32)        896       \n",
      "_________________________________________________________________\n",
      "max_pooling2d (MaxPooling2D) (None, 49, 49, 32)        0         \n",
      "_________________________________________________________________\n",
      "dropout (Dropout)            (None, 49, 49, 32)        0         \n",
      "_________________________________________________________________\n",
      "conv2d_1 (Conv2D)            (None, 47, 47, 64)        18496     \n",
      "_________________________________________________________________\n",
      "max_pooling2d_1 (MaxPooling2 (None, 23, 23, 64)        0         \n",
      "_________________________________________________________________\n",
      "dropout_1 (Dropout)          (None, 23, 23, 64)        0         \n",
      "_________________________________________________________________\n",
      "conv2d_2 (Conv2D)            (None, 21, 21, 64)        36928     \n",
      "_________________________________________________________________\n",
      "max_pooling2d_2 (MaxPooling2 (None, 10, 10, 64)        0         \n",
      "_________________________________________________________________\n",
      "dropout_2 (Dropout)          (None, 10, 10, 64)        0         \n",
      "_________________________________________________________________\n",
      "flatten (Flatten)            (None, 6400)              0         \n",
      "_________________________________________________________________\n",
      "dense (Dense)                (None, 64)                409664    \n",
      "_________________________________________________________________\n",
      "dropout_3 (Dropout)          (None, 64)                0         \n",
      "_________________________________________________________________\n",
      "dense_1 (Dense)              (None, 11)                715       \n",
      "=================================================================\n",
      "Total params: 466,699\n",
      "Trainable params: 466,699\n",
      "Non-trainable params: 0\n",
      "_________________________________________________________________\n"
     ]
    }
   ],
   "source": [
    "model_n3.summary()"
   ]
  },
  {
   "cell_type": "code",
   "execution_count": 42,
   "metadata": {},
   "outputs": [
    {
     "data": {
      "text/plain": [
       "<matplotlib.legend.Legend at 0x1f0822a1850>"
      ]
     },
     "execution_count": 42,
     "metadata": {},
     "output_type": "execute_result"
    },
    {
     "data": {
      "image/png": "[encoded data removed]",
      "text/plain": [
       "<Figure size 432x288 with 1 Axes>"
      ]
     },
     "metadata": {
      "needs_background": "light"
     },
     "output_type": "display_data"
    }
   ],
   "source": [
    "# GERANDO GRÁFICO COM RESULTADOS DAS ACURÁCIAS DE TREINO E VALIDAÇÃO #\n",
    "\n",
    "plt.plot(history['accuracy'], label='accuracy_train')\n",
    "plt.plot(history['val_accuracy'], label = 'accuracy_valid')\n",
    "plt.xlabel('Epoch')\n",
    "plt.ylabel('Accuracy')\n",
    "plt.ylim([0, 1])\n",
    "plt.legend(loc='lower right')"
   ]
  },
  {
   "cell_type": "code",
   "execution_count": 43,
   "metadata": {},
   "outputs": [
    {
     "data": {
      "text/plain": [
       "<matplotlib.legend.Legend at 0x1f0822cde80>"
      ]
     },
     "execution_count": 43,
     "metadata": {},
     "output_type": "execute_result"
    },
    {
     "data": {
      "image/png": "[encoded data removed]",
      "text/plain": [
       "<Figure size 432x288 with 1 Axes>"
      ]
     },
     "metadata": {
      "needs_background": "light"
     },
     "output_type": "display_data"
    }
   ],
   "source": [
    "# GERANDO GRÁFICO COM RESULTADOS DO LOSS DE TREINO E VALIDAÇÃO #\n",
    "\n",
    "plt.plot(history['loss'], label='loss train')\n",
    "plt.plot(history['val_loss'], label='loss val')\n",
    "plt.xlabel('Epoch')\n",
    "plt.ylabel('Loss')\n",
    "plt.ylim([0, 3])\n",
    "plt.legend(loc='lower right')"
   ]
  },
  {
   "cell_type": "code",
   "execution_count": 44,
   "metadata": {},
   "outputs": [
    {
     "name": "stdout",
     "output_type": "stream",
     "text": [
      "Found 404 images belonging to 11 classes.\n"
     ]
    }
   ],
   "source": [
    "datagen_test =  ImageDataGenerator(rescale = 1./255) # comando para reescala das imagens de teste\n",
    "\n",
    "# imagens de teste\n",
    "\n",
    "test_data = datagen_test.flow_from_directory(directory='dataset_smkt/test',\n",
    "                                                      target_size = (100, 100),\n",
    "                                                      batch_size = 64,\n",
    "                                                      shuffle=False)"
   ]
  },
  {
   "cell_type": "code",
   "execution_count": 45,
   "metadata": {},
   "outputs": [
    {
     "name": "stdout",
     "output_type": "stream",
     "text": [
      "7/7 [==============================] - 4s 598ms/step - loss: 0.4939 - accuracy: 0.8515\n",
      "acurácia nos dados de teste: 0.8514851331710815\n",
      "loss dos dados de teste: 0.4939214587211609\n"
     ]
    }
   ],
   "source": [
    "# DEFININDO COMANDO PARA AVALIAR O DESEMPENHO DO MODELO NAS IMAGENS DE TESTE #\n",
    "\n",
    "test_loss, test_acc = model_n3.evaluate(test_data) # verificar versão do Keras\n",
    "\n",
    "print(\"acurácia nos dados de teste:\", test_acc)\n",
    "print(\"loss dos dados de teste:\", test_loss)"
   ]
  },
  {
   "cell_type": "code",
   "execution_count": 46,
   "metadata": {},
   "outputs": [
    {
     "name": "stdout",
     "output_type": "stream",
     "text": [
      "(404,)\n",
      "Accuracy\n",
      "0.8514851485148515\n",
      "Balanced Accuracy\n",
      "0.8032169317978604\n",
      "Confusion Matrix\n",
      "[[39  0  0  0  1  0  3  0  0  0  0]\n",
      " [ 0 25  1  0  0  0  0  0  0  0  5]\n",
      " [ 0  0 29  0  5  0  0  0  1  0  0]\n",
      " [ 0  0  0 22  0  0  0  0  0  0  0]\n",
      " [ 2  0  2  0 45  0  0  0  1  0  0]\n",
      " [ 0  0  0  0  0  0  0  0  0 15  0]\n",
      " [ 5  0  0  0  0  0 38  0  0  0  0]\n",
      " [ 0  0  1  0  2  0  1 28  0  0  0]\n",
      " [ 0  0  1  0  0  0  0  0 52  0  0]\n",
      " [ 0  0  6  0  0  0  0  4  0 31  0]\n",
      " [ 0  3  1  0  0  0  0  0  0  0 35]]\n",
      "Classification Report\n"
     ]
    }
   ],
   "source": [
    "Y_pred = model_n3.predict(test_data)\n",
    "y_pred = np.argmax(Y_pred, axis=1)\n",
    "\n",
    "print(y_pred.shape)\n",
    "\n",
    "print('Accuracy')\n",
    "print(accuracy_score(test_data.classes,y_pred))\n",
    "\n",
    "print('Balanced Accuracy')\n",
    "print(balanced_accuracy_score(test_data.classes,y_pred))\n",
    "\n",
    "print('Confusion Matrix')\n",
    "print(confusion_matrix(test_data.classes, y_pred))\n",
    "print('Classification Report')"
   ]
  },
  {
   "cell_type": "markdown",
   "metadata": {},
   "source": [
    "#### Referência:\n",
    "\n",
    "ROCHA, A. et al. Automatic fruit and vegetable classification from images. Computers and Electronics in Agriculture, v. 70, n. 1, p. 96-104, 2010."
   ]
  },
  {
   "cell_type": "code",
   "execution_count": null,
   "metadata": {},
   "outputs": [],
   "source": []
  },
  {
   "cell_type": "code",
   "execution_count": null,
   "metadata": {},
   "outputs": [],
   "source": []
  },
  {
   "cell_type": "code",
   "execution_count": null,
   "metadata": {},
   "outputs": [],
   "source": []
  }
 ],
 "metadata": {
  "kernelspec": {
   "display_name": "Python 3",
   "language": "python",
   "name": "python3"
  },
  "language_info": {
   "codemirror_mode": {
    "name": "ipython",
    "version": 3
   },
   "file_extension": ".py",
   "mimetype": "text/x-python",
   "name": "python",
   "nbconvert_exporter": "python",
   "pygments_lexer": "ipython3",
   "version": "3.8.8"
  }
 },
 "nbformat": 4,
 "nbformat_minor": 4
}
